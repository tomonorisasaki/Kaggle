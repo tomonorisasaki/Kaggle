{
 "cells": [
  {
   "cell_type": "markdown",
   "id": "aab90e42",
   "metadata": {
    "papermill": {
     "duration": 0.063983,
     "end_time": "2022-12-12T21:34:07.420357",
     "exception": false,
     "start_time": "2022-12-12T21:34:07.356374",
     "status": "completed"
    },
    "tags": []
   },
   "source": [
    "# Set Up"
   ]
  },
  {
   "cell_type": "code",
   "execution_count": 1,
   "id": "3a85fc1e",
   "metadata": {
    "execution": {
     "iopub.execute_input": "2022-12-12T21:34:07.555042Z",
     "iopub.status.busy": "2022-12-12T21:34:07.554480Z",
     "iopub.status.idle": "2022-12-12T21:34:07.557591Z",
     "shell.execute_reply": "2022-12-12T21:34:07.558077Z",
     "shell.execute_reply.started": "2022-12-12T21:30:18.236354Z"
    },
    "papermill": {
     "duration": 0.074669,
     "end_time": "2022-12-12T21:34:07.558345",
     "exception": false,
     "start_time": "2022-12-12T21:34:07.483676",
     "status": "completed"
    },
    "tags": []
   },
   "outputs": [],
   "source": [
    "import warnings\n",
    "warnings.filterwarnings('ignore')"
   ]
  },
  {
   "cell_type": "code",
   "execution_count": 2,
   "id": "1b69f6da",
   "metadata": {
    "execution": {
     "iopub.execute_input": "2022-12-12T21:34:07.683985Z",
     "iopub.status.busy": "2022-12-12T21:34:07.683506Z",
     "iopub.status.idle": "2022-12-12T21:34:20.386162Z",
     "shell.execute_reply": "2022-12-12T21:34:20.385287Z",
     "shell.execute_reply.started": "2022-12-12T21:30:18.245473Z"
    },
    "papermill": {
     "duration": 12.765962,
     "end_time": "2022-12-12T21:34:20.386273",
     "exception": false,
     "start_time": "2022-12-12T21:34:07.620311",
     "status": "completed"
    },
    "tags": []
   },
   "outputs": [
    {
     "name": "stdout",
     "output_type": "stream",
     "text": [
      "Requirement already satisfied: scikit-learn in /opt/conda/lib/python3.7/site-packages (0.23.2)\r\n",
      "Collecting scikit-learn\r\n",
      "  Downloading scikit_learn-1.0.2-cp37-cp37m-manylinux_2_17_x86_64.manylinux2014_x86_64.whl (24.8 MB)\r\n",
      "\u001b[K     |████████████████████████████████| 24.8 MB 4.3 MB/s \r\n",
      "\u001b[?25hRequirement already satisfied: joblib>=0.11 in /opt/conda/lib/python3.7/site-packages (from scikit-learn) (1.0.1)\r\n",
      "Requirement already satisfied: threadpoolctl>=2.0.0 in /opt/conda/lib/python3.7/site-packages (from scikit-learn) (2.2.0)\r\n",
      "Requirement already satisfied: scipy>=1.1.0 in /opt/conda/lib/python3.7/site-packages (from scikit-learn) (1.7.1)\r\n",
      "Requirement already satisfied: numpy>=1.14.6 in /opt/conda/lib/python3.7/site-packages (from scikit-learn) (1.19.5)\r\n",
      "Installing collected packages: scikit-learn\r\n",
      "  Attempting uninstall: scikit-learn\r\n",
      "    Found existing installation: scikit-learn 0.23.2\r\n",
      "    Uninstalling scikit-learn-0.23.2:\r\n",
      "      Successfully uninstalled scikit-learn-0.23.2\r\n",
      "\u001b[31mERROR: pip's dependency resolver does not currently take into account all the packages that are installed. This behaviour is the source of the following dependency conflicts.\r\n",
      "pdpbox 0.2.1 requires matplotlib==3.1.1, but you have matplotlib 3.4.3 which is incompatible.\r\n",
      "hypertools 0.7.0 requires scikit-learn!=0.22,<0.24,>=0.19.1, but you have scikit-learn 1.0.2 which is incompatible.\u001b[0m\r\n",
      "Successfully installed scikit-learn-1.0.2\r\n",
      "\u001b[33mWARNING: Running pip as the 'root' user can result in broken permissions and conflicting behaviour with the system package manager. It is recommended to use a virtual environment instead: https://pip.pypa.io/warnings/venv\u001b[0m\r\n"
     ]
    }
   ],
   "source": [
    "!pip install --upgrade scikit-learn"
   ]
  },
  {
   "cell_type": "code",
   "execution_count": 3,
   "id": "6c7abf8f",
   "metadata": {
    "_cell_guid": "79c7e3d0-c299-4dcb-8224-4455121ee9b0",
    "_uuid": "d629ff2d2480ee46fbb7e2d37f6b5fab8052498a",
    "execution": {
     "iopub.execute_input": "2022-12-12T21:34:20.562275Z",
     "iopub.status.busy": "2022-12-12T21:34:20.554756Z",
     "iopub.status.idle": "2022-12-12T21:34:25.980007Z",
     "shell.execute_reply": "2022-12-12T21:34:25.980388Z",
     "shell.execute_reply.started": "2022-12-12T21:30:25.684973Z"
    },
    "papermill": {
     "duration": 5.510597,
     "end_time": "2022-12-12T21:34:25.980536",
     "exception": false,
     "start_time": "2022-12-12T21:34:20.469939",
     "status": "completed"
    },
    "tags": []
   },
   "outputs": [],
   "source": [
    "# linear algebra\n",
    "import numpy as np\n",
    "# data processing, CSV file I/O (e.g. pd.read_csv)\n",
    "import pandas as pd\n",
    "#Unix commands\n",
    "import os\n",
    "\n",
    "# import useful tools\n",
    "from glob import glob\n",
    "from PIL import Image\n",
    "from sklearn import tree\n",
    "import cv2\n",
    "import pydicom\n",
    "import pickle\n",
    "import scipy.ndimage\n",
    "from skimage import measure \n",
    "from mpl_toolkits.mplot3d.art3d import Poly3DCollection\n",
    "from skimage.morphology import disk, opening, closing\n",
    "from tqdm import tqdm\n",
    "from os import listdir, mkdir\n",
    "from sklearn.decomposition import PCA\n",
    "from IPython.display import HTML\n",
    "from PIL import Image\n",
    "\n",
    "# import data visualization\n",
    "import matplotlib.pyplot as plt\n",
    "import matplotlib.patches as patches\n",
    "import seaborn as sns\n",
    "import plotly.express as px\n",
    "\n",
    "from bokeh.plotting import figure\n",
    "from bokeh.io import output_notebook, show, output_file\n",
    "from bokeh.models import ColumnDataSource, HoverTool, Panel\n",
    "from bokeh.models.widgets import Tabs\n",
    "\n",
    "# import data augmentation\n",
    "import albumentations as albu\n",
    "\n",
    "# import math module\n",
    "import math\n",
    "\n",
    "#Libraries\n",
    "from tqdm import tqdm\n",
    "import time\n",
    "import pandas_profiling\n",
    "import sklearn\n",
    "import xgboost as xgb\n",
    "from sklearn.metrics import log_loss, roc_curve, auc, f1_score, recall_score, precision_recall_curve, precision_score, accuracy_score, mean_squared_error, confusion_matrix, ConfusionMatrixDisplay\n",
    "from sklearn.preprocessing import LabelEncoder\n",
    "from sklearn import preprocessing\n",
    "from sklearn.model_selection import KFold\n",
    "from sklearn.tree import DecisionTreeClassifier\n",
    "from sklearn import tree\n",
    "from sklearn.svm import SVC\n",
    "from sklearn.model_selection import train_test_split, RepeatedKFold, KFold, cross_val_score\n",
    "from sklearn.linear_model import LinearRegression\n",
    "from sklearn.preprocessing import PolynomialFeatures, StandardScaler\n",
    "from sklearn.neighbors import KNeighborsRegressor\n",
    "from sklearn.pipeline import Pipeline\n",
    "from scipy.stats import norm\n",
    "\n",
    "#used for changing color of text in print statement\n",
    "from colorama import Fore, Back, Style\n",
    "y_ = Fore.YELLOW\n",
    "r_ = Fore.RED\n",
    "g_ = Fore.GREEN\n",
    "b_ = Fore.BLUE\n",
    "m_ = Fore.MAGENTA\n",
    "sr_ = Style.RESET_ALL\n",
    "\n",
    "# One-hot encoding\n",
    "from sklearn.model_selection import cross_val_score\n",
    "from sklearn.ensemble import RandomForestRegressor"
   ]
  },
  {
   "cell_type": "code",
   "execution_count": 4,
   "id": "ccfce876",
   "metadata": {
    "execution": {
     "iopub.execute_input": "2022-12-12T21:34:26.126351Z",
     "iopub.status.busy": "2022-12-12T21:34:26.125797Z",
     "iopub.status.idle": "2022-12-12T21:34:26.128770Z",
     "shell.execute_reply": "2022-12-12T21:34:26.128265Z",
     "shell.execute_reply.started": "2022-12-12T21:30:25.702312Z"
    },
    "papermill": {
     "duration": 0.077515,
     "end_time": "2022-12-12T21:34:26.128917",
     "exception": false,
     "start_time": "2022-12-12T21:34:26.051402",
     "status": "completed"
    },
    "tags": []
   },
   "outputs": [
    {
     "name": "stdout",
     "output_type": "stream",
     "text": [
      "1.0.2\n"
     ]
    }
   ],
   "source": [
    "print(sklearn.__version__)"
   ]
  },
  {
   "cell_type": "markdown",
   "id": "53c028be",
   "metadata": {
    "papermill": {
     "duration": 0.071477,
     "end_time": "2022-12-12T21:34:26.273611",
     "exception": false,
     "start_time": "2022-12-12T21:34:26.202134",
     "status": "completed"
    },
    "tags": []
   },
   "source": [
    "# Loading data"
   ]
  },
  {
   "cell_type": "code",
   "execution_count": 5,
   "id": "0e02fe2a",
   "metadata": {
    "execution": {
     "iopub.execute_input": "2022-12-12T21:34:26.421385Z",
     "iopub.status.busy": "2022-12-12T21:34:26.420867Z",
     "iopub.status.idle": "2022-12-12T21:34:26.453250Z",
     "shell.execute_reply": "2022-12-12T21:34:26.452800Z",
     "shell.execute_reply.started": "2022-12-12T21:30:25.724953Z"
    },
    "papermill": {
     "duration": 0.108852,
     "end_time": "2022-12-12T21:34:26.453633",
     "exception": false,
     "start_time": "2022-12-12T21:34:26.344781",
     "status": "completed"
    },
    "tags": []
   },
   "outputs": [],
   "source": [
    "# Setup the paths to train and test images\n",
    "DATASET = '../input/titanic'\n",
    "TEST_PATH = '../input/titanic/test.csv'\n",
    "TRAIN_PATH = '../input/titanic/train.csv'\n",
    "SAMPLE_PATH = '../input/titanic/gender_submission.csv'\n",
    "\n",
    "# Loading training data and test data\n",
    "test = pd.read_csv(TEST_PATH)\n",
    "df = pd.read_csv(TRAIN_PATH)\n",
    "sample = pd.read_csv(SAMPLE_PATH)"
   ]
  },
  {
   "cell_type": "code",
   "execution_count": 6,
   "id": "374d9a1a",
   "metadata": {
    "execution": {
     "iopub.execute_input": "2022-12-12T21:34:26.603130Z",
     "iopub.status.busy": "2022-12-12T21:34:26.602534Z",
     "iopub.status.idle": "2022-12-12T21:34:26.670050Z",
     "shell.execute_reply": "2022-12-12T21:34:26.669587Z",
     "shell.execute_reply.started": "2022-12-12T21:30:25.753902Z"
    },
    "papermill": {
     "duration": 0.142019,
     "end_time": "2022-12-12T21:34:26.670155",
     "exception": false,
     "start_time": "2022-12-12T21:34:26.528136",
     "status": "completed"
    },
    "tags": []
   },
   "outputs": [
    {
     "data": {
      "text/html": [
       "<style type=\"text/css\">\n",
       "#T_3f7c6_row0_col0, #T_3f7c6_row0_col1, #T_3f7c6_row1_col0, #T_3f7c6_row1_col1, #T_3f7c6_row2_col0, #T_3f7c6_row2_col1, #T_3f7c6_row3_col0, #T_3f7c6_row3_col1, #T_3f7c6_row4_col0, #T_3f7c6_row4_col1 {\n",
       "  background-color: lightsteelblue;\n",
       "}\n",
       "</style>\n",
       "<table id=\"T_3f7c6_\">\n",
       "  <thead>\n",
       "    <tr>\n",
       "      <th class=\"blank level0\" >&nbsp;</th>\n",
       "      <th class=\"col_heading level0 col0\" >PassengerId</th>\n",
       "      <th class=\"col_heading level0 col1\" >Survived</th>\n",
       "    </tr>\n",
       "  </thead>\n",
       "  <tbody>\n",
       "    <tr>\n",
       "      <th id=\"T_3f7c6_level0_row0\" class=\"row_heading level0 row0\" >0</th>\n",
       "      <td id=\"T_3f7c6_row0_col0\" class=\"data row0 col0\" >892</td>\n",
       "      <td id=\"T_3f7c6_row0_col1\" class=\"data row0 col1\" >0</td>\n",
       "    </tr>\n",
       "    <tr>\n",
       "      <th id=\"T_3f7c6_level0_row1\" class=\"row_heading level0 row1\" >1</th>\n",
       "      <td id=\"T_3f7c6_row1_col0\" class=\"data row1 col0\" >893</td>\n",
       "      <td id=\"T_3f7c6_row1_col1\" class=\"data row1 col1\" >1</td>\n",
       "    </tr>\n",
       "    <tr>\n",
       "      <th id=\"T_3f7c6_level0_row2\" class=\"row_heading level0 row2\" >2</th>\n",
       "      <td id=\"T_3f7c6_row2_col0\" class=\"data row2 col0\" >894</td>\n",
       "      <td id=\"T_3f7c6_row2_col1\" class=\"data row2 col1\" >0</td>\n",
       "    </tr>\n",
       "    <tr>\n",
       "      <th id=\"T_3f7c6_level0_row3\" class=\"row_heading level0 row3\" >3</th>\n",
       "      <td id=\"T_3f7c6_row3_col0\" class=\"data row3 col0\" >895</td>\n",
       "      <td id=\"T_3f7c6_row3_col1\" class=\"data row3 col1\" >0</td>\n",
       "    </tr>\n",
       "    <tr>\n",
       "      <th id=\"T_3f7c6_level0_row4\" class=\"row_heading level0 row4\" >4</th>\n",
       "      <td id=\"T_3f7c6_row4_col0\" class=\"data row4 col0\" >896</td>\n",
       "      <td id=\"T_3f7c6_row4_col1\" class=\"data row4 col1\" >1</td>\n",
       "    </tr>\n",
       "  </tbody>\n",
       "</table>\n"
      ],
      "text/plain": [
       "<pandas.io.formats.style.Styler at 0x7fc08c2c3310>"
      ]
     },
     "execution_count": 6,
     "metadata": {},
     "output_type": "execute_result"
    }
   ],
   "source": [
    "# Confirmation of the format of samples for submission\n",
    "sample.head(5).style.applymap(lambda x: 'background-color:lightsteelblue')"
   ]
  },
  {
   "cell_type": "markdown",
   "id": "0826d143",
   "metadata": {
    "papermill": {
     "duration": 0.072093,
     "end_time": "2022-12-12T21:34:26.813658",
     "exception": false,
     "start_time": "2022-12-12T21:34:26.741565",
     "status": "completed"
    },
    "tags": []
   },
   "source": [
    "* We only need to submit a passenger ID and a value of 0 and 1 to distinguish whether they are alive or not.\n",
    "* The value of ’Survived’ is 1 if the passenger is alive.\n",
    "* The value of ’Survived’ is 0 if he or she is dead.\n",
    "* It's a very clean break."
   ]
  },
  {
   "cell_type": "markdown",
   "id": "a67ae507",
   "metadata": {
    "papermill": {
     "duration": 0.071648,
     "end_time": "2022-12-12T21:34:26.956217",
     "exception": false,
     "start_time": "2022-12-12T21:34:26.884569",
     "status": "completed"
    },
    "tags": []
   },
   "source": [
    "# Have A Look"
   ]
  },
  {
   "cell_type": "code",
   "execution_count": 7,
   "id": "c8a86ead",
   "metadata": {
    "execution": {
     "iopub.execute_input": "2022-12-12T21:34:27.101399Z",
     "iopub.status.busy": "2022-12-12T21:34:27.100868Z",
     "iopub.status.idle": "2022-12-12T21:34:27.104542Z",
     "shell.execute_reply": "2022-12-12T21:34:27.104977Z",
     "shell.execute_reply.started": "2022-12-12T21:30:25.768894Z"
    },
    "papermill": {
     "duration": 0.079033,
     "end_time": "2022-12-12T21:34:27.105122",
     "exception": false,
     "start_time": "2022-12-12T21:34:27.026089",
     "status": "completed"
    },
    "tags": []
   },
   "outputs": [
    {
     "data": {
      "text/html": [
       "<iframe width=\"600\" height=\"400\" src=\"https://www.youtube.com/embed/8yZMXCaFshs\" frameborder=\"0\" allow=\"accelerometer; autoplay; encrypted-media; gyroscope; picture-in-picture\" allowfullscreen></iframe>"
      ],
      "text/plain": [
       "<IPython.core.display.HTML object>"
      ]
     },
     "execution_count": 7,
     "metadata": {},
     "output_type": "execute_result"
    }
   ],
   "source": [
    "HTML('<iframe width=\"600\" height=\"400\" src=\"https://www.youtube.com/embed/8yZMXCaFshs\" frameborder=\"0\" allow=\"accelerometer; autoplay; encrypted-media; gyroscope; picture-in-picture\" allowfullscreen></iframe>')"
   ]
  },
  {
   "cell_type": "markdown",
   "id": "b5070828",
   "metadata": {
    "papermill": {
     "duration": 0.069809,
     "end_time": "2022-12-12T21:34:27.245949",
     "exception": false,
     "start_time": "2022-12-12T21:34:27.176140",
     "status": "completed"
    },
    "tags": []
   },
   "source": [
    "# Checking data"
   ]
  },
  {
   "cell_type": "code",
   "execution_count": 8,
   "id": "e0c5f068",
   "metadata": {
    "execution": {
     "iopub.execute_input": "2022-12-12T21:34:27.391571Z",
     "iopub.status.busy": "2022-12-12T21:34:27.391102Z",
     "iopub.status.idle": "2022-12-12T21:34:27.394616Z",
     "shell.execute_reply": "2022-12-12T21:34:27.394249Z",
     "shell.execute_reply.started": "2022-12-12T21:30:25.782780Z"
    },
    "papermill": {
     "duration": 0.079062,
     "end_time": "2022-12-12T21:34:27.394745",
     "exception": false,
     "start_time": "2022-12-12T21:34:27.315683",
     "status": "completed"
    },
    "tags": []
   },
   "outputs": [
    {
     "data": {
      "text/plain": [
       "Index(['PassengerId', 'Survived', 'Pclass', 'Name', 'Sex', 'Age', 'SibSp',\n",
       "       'Parch', 'Ticket', 'Fare', 'Cabin', 'Embarked'],\n",
       "      dtype='object')"
      ]
     },
     "execution_count": 8,
     "metadata": {},
     "output_type": "execute_result"
    }
   ],
   "source": [
    "# Check about columns\n",
    "df.columns"
   ]
  },
  {
   "cell_type": "code",
   "execution_count": 9,
   "id": "140b8000",
   "metadata": {
    "execution": {
     "iopub.execute_input": "2022-12-12T21:34:27.541248Z",
     "iopub.status.busy": "2022-12-12T21:34:27.540718Z",
     "iopub.status.idle": "2022-12-12T21:34:27.545290Z",
     "shell.execute_reply": "2022-12-12T21:34:27.544703Z",
     "shell.execute_reply.started": "2022-12-12T21:30:25.795232Z"
    },
    "papermill": {
     "duration": 0.081026,
     "end_time": "2022-12-12T21:34:27.545433",
     "exception": false,
     "start_time": "2022-12-12T21:34:27.464407",
     "status": "completed"
    },
    "tags": []
   },
   "outputs": [
    {
     "name": "stdout",
     "output_type": "stream",
     "text": [
      "\u001b[34mNumber of rows in train data: \u001b[31m891\n",
      "\u001b[34mNumber of columns in train data: \u001b[31m12\n"
     ]
    }
   ],
   "source": [
    "print(f\"{b_}Number of rows in train data: {r_}{df.shape[0]}\\n{b_}Number of columns in train data: {r_}{df.shape[1]}\")"
   ]
  },
  {
   "cell_type": "code",
   "execution_count": 10,
   "id": "2dbf3e74",
   "metadata": {
    "execution": {
     "iopub.execute_input": "2022-12-12T21:34:27.709228Z",
     "iopub.status.busy": "2022-12-12T21:34:27.708658Z",
     "iopub.status.idle": "2022-12-12T21:34:27.716684Z",
     "shell.execute_reply": "2022-12-12T21:34:27.716150Z",
     "shell.execute_reply.started": "2022-12-12T21:30:25.807901Z"
    },
    "papermill": {
     "duration": 0.095494,
     "end_time": "2022-12-12T21:34:27.716801",
     "exception": false,
     "start_time": "2022-12-12T21:34:27.621307",
     "status": "completed"
    },
    "tags": []
   },
   "outputs": [
    {
     "data": {
      "text/html": [
       "<style type=\"text/css\">\n",
       "#T_e3f96_row0_col0, #T_e3f96_row0_col1, #T_e3f96_row0_col2, #T_e3f96_row0_col3, #T_e3f96_row0_col4, #T_e3f96_row0_col5, #T_e3f96_row0_col6, #T_e3f96_row0_col7, #T_e3f96_row0_col8, #T_e3f96_row0_col9, #T_e3f96_row0_col10, #T_e3f96_row0_col11, #T_e3f96_row1_col0, #T_e3f96_row1_col1, #T_e3f96_row1_col2, #T_e3f96_row1_col3, #T_e3f96_row1_col4, #T_e3f96_row1_col5, #T_e3f96_row1_col6, #T_e3f96_row1_col7, #T_e3f96_row1_col8, #T_e3f96_row1_col9, #T_e3f96_row1_col10, #T_e3f96_row1_col11, #T_e3f96_row2_col0, #T_e3f96_row2_col1, #T_e3f96_row2_col2, #T_e3f96_row2_col3, #T_e3f96_row2_col4, #T_e3f96_row2_col5, #T_e3f96_row2_col6, #T_e3f96_row2_col7, #T_e3f96_row2_col8, #T_e3f96_row2_col9, #T_e3f96_row2_col10, #T_e3f96_row2_col11, #T_e3f96_row3_col0, #T_e3f96_row3_col1, #T_e3f96_row3_col2, #T_e3f96_row3_col3, #T_e3f96_row3_col4, #T_e3f96_row3_col5, #T_e3f96_row3_col6, #T_e3f96_row3_col7, #T_e3f96_row3_col8, #T_e3f96_row3_col9, #T_e3f96_row3_col10, #T_e3f96_row3_col11, #T_e3f96_row4_col0, #T_e3f96_row4_col1, #T_e3f96_row4_col2, #T_e3f96_row4_col3, #T_e3f96_row4_col4, #T_e3f96_row4_col5, #T_e3f96_row4_col6, #T_e3f96_row4_col7, #T_e3f96_row4_col8, #T_e3f96_row4_col9, #T_e3f96_row4_col10, #T_e3f96_row4_col11 {\n",
       "  background-color: lightsteelblue;\n",
       "}\n",
       "</style>\n",
       "<table id=\"T_e3f96_\">\n",
       "  <thead>\n",
       "    <tr>\n",
       "      <th class=\"blank level0\" >&nbsp;</th>\n",
       "      <th class=\"col_heading level0 col0\" >PassengerId</th>\n",
       "      <th class=\"col_heading level0 col1\" >Survived</th>\n",
       "      <th class=\"col_heading level0 col2\" >Pclass</th>\n",
       "      <th class=\"col_heading level0 col3\" >Name</th>\n",
       "      <th class=\"col_heading level0 col4\" >Sex</th>\n",
       "      <th class=\"col_heading level0 col5\" >Age</th>\n",
       "      <th class=\"col_heading level0 col6\" >SibSp</th>\n",
       "      <th class=\"col_heading level0 col7\" >Parch</th>\n",
       "      <th class=\"col_heading level0 col8\" >Ticket</th>\n",
       "      <th class=\"col_heading level0 col9\" >Fare</th>\n",
       "      <th class=\"col_heading level0 col10\" >Cabin</th>\n",
       "      <th class=\"col_heading level0 col11\" >Embarked</th>\n",
       "    </tr>\n",
       "  </thead>\n",
       "  <tbody>\n",
       "    <tr>\n",
       "      <th id=\"T_e3f96_level0_row0\" class=\"row_heading level0 row0\" >0</th>\n",
       "      <td id=\"T_e3f96_row0_col0\" class=\"data row0 col0\" >1</td>\n",
       "      <td id=\"T_e3f96_row0_col1\" class=\"data row0 col1\" >0</td>\n",
       "      <td id=\"T_e3f96_row0_col2\" class=\"data row0 col2\" >3</td>\n",
       "      <td id=\"T_e3f96_row0_col3\" class=\"data row0 col3\" >Braund, Mr. Owen Harris</td>\n",
       "      <td id=\"T_e3f96_row0_col4\" class=\"data row0 col4\" >male</td>\n",
       "      <td id=\"T_e3f96_row0_col5\" class=\"data row0 col5\" >22.000000</td>\n",
       "      <td id=\"T_e3f96_row0_col6\" class=\"data row0 col6\" >1</td>\n",
       "      <td id=\"T_e3f96_row0_col7\" class=\"data row0 col7\" >0</td>\n",
       "      <td id=\"T_e3f96_row0_col8\" class=\"data row0 col8\" >A/5 21171</td>\n",
       "      <td id=\"T_e3f96_row0_col9\" class=\"data row0 col9\" >7.250000</td>\n",
       "      <td id=\"T_e3f96_row0_col10\" class=\"data row0 col10\" >nan</td>\n",
       "      <td id=\"T_e3f96_row0_col11\" class=\"data row0 col11\" >S</td>\n",
       "    </tr>\n",
       "    <tr>\n",
       "      <th id=\"T_e3f96_level0_row1\" class=\"row_heading level0 row1\" >1</th>\n",
       "      <td id=\"T_e3f96_row1_col0\" class=\"data row1 col0\" >2</td>\n",
       "      <td id=\"T_e3f96_row1_col1\" class=\"data row1 col1\" >1</td>\n",
       "      <td id=\"T_e3f96_row1_col2\" class=\"data row1 col2\" >1</td>\n",
       "      <td id=\"T_e3f96_row1_col3\" class=\"data row1 col3\" >Cumings, Mrs. John Bradley (Florence Briggs Thayer)</td>\n",
       "      <td id=\"T_e3f96_row1_col4\" class=\"data row1 col4\" >female</td>\n",
       "      <td id=\"T_e3f96_row1_col5\" class=\"data row1 col5\" >38.000000</td>\n",
       "      <td id=\"T_e3f96_row1_col6\" class=\"data row1 col6\" >1</td>\n",
       "      <td id=\"T_e3f96_row1_col7\" class=\"data row1 col7\" >0</td>\n",
       "      <td id=\"T_e3f96_row1_col8\" class=\"data row1 col8\" >PC 17599</td>\n",
       "      <td id=\"T_e3f96_row1_col9\" class=\"data row1 col9\" >71.283300</td>\n",
       "      <td id=\"T_e3f96_row1_col10\" class=\"data row1 col10\" >C85</td>\n",
       "      <td id=\"T_e3f96_row1_col11\" class=\"data row1 col11\" >C</td>\n",
       "    </tr>\n",
       "    <tr>\n",
       "      <th id=\"T_e3f96_level0_row2\" class=\"row_heading level0 row2\" >2</th>\n",
       "      <td id=\"T_e3f96_row2_col0\" class=\"data row2 col0\" >3</td>\n",
       "      <td id=\"T_e3f96_row2_col1\" class=\"data row2 col1\" >1</td>\n",
       "      <td id=\"T_e3f96_row2_col2\" class=\"data row2 col2\" >3</td>\n",
       "      <td id=\"T_e3f96_row2_col3\" class=\"data row2 col3\" >Heikkinen, Miss. Laina</td>\n",
       "      <td id=\"T_e3f96_row2_col4\" class=\"data row2 col4\" >female</td>\n",
       "      <td id=\"T_e3f96_row2_col5\" class=\"data row2 col5\" >26.000000</td>\n",
       "      <td id=\"T_e3f96_row2_col6\" class=\"data row2 col6\" >0</td>\n",
       "      <td id=\"T_e3f96_row2_col7\" class=\"data row2 col7\" >0</td>\n",
       "      <td id=\"T_e3f96_row2_col8\" class=\"data row2 col8\" >STON/O2. 3101282</td>\n",
       "      <td id=\"T_e3f96_row2_col9\" class=\"data row2 col9\" >7.925000</td>\n",
       "      <td id=\"T_e3f96_row2_col10\" class=\"data row2 col10\" >nan</td>\n",
       "      <td id=\"T_e3f96_row2_col11\" class=\"data row2 col11\" >S</td>\n",
       "    </tr>\n",
       "    <tr>\n",
       "      <th id=\"T_e3f96_level0_row3\" class=\"row_heading level0 row3\" >3</th>\n",
       "      <td id=\"T_e3f96_row3_col0\" class=\"data row3 col0\" >4</td>\n",
       "      <td id=\"T_e3f96_row3_col1\" class=\"data row3 col1\" >1</td>\n",
       "      <td id=\"T_e3f96_row3_col2\" class=\"data row3 col2\" >1</td>\n",
       "      <td id=\"T_e3f96_row3_col3\" class=\"data row3 col3\" >Futrelle, Mrs. Jacques Heath (Lily May Peel)</td>\n",
       "      <td id=\"T_e3f96_row3_col4\" class=\"data row3 col4\" >female</td>\n",
       "      <td id=\"T_e3f96_row3_col5\" class=\"data row3 col5\" >35.000000</td>\n",
       "      <td id=\"T_e3f96_row3_col6\" class=\"data row3 col6\" >1</td>\n",
       "      <td id=\"T_e3f96_row3_col7\" class=\"data row3 col7\" >0</td>\n",
       "      <td id=\"T_e3f96_row3_col8\" class=\"data row3 col8\" >113803</td>\n",
       "      <td id=\"T_e3f96_row3_col9\" class=\"data row3 col9\" >53.100000</td>\n",
       "      <td id=\"T_e3f96_row3_col10\" class=\"data row3 col10\" >C123</td>\n",
       "      <td id=\"T_e3f96_row3_col11\" class=\"data row3 col11\" >S</td>\n",
       "    </tr>\n",
       "    <tr>\n",
       "      <th id=\"T_e3f96_level0_row4\" class=\"row_heading level0 row4\" >4</th>\n",
       "      <td id=\"T_e3f96_row4_col0\" class=\"data row4 col0\" >5</td>\n",
       "      <td id=\"T_e3f96_row4_col1\" class=\"data row4 col1\" >0</td>\n",
       "      <td id=\"T_e3f96_row4_col2\" class=\"data row4 col2\" >3</td>\n",
       "      <td id=\"T_e3f96_row4_col3\" class=\"data row4 col3\" >Allen, Mr. William Henry</td>\n",
       "      <td id=\"T_e3f96_row4_col4\" class=\"data row4 col4\" >male</td>\n",
       "      <td id=\"T_e3f96_row4_col5\" class=\"data row4 col5\" >35.000000</td>\n",
       "      <td id=\"T_e3f96_row4_col6\" class=\"data row4 col6\" >0</td>\n",
       "      <td id=\"T_e3f96_row4_col7\" class=\"data row4 col7\" >0</td>\n",
       "      <td id=\"T_e3f96_row4_col8\" class=\"data row4 col8\" >373450</td>\n",
       "      <td id=\"T_e3f96_row4_col9\" class=\"data row4 col9\" >8.050000</td>\n",
       "      <td id=\"T_e3f96_row4_col10\" class=\"data row4 col10\" >nan</td>\n",
       "      <td id=\"T_e3f96_row4_col11\" class=\"data row4 col11\" >S</td>\n",
       "    </tr>\n",
       "  </tbody>\n",
       "</table>\n"
      ],
      "text/plain": [
       "<pandas.io.formats.style.Styler at 0x7fc08ba7f510>"
      ]
     },
     "execution_count": 10,
     "metadata": {},
     "output_type": "execute_result"
    }
   ],
   "source": [
    "# Look at the top of the data to get an overview\n",
    "df.head(5).style.applymap(lambda x: 'background-color:lightsteelblue')"
   ]
  },
  {
   "cell_type": "code",
   "execution_count": 11,
   "id": "efc10ed3",
   "metadata": {
    "execution": {
     "iopub.execute_input": "2022-12-12T21:34:27.876848Z",
     "iopub.status.busy": "2022-12-12T21:34:27.876299Z",
     "iopub.status.idle": "2022-12-12T21:34:27.892653Z",
     "shell.execute_reply": "2022-12-12T21:34:27.893061Z",
     "shell.execute_reply.started": "2022-12-12T21:30:25.847105Z"
    },
    "papermill": {
     "duration": 0.101771,
     "end_time": "2022-12-12T21:34:27.893204",
     "exception": false,
     "start_time": "2022-12-12T21:34:27.791433",
     "status": "completed"
    },
    "tags": []
   },
   "outputs": [
    {
     "data": {
      "text/html": [
       "<style type=\"text/css\">\n",
       "#T_f0758_row0_col0, #T_f0758_row0_col1, #T_f0758_row0_col2, #T_f0758_row0_col3, #T_f0758_row0_col4, #T_f0758_row0_col5, #T_f0758_row0_col6, #T_f0758_row0_col7, #T_f0758_row0_col8, #T_f0758_row0_col9, #T_f0758_row0_col10, #T_f0758_row0_col11, #T_f0758_row1_col0, #T_f0758_row1_col1, #T_f0758_row1_col2, #T_f0758_row1_col3, #T_f0758_row1_col4, #T_f0758_row1_col5, #T_f0758_row1_col6, #T_f0758_row1_col7, #T_f0758_row1_col8, #T_f0758_row1_col9, #T_f0758_row1_col10, #T_f0758_row1_col11, #T_f0758_row2_col0, #T_f0758_row2_col1, #T_f0758_row2_col2, #T_f0758_row2_col3, #T_f0758_row2_col4, #T_f0758_row2_col5, #T_f0758_row2_col6, #T_f0758_row2_col7, #T_f0758_row2_col8, #T_f0758_row2_col9, #T_f0758_row2_col10, #T_f0758_row2_col11, #T_f0758_row3_col0, #T_f0758_row3_col1, #T_f0758_row3_col2, #T_f0758_row3_col3, #T_f0758_row3_col4, #T_f0758_row3_col5, #T_f0758_row3_col6, #T_f0758_row3_col7, #T_f0758_row3_col8, #T_f0758_row3_col9, #T_f0758_row3_col10, #T_f0758_row3_col11, #T_f0758_row4_col0, #T_f0758_row4_col1, #T_f0758_row4_col2, #T_f0758_row4_col3, #T_f0758_row4_col4, #T_f0758_row4_col5, #T_f0758_row4_col6, #T_f0758_row4_col7, #T_f0758_row4_col8, #T_f0758_row4_col9, #T_f0758_row4_col10, #T_f0758_row4_col11 {\n",
       "  background-color: lightsteelblue;\n",
       "}\n",
       "</style>\n",
       "<table id=\"T_f0758_\">\n",
       "  <thead>\n",
       "    <tr>\n",
       "      <th class=\"blank level0\" >&nbsp;</th>\n",
       "      <th class=\"col_heading level0 col0\" >PassengerId</th>\n",
       "      <th class=\"col_heading level0 col1\" >Survived</th>\n",
       "      <th class=\"col_heading level0 col2\" >Pclass</th>\n",
       "      <th class=\"col_heading level0 col3\" >Name</th>\n",
       "      <th class=\"col_heading level0 col4\" >Sex</th>\n",
       "      <th class=\"col_heading level0 col5\" >Age</th>\n",
       "      <th class=\"col_heading level0 col6\" >SibSp</th>\n",
       "      <th class=\"col_heading level0 col7\" >Parch</th>\n",
       "      <th class=\"col_heading level0 col8\" >Ticket</th>\n",
       "      <th class=\"col_heading level0 col9\" >Fare</th>\n",
       "      <th class=\"col_heading level0 col10\" >Cabin</th>\n",
       "      <th class=\"col_heading level0 col11\" >Embarked</th>\n",
       "    </tr>\n",
       "  </thead>\n",
       "  <tbody>\n",
       "    <tr>\n",
       "      <th id=\"T_f0758_level0_row0\" class=\"row_heading level0 row0\" >0</th>\n",
       "      <td id=\"T_f0758_row0_col0\" class=\"data row0 col0\" >1</td>\n",
       "      <td id=\"T_f0758_row0_col1\" class=\"data row0 col1\" >0</td>\n",
       "      <td id=\"T_f0758_row0_col2\" class=\"data row0 col2\" >3</td>\n",
       "      <td id=\"T_f0758_row0_col3\" class=\"data row0 col3\" >Braund, Mr. Owen Harris</td>\n",
       "      <td id=\"T_f0758_row0_col4\" class=\"data row0 col4\" >male</td>\n",
       "      <td id=\"T_f0758_row0_col5\" class=\"data row0 col5\" >22.000000</td>\n",
       "      <td id=\"T_f0758_row0_col6\" class=\"data row0 col6\" >1</td>\n",
       "      <td id=\"T_f0758_row0_col7\" class=\"data row0 col7\" >0</td>\n",
       "      <td id=\"T_f0758_row0_col8\" class=\"data row0 col8\" >A/5 21171</td>\n",
       "      <td id=\"T_f0758_row0_col9\" class=\"data row0 col9\" >7.250000</td>\n",
       "      <td id=\"T_f0758_row0_col10\" class=\"data row0 col10\" >nan</td>\n",
       "      <td id=\"T_f0758_row0_col11\" class=\"data row0 col11\" >S</td>\n",
       "    </tr>\n",
       "    <tr>\n",
       "      <th id=\"T_f0758_level0_row1\" class=\"row_heading level0 row1\" >1</th>\n",
       "      <td id=\"T_f0758_row1_col0\" class=\"data row1 col0\" >2</td>\n",
       "      <td id=\"T_f0758_row1_col1\" class=\"data row1 col1\" >1</td>\n",
       "      <td id=\"T_f0758_row1_col2\" class=\"data row1 col2\" >1</td>\n",
       "      <td id=\"T_f0758_row1_col3\" class=\"data row1 col3\" >Cumings, Mrs. John Bradley (Florence Briggs Thayer)</td>\n",
       "      <td id=\"T_f0758_row1_col4\" class=\"data row1 col4\" >female</td>\n",
       "      <td id=\"T_f0758_row1_col5\" class=\"data row1 col5\" >38.000000</td>\n",
       "      <td id=\"T_f0758_row1_col6\" class=\"data row1 col6\" >1</td>\n",
       "      <td id=\"T_f0758_row1_col7\" class=\"data row1 col7\" >0</td>\n",
       "      <td id=\"T_f0758_row1_col8\" class=\"data row1 col8\" >PC 17599</td>\n",
       "      <td id=\"T_f0758_row1_col9\" class=\"data row1 col9\" >71.283300</td>\n",
       "      <td id=\"T_f0758_row1_col10\" class=\"data row1 col10\" >C85</td>\n",
       "      <td id=\"T_f0758_row1_col11\" class=\"data row1 col11\" >C</td>\n",
       "    </tr>\n",
       "    <tr>\n",
       "      <th id=\"T_f0758_level0_row2\" class=\"row_heading level0 row2\" >2</th>\n",
       "      <td id=\"T_f0758_row2_col0\" class=\"data row2 col0\" >3</td>\n",
       "      <td id=\"T_f0758_row2_col1\" class=\"data row2 col1\" >1</td>\n",
       "      <td id=\"T_f0758_row2_col2\" class=\"data row2 col2\" >3</td>\n",
       "      <td id=\"T_f0758_row2_col3\" class=\"data row2 col3\" >Heikkinen, Miss. Laina</td>\n",
       "      <td id=\"T_f0758_row2_col4\" class=\"data row2 col4\" >female</td>\n",
       "      <td id=\"T_f0758_row2_col5\" class=\"data row2 col5\" >26.000000</td>\n",
       "      <td id=\"T_f0758_row2_col6\" class=\"data row2 col6\" >0</td>\n",
       "      <td id=\"T_f0758_row2_col7\" class=\"data row2 col7\" >0</td>\n",
       "      <td id=\"T_f0758_row2_col8\" class=\"data row2 col8\" >STON/O2. 3101282</td>\n",
       "      <td id=\"T_f0758_row2_col9\" class=\"data row2 col9\" >7.925000</td>\n",
       "      <td id=\"T_f0758_row2_col10\" class=\"data row2 col10\" >nan</td>\n",
       "      <td id=\"T_f0758_row2_col11\" class=\"data row2 col11\" >S</td>\n",
       "    </tr>\n",
       "    <tr>\n",
       "      <th id=\"T_f0758_level0_row3\" class=\"row_heading level0 row3\" >3</th>\n",
       "      <td id=\"T_f0758_row3_col0\" class=\"data row3 col0\" >4</td>\n",
       "      <td id=\"T_f0758_row3_col1\" class=\"data row3 col1\" >1</td>\n",
       "      <td id=\"T_f0758_row3_col2\" class=\"data row3 col2\" >1</td>\n",
       "      <td id=\"T_f0758_row3_col3\" class=\"data row3 col3\" >Futrelle, Mrs. Jacques Heath (Lily May Peel)</td>\n",
       "      <td id=\"T_f0758_row3_col4\" class=\"data row3 col4\" >female</td>\n",
       "      <td id=\"T_f0758_row3_col5\" class=\"data row3 col5\" >35.000000</td>\n",
       "      <td id=\"T_f0758_row3_col6\" class=\"data row3 col6\" >1</td>\n",
       "      <td id=\"T_f0758_row3_col7\" class=\"data row3 col7\" >0</td>\n",
       "      <td id=\"T_f0758_row3_col8\" class=\"data row3 col8\" >113803</td>\n",
       "      <td id=\"T_f0758_row3_col9\" class=\"data row3 col9\" >53.100000</td>\n",
       "      <td id=\"T_f0758_row3_col10\" class=\"data row3 col10\" >C123</td>\n",
       "      <td id=\"T_f0758_row3_col11\" class=\"data row3 col11\" >S</td>\n",
       "    </tr>\n",
       "    <tr>\n",
       "      <th id=\"T_f0758_level0_row4\" class=\"row_heading level0 row4\" >4</th>\n",
       "      <td id=\"T_f0758_row4_col0\" class=\"data row4 col0\" >5</td>\n",
       "      <td id=\"T_f0758_row4_col1\" class=\"data row4 col1\" >0</td>\n",
       "      <td id=\"T_f0758_row4_col2\" class=\"data row4 col2\" >3</td>\n",
       "      <td id=\"T_f0758_row4_col3\" class=\"data row4 col3\" >Allen, Mr. William Henry</td>\n",
       "      <td id=\"T_f0758_row4_col4\" class=\"data row4 col4\" >male</td>\n",
       "      <td id=\"T_f0758_row4_col5\" class=\"data row4 col5\" >35.000000</td>\n",
       "      <td id=\"T_f0758_row4_col6\" class=\"data row4 col6\" >0</td>\n",
       "      <td id=\"T_f0758_row4_col7\" class=\"data row4 col7\" >0</td>\n",
       "      <td id=\"T_f0758_row4_col8\" class=\"data row4 col8\" >373450</td>\n",
       "      <td id=\"T_f0758_row4_col9\" class=\"data row4 col9\" >8.050000</td>\n",
       "      <td id=\"T_f0758_row4_col10\" class=\"data row4 col10\" >nan</td>\n",
       "      <td id=\"T_f0758_row4_col11\" class=\"data row4 col11\" >S</td>\n",
       "    </tr>\n",
       "  </tbody>\n",
       "</table>\n"
      ],
      "text/plain": [
       "<pandas.io.formats.style.Styler at 0x7fc04f280bd0>"
      ]
     },
     "execution_count": 11,
     "metadata": {},
     "output_type": "execute_result"
    }
   ],
   "source": [
    "# Look at the top of the data to get an overview\n",
    "df.head(5).style.applymap(lambda x: 'background-color:lightsteelblue')"
   ]
  },
  {
   "cell_type": "code",
   "execution_count": 12,
   "id": "65aedc6d",
   "metadata": {
    "execution": {
     "iopub.execute_input": "2022-12-12T21:34:28.055235Z",
     "iopub.status.busy": "2022-12-12T21:34:28.054687Z",
     "iopub.status.idle": "2022-12-12T21:34:28.071678Z",
     "shell.execute_reply": "2022-12-12T21:34:28.072127Z",
     "shell.execute_reply.started": "2022-12-12T21:30:25.876360Z"
    },
    "papermill": {
     "duration": 0.093531,
     "end_time": "2022-12-12T21:34:28.072277",
     "exception": false,
     "start_time": "2022-12-12T21:34:27.978746",
     "status": "completed"
    },
    "tags": []
   },
   "outputs": [
    {
     "data": {
      "text/html": [
       "<style type=\"text/css\">\n",
       "#T_46c20_row0_col0, #T_46c20_row0_col1, #T_46c20_row0_col2, #T_46c20_row0_col3, #T_46c20_row0_col4, #T_46c20_row0_col5, #T_46c20_row0_col6, #T_46c20_row0_col7, #T_46c20_row0_col8, #T_46c20_row0_col9, #T_46c20_row0_col10, #T_46c20_row1_col0, #T_46c20_row1_col1, #T_46c20_row1_col2, #T_46c20_row1_col3, #T_46c20_row1_col4, #T_46c20_row1_col5, #T_46c20_row1_col6, #T_46c20_row1_col7, #T_46c20_row1_col8, #T_46c20_row1_col9, #T_46c20_row1_col10, #T_46c20_row2_col0, #T_46c20_row2_col1, #T_46c20_row2_col2, #T_46c20_row2_col3, #T_46c20_row2_col4, #T_46c20_row2_col5, #T_46c20_row2_col6, #T_46c20_row2_col7, #T_46c20_row2_col8, #T_46c20_row2_col9, #T_46c20_row2_col10, #T_46c20_row3_col0, #T_46c20_row3_col1, #T_46c20_row3_col2, #T_46c20_row3_col3, #T_46c20_row3_col4, #T_46c20_row3_col5, #T_46c20_row3_col6, #T_46c20_row3_col7, #T_46c20_row3_col8, #T_46c20_row3_col9, #T_46c20_row3_col10, #T_46c20_row4_col0, #T_46c20_row4_col1, #T_46c20_row4_col2, #T_46c20_row4_col3, #T_46c20_row4_col4, #T_46c20_row4_col5, #T_46c20_row4_col6, #T_46c20_row4_col7, #T_46c20_row4_col8, #T_46c20_row4_col9, #T_46c20_row4_col10 {\n",
       "  background-color: lightsteelblue;\n",
       "}\n",
       "</style>\n",
       "<table id=\"T_46c20_\">\n",
       "  <thead>\n",
       "    <tr>\n",
       "      <th class=\"blank level0\" >&nbsp;</th>\n",
       "      <th class=\"col_heading level0 col0\" >PassengerId</th>\n",
       "      <th class=\"col_heading level0 col1\" >Pclass</th>\n",
       "      <th class=\"col_heading level0 col2\" >Name</th>\n",
       "      <th class=\"col_heading level0 col3\" >Sex</th>\n",
       "      <th class=\"col_heading level0 col4\" >Age</th>\n",
       "      <th class=\"col_heading level0 col5\" >SibSp</th>\n",
       "      <th class=\"col_heading level0 col6\" >Parch</th>\n",
       "      <th class=\"col_heading level0 col7\" >Ticket</th>\n",
       "      <th class=\"col_heading level0 col8\" >Fare</th>\n",
       "      <th class=\"col_heading level0 col9\" >Cabin</th>\n",
       "      <th class=\"col_heading level0 col10\" >Embarked</th>\n",
       "    </tr>\n",
       "  </thead>\n",
       "  <tbody>\n",
       "    <tr>\n",
       "      <th id=\"T_46c20_level0_row0\" class=\"row_heading level0 row0\" >0</th>\n",
       "      <td id=\"T_46c20_row0_col0\" class=\"data row0 col0\" >892</td>\n",
       "      <td id=\"T_46c20_row0_col1\" class=\"data row0 col1\" >3</td>\n",
       "      <td id=\"T_46c20_row0_col2\" class=\"data row0 col2\" >Kelly, Mr. James</td>\n",
       "      <td id=\"T_46c20_row0_col3\" class=\"data row0 col3\" >male</td>\n",
       "      <td id=\"T_46c20_row0_col4\" class=\"data row0 col4\" >34.500000</td>\n",
       "      <td id=\"T_46c20_row0_col5\" class=\"data row0 col5\" >0</td>\n",
       "      <td id=\"T_46c20_row0_col6\" class=\"data row0 col6\" >0</td>\n",
       "      <td id=\"T_46c20_row0_col7\" class=\"data row0 col7\" >330911</td>\n",
       "      <td id=\"T_46c20_row0_col8\" class=\"data row0 col8\" >7.829200</td>\n",
       "      <td id=\"T_46c20_row0_col9\" class=\"data row0 col9\" >nan</td>\n",
       "      <td id=\"T_46c20_row0_col10\" class=\"data row0 col10\" >Q</td>\n",
       "    </tr>\n",
       "    <tr>\n",
       "      <th id=\"T_46c20_level0_row1\" class=\"row_heading level0 row1\" >1</th>\n",
       "      <td id=\"T_46c20_row1_col0\" class=\"data row1 col0\" >893</td>\n",
       "      <td id=\"T_46c20_row1_col1\" class=\"data row1 col1\" >3</td>\n",
       "      <td id=\"T_46c20_row1_col2\" class=\"data row1 col2\" >Wilkes, Mrs. James (Ellen Needs)</td>\n",
       "      <td id=\"T_46c20_row1_col3\" class=\"data row1 col3\" >female</td>\n",
       "      <td id=\"T_46c20_row1_col4\" class=\"data row1 col4\" >47.000000</td>\n",
       "      <td id=\"T_46c20_row1_col5\" class=\"data row1 col5\" >1</td>\n",
       "      <td id=\"T_46c20_row1_col6\" class=\"data row1 col6\" >0</td>\n",
       "      <td id=\"T_46c20_row1_col7\" class=\"data row1 col7\" >363272</td>\n",
       "      <td id=\"T_46c20_row1_col8\" class=\"data row1 col8\" >7.000000</td>\n",
       "      <td id=\"T_46c20_row1_col9\" class=\"data row1 col9\" >nan</td>\n",
       "      <td id=\"T_46c20_row1_col10\" class=\"data row1 col10\" >S</td>\n",
       "    </tr>\n",
       "    <tr>\n",
       "      <th id=\"T_46c20_level0_row2\" class=\"row_heading level0 row2\" >2</th>\n",
       "      <td id=\"T_46c20_row2_col0\" class=\"data row2 col0\" >894</td>\n",
       "      <td id=\"T_46c20_row2_col1\" class=\"data row2 col1\" >2</td>\n",
       "      <td id=\"T_46c20_row2_col2\" class=\"data row2 col2\" >Myles, Mr. Thomas Francis</td>\n",
       "      <td id=\"T_46c20_row2_col3\" class=\"data row2 col3\" >male</td>\n",
       "      <td id=\"T_46c20_row2_col4\" class=\"data row2 col4\" >62.000000</td>\n",
       "      <td id=\"T_46c20_row2_col5\" class=\"data row2 col5\" >0</td>\n",
       "      <td id=\"T_46c20_row2_col6\" class=\"data row2 col6\" >0</td>\n",
       "      <td id=\"T_46c20_row2_col7\" class=\"data row2 col7\" >240276</td>\n",
       "      <td id=\"T_46c20_row2_col8\" class=\"data row2 col8\" >9.687500</td>\n",
       "      <td id=\"T_46c20_row2_col9\" class=\"data row2 col9\" >nan</td>\n",
       "      <td id=\"T_46c20_row2_col10\" class=\"data row2 col10\" >Q</td>\n",
       "    </tr>\n",
       "    <tr>\n",
       "      <th id=\"T_46c20_level0_row3\" class=\"row_heading level0 row3\" >3</th>\n",
       "      <td id=\"T_46c20_row3_col0\" class=\"data row3 col0\" >895</td>\n",
       "      <td id=\"T_46c20_row3_col1\" class=\"data row3 col1\" >3</td>\n",
       "      <td id=\"T_46c20_row3_col2\" class=\"data row3 col2\" >Wirz, Mr. Albert</td>\n",
       "      <td id=\"T_46c20_row3_col3\" class=\"data row3 col3\" >male</td>\n",
       "      <td id=\"T_46c20_row3_col4\" class=\"data row3 col4\" >27.000000</td>\n",
       "      <td id=\"T_46c20_row3_col5\" class=\"data row3 col5\" >0</td>\n",
       "      <td id=\"T_46c20_row3_col6\" class=\"data row3 col6\" >0</td>\n",
       "      <td id=\"T_46c20_row3_col7\" class=\"data row3 col7\" >315154</td>\n",
       "      <td id=\"T_46c20_row3_col8\" class=\"data row3 col8\" >8.662500</td>\n",
       "      <td id=\"T_46c20_row3_col9\" class=\"data row3 col9\" >nan</td>\n",
       "      <td id=\"T_46c20_row3_col10\" class=\"data row3 col10\" >S</td>\n",
       "    </tr>\n",
       "    <tr>\n",
       "      <th id=\"T_46c20_level0_row4\" class=\"row_heading level0 row4\" >4</th>\n",
       "      <td id=\"T_46c20_row4_col0\" class=\"data row4 col0\" >896</td>\n",
       "      <td id=\"T_46c20_row4_col1\" class=\"data row4 col1\" >3</td>\n",
       "      <td id=\"T_46c20_row4_col2\" class=\"data row4 col2\" >Hirvonen, Mrs. Alexander (Helga E Lindqvist)</td>\n",
       "      <td id=\"T_46c20_row4_col3\" class=\"data row4 col3\" >female</td>\n",
       "      <td id=\"T_46c20_row4_col4\" class=\"data row4 col4\" >22.000000</td>\n",
       "      <td id=\"T_46c20_row4_col5\" class=\"data row4 col5\" >1</td>\n",
       "      <td id=\"T_46c20_row4_col6\" class=\"data row4 col6\" >1</td>\n",
       "      <td id=\"T_46c20_row4_col7\" class=\"data row4 col7\" >3101298</td>\n",
       "      <td id=\"T_46c20_row4_col8\" class=\"data row4 col8\" >12.287500</td>\n",
       "      <td id=\"T_46c20_row4_col9\" class=\"data row4 col9\" >nan</td>\n",
       "      <td id=\"T_46c20_row4_col10\" class=\"data row4 col10\" >S</td>\n",
       "    </tr>\n",
       "  </tbody>\n",
       "</table>\n"
      ],
      "text/plain": [
       "<pandas.io.formats.style.Styler at 0x7fc04f2482d0>"
      ]
     },
     "execution_count": 12,
     "metadata": {},
     "output_type": "execute_result"
    }
   ],
   "source": [
    "# Look at the top of the test data to get an overview\n",
    "test.head(5).style.applymap(lambda x: 'background-color:lightsteelblue')"
   ]
  },
  {
   "cell_type": "code",
   "execution_count": 13,
   "id": "6fb9e9a6",
   "metadata": {
    "execution": {
     "iopub.execute_input": "2022-12-12T21:34:28.225537Z",
     "iopub.status.busy": "2022-12-12T21:34:28.225067Z",
     "iopub.status.idle": "2022-12-12T21:34:28.232905Z",
     "shell.execute_reply": "2022-12-12T21:34:28.232462Z",
     "shell.execute_reply.started": "2022-12-12T21:30:25.908336Z"
    },
    "papermill": {
     "duration": 0.084074,
     "end_time": "2022-12-12T21:34:28.233012",
     "exception": false,
     "start_time": "2022-12-12T21:34:28.148938",
     "status": "completed"
    },
    "tags": []
   },
   "outputs": [
    {
     "name": "stdout",
     "output_type": "stream",
     "text": [
      "\u001b[34mNumber of Alive in train data: \u001b[31m342\n",
      "\u001b[34mNumber of Dead in train data: \u001b[31m549\n",
      "\u001b[34mPercentage of Survivors in train data: \u001b[31m0.3838383838383838\n"
     ]
    }
   ],
   "source": [
    "print(f\"{b_}Number of Alive in train data: {r_}{len(df[df['Survived'] == 1])}\\n{b_}Number of Dead in train data: {r_}{len(df[df['Survived'] == 0])}\")\n",
    "print(f\"{b_}Percentage of Survivors in train data: {r_}{len(df[df['Survived'] == 1])/(len(df[df['Survived'] == 1]) + len(df[df['Survived'] == 0]))}\")"
   ]
  },
  {
   "cell_type": "markdown",
   "id": "ade02c43",
   "metadata": {
    "papermill": {
     "duration": 0.075538,
     "end_time": "2022-12-12T21:34:28.383769",
     "exception": false,
     "start_time": "2022-12-12T21:34:28.308231",
     "status": "completed"
    },
    "tags": []
   },
   "source": [
    "pclass: A proxy for socio-economic status (SES)\n",
    "* 1st = Upper\n",
    "* 2nd = Middle\n",
    "* 3rd = Lower"
   ]
  },
  {
   "cell_type": "code",
   "execution_count": 14,
   "id": "89b26d58",
   "metadata": {
    "execution": {
     "iopub.execute_input": "2022-12-12T21:34:28.535272Z",
     "iopub.status.busy": "2022-12-12T21:34:28.534705Z",
     "iopub.status.idle": "2022-12-12T21:34:28.545356Z",
     "shell.execute_reply": "2022-12-12T21:34:28.546146Z",
     "shell.execute_reply.started": "2022-12-12T21:30:25.925157Z"
    },
    "papermill": {
     "duration": 0.088402,
     "end_time": "2022-12-12T21:34:28.546410",
     "exception": false,
     "start_time": "2022-12-12T21:34:28.458008",
     "status": "completed"
    },
    "tags": []
   },
   "outputs": [
    {
     "name": "stdout",
     "output_type": "stream",
     "text": [
      "\u001b[34mPercentage of Survivors of Pclass3 in train data: \u001b[31m0.24236252545824846\n",
      "\u001b[34mPercentage of Survivors of Pclass2 in train data: \u001b[31m0.47282608695652173\n",
      "\u001b[34mPercentage of Survivors of Pclass1 in train data: \u001b[31m0.6296296296296297\n"
     ]
    }
   ],
   "source": [
    "print(f\"{b_}Percentage of Survivors of Pclass3 in train data: {r_}{len(df[(df['Pclass'] == 3)&(df['Survived'] == 1)]) / (len(df[(df['Pclass'] == 3)&(df['Survived'] == 1)]) + len(df[(df['Pclass'] == 3)&(df['Survived'] == 0)]))}\")\n",
    "print(f\"{b_}Percentage of Survivors of Pclass2 in train data: {r_}{len(df[(df['Pclass'] == 2)&(df['Survived'] == 1)]) / (len(df[(df['Pclass'] == 2)&(df['Survived'] == 1)]) + len(df[(df['Pclass'] == 2)&(df['Survived'] == 0)]))}\")\n",
    "print(f\"{b_}Percentage of Survivors of Pclass1 in train data: {r_}{len(df[(df['Pclass'] == 1)&(df['Survived'] == 1)]) / (len(df[(df['Pclass'] == 1)&(df['Survived'] == 1)]) + len(df[(df['Pclass'] == 1)&(df['Survived'] == 0)]))}\")"
   ]
  },
  {
   "cell_type": "code",
   "execution_count": 15,
   "id": "502ec830",
   "metadata": {
    "execution": {
     "iopub.execute_input": "2022-12-12T21:34:28.743095Z",
     "iopub.status.busy": "2022-12-12T21:34:28.742596Z",
     "iopub.status.idle": "2022-12-12T21:34:28.748028Z",
     "shell.execute_reply": "2022-12-12T21:34:28.747543Z",
     "shell.execute_reply.started": "2022-12-12T21:30:25.951486Z"
    },
    "papermill": {
     "duration": 0.126412,
     "end_time": "2022-12-12T21:34:28.748143",
     "exception": false,
     "start_time": "2022-12-12T21:34:28.621731",
     "status": "completed"
    },
    "tags": []
   },
   "outputs": [
    {
     "name": "stdout",
     "output_type": "stream",
     "text": [
      "\u001b[34mNumber of rows in test data: \u001b[31m418\n",
      "\u001b[34mNumber of columns in test data: \u001b[31m11\n"
     ]
    }
   ],
   "source": [
    "print(f\"{b_}Number of rows in test data: {r_}{test.shape[0]}\\n{b_}Number of columns in test data: {r_}{test.shape[1]}\")"
   ]
  },
  {
   "cell_type": "code",
   "execution_count": 16,
   "id": "1785729c",
   "metadata": {
    "execution": {
     "iopub.execute_input": "2022-12-12T21:34:28.900995Z",
     "iopub.status.busy": "2022-12-12T21:34:28.900393Z",
     "iopub.status.idle": "2022-12-12T21:34:28.912275Z",
     "shell.execute_reply": "2022-12-12T21:34:28.912779Z",
     "shell.execute_reply.started": "2022-12-12T21:30:25.968423Z"
    },
    "papermill": {
     "duration": 0.089932,
     "end_time": "2022-12-12T21:34:28.912946",
     "exception": false,
     "start_time": "2022-12-12T21:34:28.823014",
     "status": "completed"
    },
    "tags": []
   },
   "outputs": [
    {
     "data": {
      "text/plain": [
       "Survived\n",
       "0    30.626179\n",
       "1    28.343690\n",
       "Name: Age, dtype: float64"
      ]
     },
     "execution_count": 16,
     "metadata": {},
     "output_type": "execute_result"
    }
   ],
   "source": [
    "# Aggregate by Survived column\n",
    "df.groupby('Survived').mean()['Age']"
   ]
  },
  {
   "cell_type": "code",
   "execution_count": 17,
   "id": "c412e3ec",
   "metadata": {
    "execution": {
     "iopub.execute_input": "2022-12-12T21:34:29.065731Z",
     "iopub.status.busy": "2022-12-12T21:34:29.065116Z",
     "iopub.status.idle": "2022-12-12T21:34:29.073288Z",
     "shell.execute_reply": "2022-12-12T21:34:29.073712Z",
     "shell.execute_reply.started": "2022-12-12T21:30:25.990199Z"
    },
    "papermill": {
     "duration": 0.086582,
     "end_time": "2022-12-12T21:34:29.073881",
     "exception": false,
     "start_time": "2022-12-12T21:34:28.987299",
     "status": "completed"
    },
    "tags": []
   },
   "outputs": [
    {
     "data": {
      "text/plain": [
       "Pclass\n",
       "1    38.233441\n",
       "2    29.877630\n",
       "3    25.140620\n",
       "Name: Age, dtype: float64"
      ]
     },
     "execution_count": 17,
     "metadata": {},
     "output_type": "execute_result"
    }
   ],
   "source": [
    "# Aggregate by Survived column\n",
    "df.groupby('Pclass').mean()['Age']"
   ]
  },
  {
   "cell_type": "code",
   "execution_count": 18,
   "id": "bc7b59c7",
   "metadata": {
    "execution": {
     "iopub.execute_input": "2022-12-12T21:34:29.227175Z",
     "iopub.status.busy": "2022-12-12T21:34:29.226622Z",
     "iopub.status.idle": "2022-12-12T21:34:29.246830Z",
     "shell.execute_reply": "2022-12-12T21:34:29.247255Z",
     "shell.execute_reply.started": "2022-12-12T21:30:26.002067Z"
    },
    "papermill": {
     "duration": 0.096956,
     "end_time": "2022-12-12T21:34:29.247397",
     "exception": false,
     "start_time": "2022-12-12T21:34:29.150441",
     "status": "completed"
    },
    "tags": []
   },
   "outputs": [],
   "source": [
    "# Creat a pivot table on ship's grade and age\n",
    "df_pivot = pd.pivot_table(df, index = 'Survived', columns = 'Pclass', values = 'Age')\n",
    "df_pivot = np.array(df_pivot)"
   ]
  },
  {
   "cell_type": "code",
   "execution_count": 19,
   "id": "2b26e24a",
   "metadata": {
    "execution": {
     "iopub.execute_input": "2022-12-12T21:34:29.401009Z",
     "iopub.status.busy": "2022-12-12T21:34:29.400479Z",
     "iopub.status.idle": "2022-12-12T21:34:29.408414Z",
     "shell.execute_reply": "2022-12-12T21:34:29.407877Z",
     "shell.execute_reply.started": "2022-12-12T21:30:26.025273Z"
    },
    "papermill": {
     "duration": 0.086454,
     "end_time": "2022-12-12T21:34:29.408528",
     "exception": false,
     "start_time": "2022-12-12T21:34:29.322074",
     "status": "completed"
    },
    "tags": []
   },
   "outputs": [
    {
     "data": {
      "text/plain": [
       "PassengerId      0\n",
       "Survived         0\n",
       "Pclass           0\n",
       "Name             0\n",
       "Sex              0\n",
       "Age            177\n",
       "SibSp            0\n",
       "Parch            0\n",
       "Ticket           0\n",
       "Fare             0\n",
       "Cabin          687\n",
       "Embarked         2\n",
       "dtype: int64"
      ]
     },
     "execution_count": 19,
     "metadata": {},
     "output_type": "execute_result"
    }
   ],
   "source": [
    "# Check for missing values in the training features data\n",
    "df.isnull().sum()"
   ]
  },
  {
   "cell_type": "code",
   "execution_count": 20,
   "id": "b1d7f43e",
   "metadata": {
    "execution": {
     "iopub.execute_input": "2022-12-12T21:34:29.565857Z",
     "iopub.status.busy": "2022-12-12T21:34:29.564764Z",
     "iopub.status.idle": "2022-12-12T21:34:29.569229Z",
     "shell.execute_reply": "2022-12-12T21:34:29.569596Z",
     "shell.execute_reply.started": "2022-12-12T21:30:26.037336Z"
    },
    "papermill": {
     "duration": 0.086834,
     "end_time": "2022-12-12T21:34:29.569750",
     "exception": false,
     "start_time": "2022-12-12T21:34:29.482916",
     "status": "completed"
    },
    "tags": []
   },
   "outputs": [
    {
     "data": {
      "text/plain": [
       "PassengerId      0\n",
       "Pclass           0\n",
       "Name             0\n",
       "Sex              0\n",
       "Age             86\n",
       "SibSp            0\n",
       "Parch            0\n",
       "Ticket           0\n",
       "Fare             1\n",
       "Cabin          327\n",
       "Embarked         0\n",
       "dtype: int64"
      ]
     },
     "execution_count": 20,
     "metadata": {},
     "output_type": "execute_result"
    }
   ],
   "source": [
    "# Check for missing values in the testing features data\n",
    "test.isnull().sum()"
   ]
  },
  {
   "cell_type": "markdown",
   "id": "04df5b15",
   "metadata": {
    "papermill": {
     "duration": 0.075432,
     "end_time": "2022-12-12T21:34:29.721553",
     "exception": false,
     "start_time": "2022-12-12T21:34:29.646121",
     "status": "completed"
    },
    "tags": []
   },
   "source": [
    "* Unfortunately, we have to admit that there are deficiencies in Age and Cabin, Embarked."
   ]
  },
  {
   "cell_type": "markdown",
   "id": "ef6dbdee",
   "metadata": {
    "papermill": {
     "duration": 0.077297,
     "end_time": "2022-12-12T21:34:29.877986",
     "exception": false,
     "start_time": "2022-12-12T21:34:29.800689",
     "status": "completed"
    },
    "tags": []
   },
   "source": [
    "# Checking data statistics"
   ]
  },
  {
   "cell_type": "code",
   "execution_count": 21,
   "id": "7e380a26",
   "metadata": {
    "execution": {
     "iopub.execute_input": "2022-12-12T21:34:30.033114Z",
     "iopub.status.busy": "2022-12-12T21:34:30.032598Z",
     "iopub.status.idle": "2022-12-12T21:34:30.059740Z",
     "shell.execute_reply": "2022-12-12T21:34:30.060104Z",
     "shell.execute_reply.started": "2022-12-12T21:30:26.055972Z"
    },
    "papermill": {
     "duration": 0.105185,
     "end_time": "2022-12-12T21:34:30.060244",
     "exception": false,
     "start_time": "2022-12-12T21:34:29.955059",
     "status": "completed"
    },
    "tags": []
   },
   "outputs": [
    {
     "data": {
      "text/html": [
       "<style type=\"text/css\">\n",
       "#T_45483_row0_col0, #T_45483_row0_col1, #T_45483_row0_col2, #T_45483_row0_col3, #T_45483_row0_col4, #T_45483_row0_col5, #T_45483_row0_col6, #T_45483_row1_col0, #T_45483_row1_col1, #T_45483_row1_col2, #T_45483_row1_col3, #T_45483_row1_col4, #T_45483_row1_col5, #T_45483_row1_col6, #T_45483_row2_col0, #T_45483_row2_col1, #T_45483_row2_col2, #T_45483_row2_col3, #T_45483_row2_col4, #T_45483_row2_col5, #T_45483_row2_col6, #T_45483_row3_col0, #T_45483_row3_col1, #T_45483_row3_col2, #T_45483_row3_col3, #T_45483_row3_col4, #T_45483_row3_col5, #T_45483_row3_col6, #T_45483_row4_col0, #T_45483_row4_col1, #T_45483_row4_col2, #T_45483_row4_col3, #T_45483_row4_col4, #T_45483_row4_col5, #T_45483_row4_col6, #T_45483_row5_col0, #T_45483_row5_col1, #T_45483_row5_col2, #T_45483_row5_col3, #T_45483_row5_col4, #T_45483_row5_col5, #T_45483_row5_col6, #T_45483_row6_col0, #T_45483_row6_col1, #T_45483_row6_col2, #T_45483_row6_col3, #T_45483_row6_col4, #T_45483_row6_col5, #T_45483_row6_col6, #T_45483_row7_col0, #T_45483_row7_col1, #T_45483_row7_col2, #T_45483_row7_col3, #T_45483_row7_col4, #T_45483_row7_col5, #T_45483_row7_col6 {\n",
       "  background-color: yellow;\n",
       "}\n",
       "</style>\n",
       "<table id=\"T_45483_\">\n",
       "  <thead>\n",
       "    <tr>\n",
       "      <th class=\"blank level0\" >&nbsp;</th>\n",
       "      <th class=\"col_heading level0 col0\" >PassengerId</th>\n",
       "      <th class=\"col_heading level0 col1\" >Survived</th>\n",
       "      <th class=\"col_heading level0 col2\" >Pclass</th>\n",
       "      <th class=\"col_heading level0 col3\" >Age</th>\n",
       "      <th class=\"col_heading level0 col4\" >SibSp</th>\n",
       "      <th class=\"col_heading level0 col5\" >Parch</th>\n",
       "      <th class=\"col_heading level0 col6\" >Fare</th>\n",
       "    </tr>\n",
       "  </thead>\n",
       "  <tbody>\n",
       "    <tr>\n",
       "      <th id=\"T_45483_level0_row0\" class=\"row_heading level0 row0\" >count</th>\n",
       "      <td id=\"T_45483_row0_col0\" class=\"data row0 col0\" >891.000000</td>\n",
       "      <td id=\"T_45483_row0_col1\" class=\"data row0 col1\" >891.000000</td>\n",
       "      <td id=\"T_45483_row0_col2\" class=\"data row0 col2\" >891.000000</td>\n",
       "      <td id=\"T_45483_row0_col3\" class=\"data row0 col3\" >714.000000</td>\n",
       "      <td id=\"T_45483_row0_col4\" class=\"data row0 col4\" >891.000000</td>\n",
       "      <td id=\"T_45483_row0_col5\" class=\"data row0 col5\" >891.000000</td>\n",
       "      <td id=\"T_45483_row0_col6\" class=\"data row0 col6\" >891.000000</td>\n",
       "    </tr>\n",
       "    <tr>\n",
       "      <th id=\"T_45483_level0_row1\" class=\"row_heading level0 row1\" >mean</th>\n",
       "      <td id=\"T_45483_row1_col0\" class=\"data row1 col0\" >446.000000</td>\n",
       "      <td id=\"T_45483_row1_col1\" class=\"data row1 col1\" >0.383838</td>\n",
       "      <td id=\"T_45483_row1_col2\" class=\"data row1 col2\" >2.308642</td>\n",
       "      <td id=\"T_45483_row1_col3\" class=\"data row1 col3\" >29.699118</td>\n",
       "      <td id=\"T_45483_row1_col4\" class=\"data row1 col4\" >0.523008</td>\n",
       "      <td id=\"T_45483_row1_col5\" class=\"data row1 col5\" >0.381594</td>\n",
       "      <td id=\"T_45483_row1_col6\" class=\"data row1 col6\" >32.204208</td>\n",
       "    </tr>\n",
       "    <tr>\n",
       "      <th id=\"T_45483_level0_row2\" class=\"row_heading level0 row2\" >std</th>\n",
       "      <td id=\"T_45483_row2_col0\" class=\"data row2 col0\" >257.353842</td>\n",
       "      <td id=\"T_45483_row2_col1\" class=\"data row2 col1\" >0.486592</td>\n",
       "      <td id=\"T_45483_row2_col2\" class=\"data row2 col2\" >0.836071</td>\n",
       "      <td id=\"T_45483_row2_col3\" class=\"data row2 col3\" >14.526497</td>\n",
       "      <td id=\"T_45483_row2_col4\" class=\"data row2 col4\" >1.102743</td>\n",
       "      <td id=\"T_45483_row2_col5\" class=\"data row2 col5\" >0.806057</td>\n",
       "      <td id=\"T_45483_row2_col6\" class=\"data row2 col6\" >49.693429</td>\n",
       "    </tr>\n",
       "    <tr>\n",
       "      <th id=\"T_45483_level0_row3\" class=\"row_heading level0 row3\" >min</th>\n",
       "      <td id=\"T_45483_row3_col0\" class=\"data row3 col0\" >1.000000</td>\n",
       "      <td id=\"T_45483_row3_col1\" class=\"data row3 col1\" >0.000000</td>\n",
       "      <td id=\"T_45483_row3_col2\" class=\"data row3 col2\" >1.000000</td>\n",
       "      <td id=\"T_45483_row3_col3\" class=\"data row3 col3\" >0.420000</td>\n",
       "      <td id=\"T_45483_row3_col4\" class=\"data row3 col4\" >0.000000</td>\n",
       "      <td id=\"T_45483_row3_col5\" class=\"data row3 col5\" >0.000000</td>\n",
       "      <td id=\"T_45483_row3_col6\" class=\"data row3 col6\" >0.000000</td>\n",
       "    </tr>\n",
       "    <tr>\n",
       "      <th id=\"T_45483_level0_row4\" class=\"row_heading level0 row4\" >25%</th>\n",
       "      <td id=\"T_45483_row4_col0\" class=\"data row4 col0\" >223.500000</td>\n",
       "      <td id=\"T_45483_row4_col1\" class=\"data row4 col1\" >0.000000</td>\n",
       "      <td id=\"T_45483_row4_col2\" class=\"data row4 col2\" >2.000000</td>\n",
       "      <td id=\"T_45483_row4_col3\" class=\"data row4 col3\" >20.125000</td>\n",
       "      <td id=\"T_45483_row4_col4\" class=\"data row4 col4\" >0.000000</td>\n",
       "      <td id=\"T_45483_row4_col5\" class=\"data row4 col5\" >0.000000</td>\n",
       "      <td id=\"T_45483_row4_col6\" class=\"data row4 col6\" >7.910400</td>\n",
       "    </tr>\n",
       "    <tr>\n",
       "      <th id=\"T_45483_level0_row5\" class=\"row_heading level0 row5\" >50%</th>\n",
       "      <td id=\"T_45483_row5_col0\" class=\"data row5 col0\" >446.000000</td>\n",
       "      <td id=\"T_45483_row5_col1\" class=\"data row5 col1\" >0.000000</td>\n",
       "      <td id=\"T_45483_row5_col2\" class=\"data row5 col2\" >3.000000</td>\n",
       "      <td id=\"T_45483_row5_col3\" class=\"data row5 col3\" >28.000000</td>\n",
       "      <td id=\"T_45483_row5_col4\" class=\"data row5 col4\" >0.000000</td>\n",
       "      <td id=\"T_45483_row5_col5\" class=\"data row5 col5\" >0.000000</td>\n",
       "      <td id=\"T_45483_row5_col6\" class=\"data row5 col6\" >14.454200</td>\n",
       "    </tr>\n",
       "    <tr>\n",
       "      <th id=\"T_45483_level0_row6\" class=\"row_heading level0 row6\" >75%</th>\n",
       "      <td id=\"T_45483_row6_col0\" class=\"data row6 col0\" >668.500000</td>\n",
       "      <td id=\"T_45483_row6_col1\" class=\"data row6 col1\" >1.000000</td>\n",
       "      <td id=\"T_45483_row6_col2\" class=\"data row6 col2\" >3.000000</td>\n",
       "      <td id=\"T_45483_row6_col3\" class=\"data row6 col3\" >38.000000</td>\n",
       "      <td id=\"T_45483_row6_col4\" class=\"data row6 col4\" >1.000000</td>\n",
       "      <td id=\"T_45483_row6_col5\" class=\"data row6 col5\" >0.000000</td>\n",
       "      <td id=\"T_45483_row6_col6\" class=\"data row6 col6\" >31.000000</td>\n",
       "    </tr>\n",
       "    <tr>\n",
       "      <th id=\"T_45483_level0_row7\" class=\"row_heading level0 row7\" >max</th>\n",
       "      <td id=\"T_45483_row7_col0\" class=\"data row7 col0\" >891.000000</td>\n",
       "      <td id=\"T_45483_row7_col1\" class=\"data row7 col1\" >1.000000</td>\n",
       "      <td id=\"T_45483_row7_col2\" class=\"data row7 col2\" >3.000000</td>\n",
       "      <td id=\"T_45483_row7_col3\" class=\"data row7 col3\" >80.000000</td>\n",
       "      <td id=\"T_45483_row7_col4\" class=\"data row7 col4\" >8.000000</td>\n",
       "      <td id=\"T_45483_row7_col5\" class=\"data row7 col5\" >6.000000</td>\n",
       "      <td id=\"T_45483_row7_col6\" class=\"data row7 col6\" >512.329200</td>\n",
       "    </tr>\n",
       "  </tbody>\n",
       "</table>\n"
      ],
      "text/plain": [
       "<pandas.io.formats.style.Styler at 0x7fc08d712ad0>"
      ]
     },
     "execution_count": 21,
     "metadata": {},
     "output_type": "execute_result"
    }
   ],
   "source": [
    "# Check statistics in the training data\n",
    "df.describe().style.applymap(lambda x: 'background-color:yellow')"
   ]
  },
  {
   "cell_type": "code",
   "execution_count": 22,
   "id": "1816ab44",
   "metadata": {
    "execution": {
     "iopub.execute_input": "2022-12-12T21:34:30.219073Z",
     "iopub.status.busy": "2022-12-12T21:34:30.217603Z",
     "iopub.status.idle": "2022-12-12T21:34:30.225018Z",
     "shell.execute_reply": "2022-12-12T21:34:30.225457Z",
     "shell.execute_reply.started": "2022-12-12T21:30:26.101569Z"
    },
    "papermill": {
     "duration": 0.087719,
     "end_time": "2022-12-12T21:34:30.225592",
     "exception": false,
     "start_time": "2022-12-12T21:34:30.137873",
     "status": "completed"
    },
    "tags": []
   },
   "outputs": [
    {
     "data": {
      "text/plain": [
       "count    714.000000\n",
       "mean      29.699118\n",
       "std       14.526497\n",
       "min        0.420000\n",
       "25%       20.125000\n",
       "50%       28.000000\n",
       "75%       38.000000\n",
       "max       80.000000\n",
       "Name: Age, dtype: float64"
      ]
     },
     "execution_count": 22,
     "metadata": {},
     "output_type": "execute_result"
    }
   ],
   "source": [
    "# Check the statistics in the Age column\n",
    "df['Age'].describe()"
   ]
  },
  {
   "cell_type": "code",
   "execution_count": 23,
   "id": "e4e9357c",
   "metadata": {
    "execution": {
     "iopub.execute_input": "2022-12-12T21:34:30.381521Z",
     "iopub.status.busy": "2022-12-12T21:34:30.381016Z",
     "iopub.status.idle": "2022-12-12T21:34:30.385767Z",
     "shell.execute_reply": "2022-12-12T21:34:30.386182Z",
     "shell.execute_reply.started": "2022-12-12T21:30:26.119211Z"
    },
    "papermill": {
     "duration": 0.084966,
     "end_time": "2022-12-12T21:34:30.386335",
     "exception": false,
     "start_time": "2022-12-12T21:34:30.301369",
     "status": "completed"
    },
    "tags": []
   },
   "outputs": [
    {
     "name": "stdout",
     "output_type": "stream",
     "text": [
      "Total number of passengers:  891\n",
      "Passenger survival rate:  38\n"
     ]
    }
   ],
   "source": [
    "x = df['Survived'].mean() * 100\n",
    "survival_rate = math.floor(x)\n",
    "print('Total number of passengers: ', df['PassengerId'].count())\n",
    "print('Passenger survival rate: ', survival_rate)"
   ]
  },
  {
   "cell_type": "markdown",
   "id": "8c936880",
   "metadata": {
    "papermill": {
     "duration": 0.076093,
     "end_time": "2022-12-12T21:34:30.539568",
     "exception": false,
     "start_time": "2022-12-12T21:34:30.463475",
     "status": "completed"
    },
    "tags": []
   },
   "source": [
    "* The definition of Variable for data is as stated on [this page](https://www.kaggle.com/c/titanic/data)."
   ]
  },
  {
   "cell_type": "code",
   "execution_count": 24,
   "id": "35d496b6",
   "metadata": {
    "execution": {
     "iopub.execute_input": "2022-12-12T21:34:30.696332Z",
     "iopub.status.busy": "2022-12-12T21:34:30.695730Z",
     "iopub.status.idle": "2022-12-12T21:34:30.699708Z",
     "shell.execute_reply": "2022-12-12T21:34:30.700102Z",
     "shell.execute_reply.started": "2022-12-12T21:30:26.131237Z"
    },
    "papermill": {
     "duration": 0.085133,
     "end_time": "2022-12-12T21:34:30.700250",
     "exception": false,
     "start_time": "2022-12-12T21:34:30.615117",
     "status": "completed"
    },
    "tags": []
   },
   "outputs": [
    {
     "data": {
      "text/plain": [
       "False"
      ]
     },
     "execution_count": 24,
     "metadata": {},
     "output_type": "execute_result"
    }
   ],
   "source": [
    "# make sure there are no duplicate passenger IDs\n",
    "df.duplicated(['PassengerId']).any()"
   ]
  },
  {
   "cell_type": "code",
   "execution_count": 25,
   "id": "bdc182e5",
   "metadata": {
    "execution": {
     "iopub.execute_input": "2022-12-12T21:34:30.861168Z",
     "iopub.status.busy": "2022-12-12T21:34:30.860625Z",
     "iopub.status.idle": "2022-12-12T21:34:30.867168Z",
     "shell.execute_reply": "2022-12-12T21:34:30.866560Z",
     "shell.execute_reply.started": "2022-12-12T21:30:26.144756Z"
    },
    "papermill": {
     "duration": 0.088336,
     "end_time": "2022-12-12T21:34:30.867283",
     "exception": false,
     "start_time": "2022-12-12T21:34:30.778947",
     "status": "completed"
    },
    "tags": []
   },
   "outputs": [
    {
     "data": {
      "text/plain": [
       "False"
      ]
     },
     "execution_count": 25,
     "metadata": {},
     "output_type": "execute_result"
    }
   ],
   "source": [
    "# make sure there are no duplicate passenger IDs\n",
    "test.duplicated(['PassengerId']).any()"
   ]
  },
  {
   "cell_type": "markdown",
   "id": "9cf16671",
   "metadata": {
    "papermill": {
     "duration": 0.088237,
     "end_time": "2022-12-12T21:34:31.032293",
     "exception": false,
     "start_time": "2022-12-12T21:34:30.944056",
     "status": "completed"
    },
    "tags": []
   },
   "source": [
    "* We were able to verify that there was no duplicate passenger ID."
   ]
  },
  {
   "cell_type": "code",
   "execution_count": 26,
   "id": "4013fb72",
   "metadata": {
    "execution": {
     "iopub.execute_input": "2022-12-12T21:34:31.204597Z",
     "iopub.status.busy": "2022-12-12T21:34:31.204082Z",
     "iopub.status.idle": "2022-12-12T21:34:31.228096Z",
     "shell.execute_reply": "2022-12-12T21:34:31.228560Z",
     "shell.execute_reply.started": "2022-12-12T21:30:26.159361Z"
    },
    "papermill": {
     "duration": 0.109773,
     "end_time": "2022-12-12T21:34:31.228695",
     "exception": false,
     "start_time": "2022-12-12T21:34:31.118922",
     "status": "completed"
    },
    "tags": []
   },
   "outputs": [
    {
     "data": {
      "text/html": [
       "<style type=\"text/css\">\n",
       "#T_b236d_row0_col0, #T_b236d_row0_col1, #T_b236d_row0_col2, #T_b236d_row0_col3, #T_b236d_row0_col4, #T_b236d_row0_col5, #T_b236d_row1_col0, #T_b236d_row1_col1, #T_b236d_row1_col2, #T_b236d_row1_col3, #T_b236d_row1_col4, #T_b236d_row1_col5, #T_b236d_row2_col0, #T_b236d_row2_col1, #T_b236d_row2_col2, #T_b236d_row2_col3, #T_b236d_row2_col4, #T_b236d_row2_col5, #T_b236d_row3_col0, #T_b236d_row3_col1, #T_b236d_row3_col2, #T_b236d_row3_col3, #T_b236d_row3_col4, #T_b236d_row3_col5, #T_b236d_row4_col0, #T_b236d_row4_col1, #T_b236d_row4_col2, #T_b236d_row4_col3, #T_b236d_row4_col4, #T_b236d_row4_col5, #T_b236d_row5_col0, #T_b236d_row5_col1, #T_b236d_row5_col2, #T_b236d_row5_col3, #T_b236d_row5_col4, #T_b236d_row5_col5, #T_b236d_row6_col0, #T_b236d_row6_col1, #T_b236d_row6_col2, #T_b236d_row6_col3, #T_b236d_row6_col4, #T_b236d_row6_col5, #T_b236d_row7_col0, #T_b236d_row7_col1, #T_b236d_row7_col2, #T_b236d_row7_col3, #T_b236d_row7_col4, #T_b236d_row7_col5 {\n",
       "  background-color: lightgreen;\n",
       "}\n",
       "</style>\n",
       "<table id=\"T_b236d_\">\n",
       "  <thead>\n",
       "    <tr>\n",
       "      <th class=\"blank level0\" >&nbsp;</th>\n",
       "      <th class=\"col_heading level0 col0\" >PassengerId</th>\n",
       "      <th class=\"col_heading level0 col1\" >Pclass</th>\n",
       "      <th class=\"col_heading level0 col2\" >Age</th>\n",
       "      <th class=\"col_heading level0 col3\" >SibSp</th>\n",
       "      <th class=\"col_heading level0 col4\" >Parch</th>\n",
       "      <th class=\"col_heading level0 col5\" >Fare</th>\n",
       "    </tr>\n",
       "  </thead>\n",
       "  <tbody>\n",
       "    <tr>\n",
       "      <th id=\"T_b236d_level0_row0\" class=\"row_heading level0 row0\" >count</th>\n",
       "      <td id=\"T_b236d_row0_col0\" class=\"data row0 col0\" >418.000000</td>\n",
       "      <td id=\"T_b236d_row0_col1\" class=\"data row0 col1\" >418.000000</td>\n",
       "      <td id=\"T_b236d_row0_col2\" class=\"data row0 col2\" >332.000000</td>\n",
       "      <td id=\"T_b236d_row0_col3\" class=\"data row0 col3\" >418.000000</td>\n",
       "      <td id=\"T_b236d_row0_col4\" class=\"data row0 col4\" >418.000000</td>\n",
       "      <td id=\"T_b236d_row0_col5\" class=\"data row0 col5\" >417.000000</td>\n",
       "    </tr>\n",
       "    <tr>\n",
       "      <th id=\"T_b236d_level0_row1\" class=\"row_heading level0 row1\" >mean</th>\n",
       "      <td id=\"T_b236d_row1_col0\" class=\"data row1 col0\" >1100.500000</td>\n",
       "      <td id=\"T_b236d_row1_col1\" class=\"data row1 col1\" >2.265550</td>\n",
       "      <td id=\"T_b236d_row1_col2\" class=\"data row1 col2\" >30.272590</td>\n",
       "      <td id=\"T_b236d_row1_col3\" class=\"data row1 col3\" >0.447368</td>\n",
       "      <td id=\"T_b236d_row1_col4\" class=\"data row1 col4\" >0.392344</td>\n",
       "      <td id=\"T_b236d_row1_col5\" class=\"data row1 col5\" >35.627188</td>\n",
       "    </tr>\n",
       "    <tr>\n",
       "      <th id=\"T_b236d_level0_row2\" class=\"row_heading level0 row2\" >std</th>\n",
       "      <td id=\"T_b236d_row2_col0\" class=\"data row2 col0\" >120.810458</td>\n",
       "      <td id=\"T_b236d_row2_col1\" class=\"data row2 col1\" >0.841838</td>\n",
       "      <td id=\"T_b236d_row2_col2\" class=\"data row2 col2\" >14.181209</td>\n",
       "      <td id=\"T_b236d_row2_col3\" class=\"data row2 col3\" >0.896760</td>\n",
       "      <td id=\"T_b236d_row2_col4\" class=\"data row2 col4\" >0.981429</td>\n",
       "      <td id=\"T_b236d_row2_col5\" class=\"data row2 col5\" >55.907576</td>\n",
       "    </tr>\n",
       "    <tr>\n",
       "      <th id=\"T_b236d_level0_row3\" class=\"row_heading level0 row3\" >min</th>\n",
       "      <td id=\"T_b236d_row3_col0\" class=\"data row3 col0\" >892.000000</td>\n",
       "      <td id=\"T_b236d_row3_col1\" class=\"data row3 col1\" >1.000000</td>\n",
       "      <td id=\"T_b236d_row3_col2\" class=\"data row3 col2\" >0.170000</td>\n",
       "      <td id=\"T_b236d_row3_col3\" class=\"data row3 col3\" >0.000000</td>\n",
       "      <td id=\"T_b236d_row3_col4\" class=\"data row3 col4\" >0.000000</td>\n",
       "      <td id=\"T_b236d_row3_col5\" class=\"data row3 col5\" >0.000000</td>\n",
       "    </tr>\n",
       "    <tr>\n",
       "      <th id=\"T_b236d_level0_row4\" class=\"row_heading level0 row4\" >25%</th>\n",
       "      <td id=\"T_b236d_row4_col0\" class=\"data row4 col0\" >996.250000</td>\n",
       "      <td id=\"T_b236d_row4_col1\" class=\"data row4 col1\" >1.000000</td>\n",
       "      <td id=\"T_b236d_row4_col2\" class=\"data row4 col2\" >21.000000</td>\n",
       "      <td id=\"T_b236d_row4_col3\" class=\"data row4 col3\" >0.000000</td>\n",
       "      <td id=\"T_b236d_row4_col4\" class=\"data row4 col4\" >0.000000</td>\n",
       "      <td id=\"T_b236d_row4_col5\" class=\"data row4 col5\" >7.895800</td>\n",
       "    </tr>\n",
       "    <tr>\n",
       "      <th id=\"T_b236d_level0_row5\" class=\"row_heading level0 row5\" >50%</th>\n",
       "      <td id=\"T_b236d_row5_col0\" class=\"data row5 col0\" >1100.500000</td>\n",
       "      <td id=\"T_b236d_row5_col1\" class=\"data row5 col1\" >3.000000</td>\n",
       "      <td id=\"T_b236d_row5_col2\" class=\"data row5 col2\" >27.000000</td>\n",
       "      <td id=\"T_b236d_row5_col3\" class=\"data row5 col3\" >0.000000</td>\n",
       "      <td id=\"T_b236d_row5_col4\" class=\"data row5 col4\" >0.000000</td>\n",
       "      <td id=\"T_b236d_row5_col5\" class=\"data row5 col5\" >14.454200</td>\n",
       "    </tr>\n",
       "    <tr>\n",
       "      <th id=\"T_b236d_level0_row6\" class=\"row_heading level0 row6\" >75%</th>\n",
       "      <td id=\"T_b236d_row6_col0\" class=\"data row6 col0\" >1204.750000</td>\n",
       "      <td id=\"T_b236d_row6_col1\" class=\"data row6 col1\" >3.000000</td>\n",
       "      <td id=\"T_b236d_row6_col2\" class=\"data row6 col2\" >39.000000</td>\n",
       "      <td id=\"T_b236d_row6_col3\" class=\"data row6 col3\" >1.000000</td>\n",
       "      <td id=\"T_b236d_row6_col4\" class=\"data row6 col4\" >0.000000</td>\n",
       "      <td id=\"T_b236d_row6_col5\" class=\"data row6 col5\" >31.500000</td>\n",
       "    </tr>\n",
       "    <tr>\n",
       "      <th id=\"T_b236d_level0_row7\" class=\"row_heading level0 row7\" >max</th>\n",
       "      <td id=\"T_b236d_row7_col0\" class=\"data row7 col0\" >1309.000000</td>\n",
       "      <td id=\"T_b236d_row7_col1\" class=\"data row7 col1\" >3.000000</td>\n",
       "      <td id=\"T_b236d_row7_col2\" class=\"data row7 col2\" >76.000000</td>\n",
       "      <td id=\"T_b236d_row7_col3\" class=\"data row7 col3\" >8.000000</td>\n",
       "      <td id=\"T_b236d_row7_col4\" class=\"data row7 col4\" >9.000000</td>\n",
       "      <td id=\"T_b236d_row7_col5\" class=\"data row7 col5\" >512.329200</td>\n",
       "    </tr>\n",
       "  </tbody>\n",
       "</table>\n"
      ],
      "text/plain": [
       "<pandas.io.formats.style.Styler at 0x7fc08c2c3710>"
      ]
     },
     "execution_count": 26,
     "metadata": {},
     "output_type": "execute_result"
    }
   ],
   "source": [
    "# Check statistics in the test data\n",
    "test.describe().style.applymap(lambda x: 'background-color:lightgreen')"
   ]
  },
  {
   "cell_type": "markdown",
   "id": "2e7a7692",
   "metadata": {
    "papermill": {
     "duration": 0.079175,
     "end_time": "2022-12-12T21:34:31.386508",
     "exception": false,
     "start_time": "2022-12-12T21:34:31.307333",
     "status": "completed"
    },
    "tags": []
   },
   "source": [
    "# Data Visualization"
   ]
  },
  {
   "cell_type": "code",
   "execution_count": 27,
   "id": "3f8fc8a0",
   "metadata": {
    "execution": {
     "iopub.execute_input": "2022-12-12T21:34:31.543960Z",
     "iopub.status.busy": "2022-12-12T21:34:31.543374Z",
     "iopub.status.idle": "2022-12-12T21:34:31.702922Z",
     "shell.execute_reply": "2022-12-12T21:34:31.703448Z",
     "shell.execute_reply.started": "2022-12-12T21:30:26.192204Z"
    },
    "papermill": {
     "duration": 0.239484,
     "end_time": "2022-12-12T21:34:31.703609",
     "exception": false,
     "start_time": "2022-12-12T21:34:31.464125",
     "status": "completed"
    },
    "tags": []
   },
   "outputs": [
    {
     "data": {
      "text/plain": [
       "<AxesSubplot:xlabel='Survived', ylabel='count'>"
      ]
     },
     "execution_count": 27,
     "metadata": {},
     "output_type": "execute_result"
    },
    {
     "data": {
      "image/png": "[encoded data removed]",
      "text/plain": [
       "<Figure size 432x288 with 1 Axes>"
      ]
     },
     "metadata": {
      "needs_background": "light"
     },
     "output_type": "display_data"
    }
   ],
   "source": [
    "# Show the number of live deaths\n",
    "sns.countplot(data=df, x='Survived')"
   ]
  },
  {
   "cell_type": "code",
   "execution_count": 28,
   "id": "4a650475",
   "metadata": {
    "execution": {
     "iopub.execute_input": "2022-12-12T21:34:31.869660Z",
     "iopub.status.busy": "2022-12-12T21:34:31.869156Z",
     "iopub.status.idle": "2022-12-12T21:34:32.018777Z",
     "shell.execute_reply": "2022-12-12T21:34:32.019285Z",
     "shell.execute_reply.started": "2022-12-12T21:30:26.376723Z"
    },
    "papermill": {
     "duration": 0.23398,
     "end_time": "2022-12-12T21:34:32.019443",
     "exception": false,
     "start_time": "2022-12-12T21:34:31.785463",
     "status": "completed"
    },
    "tags": []
   },
   "outputs": [
    {
     "data": {
      "text/plain": [
       "<AxesSubplot:xlabel='Survived', ylabel='Age'>"
      ]
     },
     "execution_count": 28,
     "metadata": {},
     "output_type": "execute_result"
    },
    {
     "data": {
      "image/png": "[encoded data removed]",
      "text/plain": [
       "<Figure size 432x288 with 1 Axes>"
      ]
     },
     "metadata": {
      "needs_background": "light"
     },
     "output_type": "display_data"
    }
   ],
   "source": [
    "sns.boxplot(data=df, x='Survived', y='Age')"
   ]
  },
  {
   "cell_type": "code",
   "execution_count": 29,
   "id": "a9170dce",
   "metadata": {
    "execution": {
     "iopub.execute_input": "2022-12-12T21:34:32.185328Z",
     "iopub.status.busy": "2022-12-12T21:34:32.184809Z",
     "iopub.status.idle": "2022-12-12T21:34:41.351133Z",
     "shell.execute_reply": "2022-12-12T21:34:41.351533Z",
     "shell.execute_reply.started": "2022-12-12T21:30:26.592154Z"
    },
    "papermill": {
     "duration": 9.251796,
     "end_time": "2022-12-12T21:34:41.351681",
     "exception": false,
     "start_time": "2022-12-12T21:34:32.099885",
     "status": "completed"
    },
    "tags": []
   },
   "outputs": [
    {
     "data": {
      "text/plain": [
       "<seaborn.axisgrid.PairGrid at 0x7fc046ffd090>"
      ]
     },
     "execution_count": 29,
     "metadata": {},
     "output_type": "execute_result"
    },
    {
     "data": {
      "image/png": "[encoded data removed]",
      "text/plain": [
       "<Figure size 1131.88x1080 with 42 Axes>"
      ]
     },
     "metadata": {
      "needs_background": "light"
     },
     "output_type": "display_data"
    }
   ],
   "source": [
    "sns.pairplot(df, hue='Survived')"
   ]
  },
  {
   "cell_type": "code",
   "execution_count": 30,
   "id": "18cc97b5",
   "metadata": {
    "execution": {
     "iopub.execute_input": "2022-12-12T21:34:41.532891Z",
     "iopub.status.busy": "2022-12-12T21:34:41.532347Z",
     "iopub.status.idle": "2022-12-12T21:34:41.765357Z",
     "shell.execute_reply": "2022-12-12T21:34:41.764897Z",
     "shell.execute_reply.started": "2022-12-12T21:30:37.643094Z"
    },
    "papermill": {
     "duration": 0.326102,
     "end_time": "2022-12-12T21:34:41.765472",
     "exception": false,
     "start_time": "2022-12-12T21:34:41.439370",
     "status": "completed"
    },
    "tags": []
   },
   "outputs": [
    {
     "data": {
      "text/plain": [
       "<AxesSubplot:>"
      ]
     },
     "execution_count": 30,
     "metadata": {},
     "output_type": "execute_result"
    },
    {
     "data": {
      "image/png": "[encoded data removed]",
      "text/plain": [
       "<Figure size 432x288 with 2 Axes>"
      ]
     },
     "metadata": {
      "needs_background": "light"
     },
     "output_type": "display_data"
    }
   ],
   "source": [
    "sns.heatmap(df[['Survived', 'Pclass', 'Sex', 'Age', 'Fare', 'Embarked']].corr(), annot=True)"
   ]
  },
  {
   "cell_type": "code",
   "execution_count": 31,
   "id": "d3cb5c8c",
   "metadata": {
    "execution": {
     "iopub.execute_input": "2022-12-12T21:34:41.973505Z",
     "iopub.status.busy": "2022-12-12T21:34:41.972376Z",
     "iopub.status.idle": "2022-12-12T21:34:42.301281Z",
     "shell.execute_reply": "2022-12-12T21:34:42.300871Z",
     "shell.execute_reply.started": "2022-12-12T21:30:37.895707Z"
    },
    "papermill": {
     "duration": 0.447479,
     "end_time": "2022-12-12T21:34:42.301395",
     "exception": false,
     "start_time": "2022-12-12T21:34:41.853916",
     "status": "completed"
    },
    "tags": []
   },
   "outputs": [
    {
     "data": {
      "image/png": "[encoded data removed]",
      "text/plain": [
       "<Figure size 1224x432 with 1 Axes>"
      ]
     },
     "metadata": {
      "needs_background": "light"
     },
     "output_type": "display_data"
    }
   ],
   "source": [
    "plt.figure(figsize = [17,6])\n",
    "a = sns.distplot(df['Age'].dropna(),bins = range(0,81,1), rug = True, fit = norm)"
   ]
  },
  {
   "cell_type": "code",
   "execution_count": 32,
   "id": "f493fee1",
   "metadata": {
    "execution": {
     "iopub.execute_input": "2022-12-12T21:34:42.519157Z",
     "iopub.status.busy": "2022-12-12T21:34:42.488294Z",
     "iopub.status.idle": "2022-12-12T21:34:42.625697Z",
     "shell.execute_reply": "2022-12-12T21:34:42.625220Z",
     "shell.execute_reply.started": "2022-12-12T21:30:38.238687Z"
    },
    "papermill": {
     "duration": 0.234191,
     "end_time": "2022-12-12T21:34:42.625845",
     "exception": false,
     "start_time": "2022-12-12T21:34:42.391654",
     "status": "completed"
    },
    "tags": []
   },
   "outputs": [
    {
     "data": {
      "image/png": "[encoded data removed]",
      "text/plain": [
       "<Figure size 432x288 with 1 Axes>"
      ]
     },
     "metadata": {
      "needs_background": "light"
     },
     "output_type": "display_data"
    }
   ],
   "source": [
    "# Display a bar graph of Embarked\n",
    "ax = sns.countplot(x='Embarked', data=df)\n",
    "ax.tick_params(rotation=90)"
   ]
  },
  {
   "cell_type": "markdown",
   "id": "93418448",
   "metadata": {
    "papermill": {
     "duration": 0.090519,
     "end_time": "2022-12-12T21:34:42.811835",
     "exception": false,
     "start_time": "2022-12-12T21:34:42.721316",
     "status": "completed"
    },
    "tags": []
   },
   "source": [
    "* Embarked means that port of embarkation.\n",
    "* C is 'Cherbourg', Q is 'Queenstown', S is 'Southampton'.\n",
    "* Since 'S' is by far the most common mode, if there is a missing value in Embarked, it seems better to fill it in with S."
   ]
  },
  {
   "cell_type": "code",
   "execution_count": 33,
   "id": "a25612a3",
   "metadata": {
    "execution": {
     "iopub.execute_input": "2022-12-12T21:34:42.998367Z",
     "iopub.status.busy": "2022-12-12T21:34:42.997619Z",
     "iopub.status.idle": "2022-12-12T21:34:43.168182Z",
     "shell.execute_reply": "2022-12-12T21:34:43.167666Z",
     "shell.execute_reply.started": "2022-12-12T21:30:38.370032Z"
    },
    "papermill": {
     "duration": 0.265802,
     "end_time": "2022-12-12T21:34:43.168298",
     "exception": false,
     "start_time": "2022-12-12T21:34:42.902496",
     "status": "completed"
    },
    "tags": []
   },
   "outputs": [
    {
     "data": {
      "text/plain": [
       "<AxesSubplot:xlabel='Pclass', ylabel='count'>"
      ]
     },
     "execution_count": 33,
     "metadata": {},
     "output_type": "execute_result"
    },
    {
     "data": {
      "image/png": "[encoded data removed]",
      "text/plain": [
       "<Figure size 432x288 with 1 Axes>"
      ]
     },
     "metadata": {
      "needs_background": "light"
     },
     "output_type": "display_data"
    }
   ],
   "source": [
    "# Display a bar graph of passenger classes by gender\n",
    "sns.countplot(x=\"Pclass\", hue=\"Sex\",data=df)"
   ]
  },
  {
   "cell_type": "markdown",
   "id": "84fe6d3f",
   "metadata": {
    "papermill": {
     "duration": 0.091507,
     "end_time": "2022-12-12T21:34:43.353647",
     "exception": false,
     "start_time": "2022-12-12T21:34:43.262140",
     "status": "completed"
    },
    "tags": []
   },
   "source": [
    "* pclass means Ticket class.\n",
    "\n",
    "* One means 1st, 2 means 2nd, and 3 means 3rd."
   ]
  },
  {
   "cell_type": "code",
   "execution_count": 34,
   "id": "b21bcf49",
   "metadata": {
    "execution": {
     "iopub.execute_input": "2022-12-12T21:34:43.543606Z",
     "iopub.status.busy": "2022-12-12T21:34:43.542874Z",
     "iopub.status.idle": "2022-12-12T21:34:43.730286Z",
     "shell.execute_reply": "2022-12-12T21:34:43.729665Z",
     "shell.execute_reply.started": "2022-12-12T21:30:38.544272Z"
    },
    "papermill": {
     "duration": 0.286381,
     "end_time": "2022-12-12T21:34:43.730396",
     "exception": false,
     "start_time": "2022-12-12T21:34:43.444015",
     "status": "completed"
    },
    "tags": []
   },
   "outputs": [
    {
     "data": {
      "text/plain": [
       "(array([ 54.,  46., 177., 169., 118.,  70.,  45.,  24.,   9.,   2.]),\n",
       " array([ 0.42 ,  8.378, 16.336, 24.294, 32.252, 40.21 , 48.168, 56.126,\n",
       "        64.084, 72.042, 80.   ]),\n",
       " <BarContainer object of 10 artists>)"
      ]
     },
     "execution_count": 34,
     "metadata": {},
     "output_type": "execute_result"
    },
    {
     "data": {
      "image/png": "[encoded data removed]",
      "text/plain": [
       "<Figure size 432x288 with 1 Axes>"
      ]
     },
     "metadata": {
      "needs_background": "light"
     },
     "output_type": "display_data"
    }
   ],
   "source": [
    "# Display a bar graph of passengers by age\n",
    "plt.hist(df['Age'])"
   ]
  },
  {
   "cell_type": "markdown",
   "id": "bc0669cf",
   "metadata": {
    "papermill": {
     "duration": 0.092508,
     "end_time": "2022-12-12T21:34:43.914975",
     "exception": false,
     "start_time": "2022-12-12T21:34:43.822467",
     "status": "completed"
    },
    "tags": []
   },
   "source": [
    "* Let's look at the data with the hypothesis that survival rates for children and the elderly may be lower."
   ]
  },
  {
   "cell_type": "code",
   "execution_count": 35,
   "id": "554db7d2",
   "metadata": {
    "execution": {
     "iopub.execute_input": "2022-12-12T21:34:44.114177Z",
     "iopub.status.busy": "2022-12-12T21:34:44.113385Z",
     "iopub.status.idle": "2022-12-12T21:34:44.115460Z",
     "shell.execute_reply": "2022-12-12T21:34:44.115946Z",
     "shell.execute_reply.started": "2022-12-12T21:30:38.749066Z"
    },
    "papermill": {
     "duration": 0.10913,
     "end_time": "2022-12-12T21:34:44.116080",
     "exception": false,
     "start_time": "2022-12-12T21:34:44.006950",
     "status": "completed"
    },
    "tags": []
   },
   "outputs": [],
   "source": [
    "# Extract data on children and the elderly\n",
    "train_children = df.query('Age < 20')\n",
    "train_seniors = df.query('Age > 60')\n",
    "\n",
    "# Combinine the extracted data for children and elderly\n",
    "train_c_and_s = pd.concat([train_children, train_seniors])"
   ]
  },
  {
   "cell_type": "code",
   "execution_count": 36,
   "id": "32dd1443",
   "metadata": {
    "execution": {
     "iopub.execute_input": "2022-12-12T21:34:44.309095Z",
     "iopub.status.busy": "2022-12-12T21:34:44.308424Z",
     "iopub.status.idle": "2022-12-12T21:34:44.312838Z",
     "shell.execute_reply": "2022-12-12T21:34:44.312268Z",
     "shell.execute_reply.started": "2022-12-12T21:30:38.764129Z"
    },
    "papermill": {
     "duration": 0.1022,
     "end_time": "2022-12-12T21:34:44.312957",
     "exception": false,
     "start_time": "2022-12-12T21:34:44.210757",
     "status": "completed"
    },
    "tags": []
   },
   "outputs": [
    {
     "name": "stdout",
     "output_type": "stream",
     "text": [
      "Total number of passengers:  186\n",
      "Passenger survival rate:  45\n"
     ]
    }
   ],
   "source": [
    "# Calculate passenger numbers and survival rates from data on children and the elderly\n",
    "r = train_c_and_s['Survived'].mean() * 100\n",
    "survival_rate = math.floor(r)\n",
    "print('Total number of passengers: ', train_c_and_s['PassengerId'].count())\n",
    "print('Passenger survival rate: ', survival_rate)"
   ]
  },
  {
   "cell_type": "markdown",
   "id": "39ba817a",
   "metadata": {
    "papermill": {
     "duration": 0.091976,
     "end_time": "2022-12-12T21:34:44.498751",
     "exception": false,
     "start_time": "2022-12-12T21:34:44.406775",
     "status": "completed"
    },
    "tags": []
   },
   "source": [
    "* We looked at survival rates for child and elderly drinkers. The results were surprisingly 45%, which is rather high compared to the 38% survival rate for all passengers."
   ]
  },
  {
   "cell_type": "code",
   "execution_count": 37,
   "id": "7776a761",
   "metadata": {
    "execution": {
     "iopub.execute_input": "2022-12-12T21:34:44.713511Z",
     "iopub.status.busy": "2022-12-12T21:34:44.713041Z",
     "iopub.status.idle": "2022-12-12T21:34:44.805286Z",
     "shell.execute_reply": "2022-12-12T21:34:44.805744Z",
     "shell.execute_reply.started": "2022-12-12T21:30:38.780947Z"
    },
    "papermill": {
     "duration": 0.215303,
     "end_time": "2022-12-12T21:34:44.805928",
     "exception": false,
     "start_time": "2022-12-12T21:34:44.590625",
     "status": "completed"
    },
    "tags": []
   },
   "outputs": [
    {
     "data": {
      "text/plain": [
       "<AxesSubplot:xlabel='Survived', ylabel='count'>"
      ]
     },
     "execution_count": 37,
     "metadata": {},
     "output_type": "execute_result"
    },
    {
     "data": {
      "image/png": "[encoded data removed]",
      "text/plain": [
       "<Figure size 432x288 with 1 Axes>"
      ]
     },
     "metadata": {
      "needs_background": "light"
     },
     "output_type": "display_data"
    }
   ],
   "source": [
    "# Show the number of live deaths of the elderly and children\n",
    "sns.countplot(data=train_c_and_s, x='Survived')"
   ]
  },
  {
   "cell_type": "code",
   "execution_count": 38,
   "id": "da297a0e",
   "metadata": {
    "execution": {
     "iopub.execute_input": "2022-12-12T21:34:44.999777Z",
     "iopub.status.busy": "2022-12-12T21:34:44.999255Z",
     "iopub.status.idle": "2022-12-12T21:34:45.015382Z",
     "shell.execute_reply": "2022-12-12T21:34:45.014861Z",
     "shell.execute_reply.started": "2022-12-12T21:30:38.929743Z"
    },
    "papermill": {
     "duration": 0.110177,
     "end_time": "2022-12-12T21:34:45.015672",
     "exception": false,
     "start_time": "2022-12-12T21:34:44.905495",
     "status": "completed"
    },
    "tags": []
   },
   "outputs": [
    {
     "name": "stdout",
     "output_type": "stream",
     "text": [
      "Total number of 1st class passengers:  216\n",
      "1st class Passenger survival rate:  62\n",
      "Total number of 3rd class passengers:  491\n",
      "3rd class passenger survival rate:  24\n"
     ]
    }
   ],
   "source": [
    "# Extract data for first and third class passengers\n",
    "train_1st = df.query('Pclass == 1')\n",
    "train_3rd = df.query('Pclass == 3')\n",
    "\n",
    "# Calculate passenger numbers and survival rates from data on Pclass\n",
    "r1 = train_1st['Survived'].mean() * 100\n",
    "r3 = train_3rd['Survived'].mean() * 100\n",
    "survival_rate_1st = math.floor(r1)\n",
    "survival_rate_3rd = math.floor(r3)\n",
    "print('Total number of 1st class passengers: ', train_1st['PassengerId'].count())\n",
    "print('1st class Passenger survival rate: ', survival_rate_1st)\n",
    "print('Total number of 3rd class passengers: ', train_3rd['PassengerId'].count())\n",
    "print('3rd class passenger survival rate: ', survival_rate_3rd)"
   ]
  },
  {
   "cell_type": "markdown",
   "id": "2c25c178",
   "metadata": {
    "papermill": {
     "duration": 0.093742,
     "end_time": "2022-12-12T21:34:45.204479",
     "exception": false,
     "start_time": "2022-12-12T21:34:45.110737",
     "status": "completed"
    },
    "tags": []
   },
   "source": [
    "* Next, let's look at the data, hypothesizing that the first class of passengers may have a higher survival rate and the third class may have a lower survival rate."
   ]
  },
  {
   "cell_type": "code",
   "execution_count": 39,
   "id": "72665b97",
   "metadata": {
    "execution": {
     "iopub.execute_input": "2022-12-12T21:34:45.397444Z",
     "iopub.status.busy": "2022-12-12T21:34:45.396918Z",
     "iopub.status.idle": "2022-12-12T21:34:45.525099Z",
     "shell.execute_reply": "2022-12-12T21:34:45.525477Z",
     "shell.execute_reply.started": "2022-12-12T21:30:38.952821Z"
    },
    "papermill": {
     "duration": 0.226854,
     "end_time": "2022-12-12T21:34:45.525612",
     "exception": false,
     "start_time": "2022-12-12T21:34:45.298758",
     "status": "completed"
    },
    "tags": []
   },
   "outputs": [
    {
     "data": {
      "text/plain": [
       "<AxesSubplot:xlabel='Survived', ylabel='count'>"
      ]
     },
     "execution_count": 39,
     "metadata": {},
     "output_type": "execute_result"
    },
    {
     "data": {
      "image/png": "[encoded data removed]",
      "text/plain": [
       "<Figure size 432x288 with 1 Axes>"
      ]
     },
     "metadata": {
      "needs_background": "light"
     },
     "output_type": "display_data"
    }
   ],
   "source": [
    "# Show the number of live deaths of the Pclass 1st\n",
    "sns.countplot(data=train_1st, x='Survived')"
   ]
  },
  {
   "cell_type": "code",
   "execution_count": 40,
   "id": "b09f1a7f",
   "metadata": {
    "execution": {
     "iopub.execute_input": "2022-12-12T21:34:45.719240Z",
     "iopub.status.busy": "2022-12-12T21:34:45.717365Z",
     "iopub.status.idle": "2022-12-12T21:34:45.724320Z",
     "shell.execute_reply": "2022-12-12T21:34:45.723641Z",
     "shell.execute_reply.started": "2022-12-12T21:30:39.151498Z"
    },
    "papermill": {
     "duration": 0.102872,
     "end_time": "2022-12-12T21:34:45.724467",
     "exception": false,
     "start_time": "2022-12-12T21:34:45.621595",
     "status": "completed"
    },
    "tags": []
   },
   "outputs": [
    {
     "name": "stdout",
     "output_type": "stream",
     "text": [
      "Total number of passengers:  216\n",
      "Passenger survival rate:  62\n"
     ]
    }
   ],
   "source": [
    "# Calculate passenger numbers and survival rates from data on children and the elderly\n",
    "survival_rate = math.floor(r1)\n",
    "print('Total number of passengers: ', train_1st['PassengerId'].count())\n",
    "print('Passenger survival rate: ', survival_rate)"
   ]
  },
  {
   "cell_type": "markdown",
   "id": "c820110c",
   "metadata": {
    "papermill": {
     "duration": 0.095842,
     "end_time": "2022-12-12T21:34:45.916857",
     "exception": false,
     "start_time": "2022-12-12T21:34:45.821015",
     "status": "completed"
    },
    "tags": []
   },
   "source": [
    "* Next, let's look at the data, hypothesizing that the first class of passengers may have a higher survival rate and the third class may have a lower survival rate."
   ]
  },
  {
   "cell_type": "code",
   "execution_count": 41,
   "id": "d7240cd6",
   "metadata": {
    "execution": {
     "iopub.execute_input": "2022-12-12T21:34:46.137066Z",
     "iopub.status.busy": "2022-12-12T21:34:46.113610Z",
     "iopub.status.idle": "2022-12-12T21:34:46.245233Z",
     "shell.execute_reply": "2022-12-12T21:34:46.244691Z",
     "shell.execute_reply.started": "2022-12-12T21:30:39.162974Z"
    },
    "papermill": {
     "duration": 0.233832,
     "end_time": "2022-12-12T21:34:46.245378",
     "exception": false,
     "start_time": "2022-12-12T21:34:46.011546",
     "status": "completed"
    },
    "tags": []
   },
   "outputs": [
    {
     "data": {
      "text/plain": [
       "<AxesSubplot:xlabel='Survived', ylabel='count'>"
      ]
     },
     "execution_count": 41,
     "metadata": {},
     "output_type": "execute_result"
    },
    {
     "data": {
      "image/png": "[encoded data removed]",
      "text/plain": [
       "<Figure size 432x288 with 1 Axes>"
      ]
     },
     "metadata": {
      "needs_background": "light"
     },
     "output_type": "display_data"
    }
   ],
   "source": [
    "# Show the number of live deaths of the Pclass 3rd\n",
    "sns.countplot(data=train_3rd, x='Survived')"
   ]
  },
  {
   "cell_type": "code",
   "execution_count": 42,
   "id": "46479ddb",
   "metadata": {
    "execution": {
     "iopub.execute_input": "2022-12-12T21:34:46.449807Z",
     "iopub.status.busy": "2022-12-12T21:34:46.449035Z",
     "iopub.status.idle": "2022-12-12T21:34:46.453775Z",
     "shell.execute_reply": "2022-12-12T21:34:46.453331Z",
     "shell.execute_reply.started": "2022-12-12T21:30:39.361178Z"
    },
    "papermill": {
     "duration": 0.107083,
     "end_time": "2022-12-12T21:34:46.453913",
     "exception": false,
     "start_time": "2022-12-12T21:34:46.346830",
     "status": "completed"
    },
    "tags": []
   },
   "outputs": [
    {
     "name": "stdout",
     "output_type": "stream",
     "text": [
      "Total number of passengers:  491\n",
      "Passenger survival rate:  24\n"
     ]
    }
   ],
   "source": [
    "# Calculate passenger numbers and survival rates from data on children and the elderly\n",
    "survival_rate = math.floor(r3)\n",
    "print('Total number of passengers: ', train_3rd['PassengerId'].count())\n",
    "print('Passenger survival rate: ', survival_rate)"
   ]
  },
  {
   "cell_type": "markdown",
   "id": "eb43fa05",
   "metadata": {
    "papermill": {
     "duration": 0.094553,
     "end_time": "2022-12-12T21:34:46.647216",
     "exception": false,
     "start_time": "2022-12-12T21:34:46.552663",
     "status": "completed"
    },
    "tags": []
   },
   "source": [
    "* We found a nearly threefold difference in survival rates between first- and third-class passengers."
   ]
  },
  {
   "cell_type": "markdown",
   "id": "a6e0c2ce",
   "metadata": {
    "papermill": {
     "duration": 0.096473,
     "end_time": "2022-12-12T21:34:46.837564",
     "exception": false,
     "start_time": "2022-12-12T21:34:46.741091",
     "status": "completed"
    },
    "tags": []
   },
   "source": [
    "# Data preprocessing"
   ]
  },
  {
   "cell_type": "code",
   "execution_count": 43,
   "id": "dd7bab53",
   "metadata": {
    "execution": {
     "iopub.execute_input": "2022-12-12T21:34:47.032686Z",
     "iopub.status.busy": "2022-12-12T21:34:47.028378Z",
     "iopub.status.idle": "2022-12-12T21:34:47.034566Z",
     "shell.execute_reply": "2022-12-12T21:34:47.035000Z",
     "shell.execute_reply.started": "2022-12-12T21:30:39.371193Z"
    },
    "papermill": {
     "duration": 0.1033,
     "end_time": "2022-12-12T21:34:47.035160",
     "exception": false,
     "start_time": "2022-12-12T21:34:46.931860",
     "status": "completed"
    },
    "tags": []
   },
   "outputs": [],
   "source": [
    "# Data preparation\n",
    "test_id = test['PassengerId']\n",
    "df.drop(['PassengerId','SibSp','Name','Parch','Cabin','Ticket'], axis=1, inplace=True)\n",
    "test.drop(['PassengerId','SibSp', 'Parch', 'Ticket', 'Name', 'Cabin'], axis=1, inplace=True)"
   ]
  },
  {
   "cell_type": "code",
   "execution_count": 44,
   "id": "2cbf084c",
   "metadata": {
    "execution": {
     "iopub.execute_input": "2022-12-12T21:34:47.231309Z",
     "iopub.status.busy": "2022-12-12T21:34:47.229591Z",
     "iopub.status.idle": "2022-12-12T21:34:47.233054Z",
     "shell.execute_reply": "2022-12-12T21:34:47.233452Z",
     "shell.execute_reply.started": "2022-12-12T21:30:39.384311Z"
    },
    "papermill": {
     "duration": 0.102899,
     "end_time": "2022-12-12T21:34:47.233588",
     "exception": false,
     "start_time": "2022-12-12T21:34:47.130689",
     "status": "completed"
    },
    "tags": []
   },
   "outputs": [],
   "source": [
    "# Completion of Missing value of training data\n",
    "df['Embarked'].fillna('S', inplace=True)"
   ]
  },
  {
   "cell_type": "code",
   "execution_count": 45,
   "id": "7f47bfd0",
   "metadata": {
    "execution": {
     "iopub.execute_input": "2022-12-12T21:34:47.431154Z",
     "iopub.status.busy": "2022-12-12T21:34:47.430564Z",
     "iopub.status.idle": "2022-12-12T21:34:47.443261Z",
     "shell.execute_reply": "2022-12-12T21:34:47.443710Z",
     "shell.execute_reply.started": "2022-12-12T21:30:39.396116Z"
    },
    "papermill": {
     "duration": 0.115661,
     "end_time": "2022-12-12T21:34:47.443940",
     "exception": false,
     "start_time": "2022-12-12T21:34:47.328279",
     "status": "completed"
    },
    "tags": []
   },
   "outputs": [
    {
     "data": {
      "text/html": [
       "<div>\n",
       "<style scoped>\n",
       "    .dataframe tbody tr th:only-of-type {\n",
       "        vertical-align: middle;\n",
       "    }\n",
       "\n",
       "    .dataframe tbody tr th {\n",
       "        vertical-align: top;\n",
       "    }\n",
       "\n",
       "    .dataframe thead th {\n",
       "        text-align: right;\n",
       "    }\n",
       "</style>\n",
       "<table border=\"1\" class=\"dataframe\">\n",
       "  <thead>\n",
       "    <tr style=\"text-align: right;\">\n",
       "      <th></th>\n",
       "      <th>Pclass</th>\n",
       "      <th>Sex</th>\n",
       "      <th>Age</th>\n",
       "      <th>Fare</th>\n",
       "      <th>Embarked</th>\n",
       "    </tr>\n",
       "  </thead>\n",
       "  <tbody>\n",
       "    <tr>\n",
       "      <th>152</th>\n",
       "      <td>3</td>\n",
       "      <td>male</td>\n",
       "      <td>60.5</td>\n",
       "      <td>NaN</td>\n",
       "      <td>S</td>\n",
       "    </tr>\n",
       "  </tbody>\n",
       "</table>\n",
       "</div>"
      ],
      "text/plain": [
       "     Pclass   Sex   Age  Fare Embarked\n",
       "152       3  male  60.5   NaN        S"
      ]
     },
     "execution_count": 45,
     "metadata": {},
     "output_type": "execute_result"
    }
   ],
   "source": [
    "test[test['Fare'].isnull()]"
   ]
  },
  {
   "cell_type": "code",
   "execution_count": 46,
   "id": "2ad392c6",
   "metadata": {
    "execution": {
     "iopub.execute_input": "2022-12-12T21:34:47.637260Z",
     "iopub.status.busy": "2022-12-12T21:34:47.636572Z",
     "iopub.status.idle": "2022-12-12T21:34:47.640680Z",
     "shell.execute_reply": "2022-12-12T21:34:47.641086Z",
     "shell.execute_reply.started": "2022-12-12T21:30:39.416830Z"
    },
    "papermill": {
     "duration": 0.101619,
     "end_time": "2022-12-12T21:34:47.641237",
     "exception": false,
     "start_time": "2022-12-12T21:34:47.539618",
     "status": "completed"
    },
    "tags": []
   },
   "outputs": [],
   "source": [
    "is_null = df['Age'].isnull()"
   ]
  },
  {
   "cell_type": "code",
   "execution_count": 47,
   "id": "b7f17d08",
   "metadata": {
    "execution": {
     "iopub.execute_input": "2022-12-12T21:34:47.839005Z",
     "iopub.status.busy": "2022-12-12T21:34:47.838346Z",
     "iopub.status.idle": "2022-12-12T21:34:47.849778Z",
     "shell.execute_reply": "2022-12-12T21:34:47.850160Z",
     "shell.execute_reply.started": "2022-12-12T21:30:39.430292Z"
    },
    "papermill": {
     "duration": 0.112832,
     "end_time": "2022-12-12T21:34:47.850297",
     "exception": false,
     "start_time": "2022-12-12T21:34:47.737465",
     "status": "completed"
    },
    "tags": []
   },
   "outputs": [],
   "source": [
    "# Completion of Missing value of Pclass1 of training data\n",
    "df.loc[(df['Pclass'] == 1) & (df['Survived'] == 0) &(is_null) , 'Age'] = df_pivot[0, 0]\n",
    "df.loc[(df['Pclass'] == 1) & (df['Survived'] == 1) &(is_null) , 'Age'] = df_pivot[1, 0]\n",
    "\n",
    "# Completion of Missing value of Pclass2 of training data\n",
    "df.loc[(df['Pclass'] == 2) & (df['Survived'] == 0) &(is_null) , 'Age'] = df_pivot[0, 1]\n",
    "df.loc[(df['Pclass'] == 2) & (df['Survived'] == 1) &(is_null) , 'Age'] = df_pivot[1, 1]\n",
    "\n",
    "# Completion of Missing value of Pclass3 of training data\n",
    "df.loc[(df['Pclass'] == 3) & (df['Survived'] == 0) &(is_null) , 'Age'] = df_pivot[0, 2]\n",
    "df.loc[(df['Pclass'] == 3) & (df['Survived'] == 1) &(is_null) , 'Age'] = df_pivot[1, 2]"
   ]
  },
  {
   "cell_type": "code",
   "execution_count": 48,
   "id": "f14111d8",
   "metadata": {
    "execution": {
     "iopub.execute_input": "2022-12-12T21:34:48.046354Z",
     "iopub.status.busy": "2022-12-12T21:34:48.045685Z",
     "iopub.status.idle": "2022-12-12T21:34:48.051715Z",
     "shell.execute_reply": "2022-12-12T21:34:48.052074Z",
     "shell.execute_reply.started": "2022-12-12T21:30:39.447673Z"
    },
    "papermill": {
     "duration": 0.105343,
     "end_time": "2022-12-12T21:34:48.052213",
     "exception": false,
     "start_time": "2022-12-12T21:34:47.946870",
     "status": "completed"
    },
    "tags": []
   },
   "outputs": [
    {
     "data": {
      "text/plain": [
       "Survived    0\n",
       "Pclass      0\n",
       "Sex         0\n",
       "Age         0\n",
       "Fare        0\n",
       "Embarked    0\n",
       "dtype: int64"
      ]
     },
     "execution_count": 48,
     "metadata": {},
     "output_type": "execute_result"
    }
   ],
   "source": [
    "# Check again for missing values in the training features data\n",
    "df.isnull().sum()"
   ]
  },
  {
   "cell_type": "code",
   "execution_count": 49,
   "id": "06418d8f",
   "metadata": {
    "execution": {
     "iopub.execute_input": "2022-12-12T21:34:48.249154Z",
     "iopub.status.busy": "2022-12-12T21:34:48.248424Z",
     "iopub.status.idle": "2022-12-12T21:34:48.252139Z",
     "shell.execute_reply": "2022-12-12T21:34:48.252530Z",
     "shell.execute_reply.started": "2022-12-12T21:30:39.464043Z"
    },
    "papermill": {
     "duration": 0.102972,
     "end_time": "2022-12-12T21:34:48.252690",
     "exception": false,
     "start_time": "2022-12-12T21:34:48.149718",
     "status": "completed"
    },
    "tags": []
   },
   "outputs": [],
   "source": [
    "is_null = df['Fare'].isnull()"
   ]
  },
  {
   "cell_type": "code",
   "execution_count": 50,
   "id": "73c20097",
   "metadata": {
    "execution": {
     "iopub.execute_input": "2022-12-12T21:34:48.449397Z",
     "iopub.status.busy": "2022-12-12T21:34:48.448803Z",
     "iopub.status.idle": "2022-12-12T21:34:48.453667Z",
     "shell.execute_reply": "2022-12-12T21:34:48.454131Z",
     "shell.execute_reply.started": "2022-12-12T21:30:39.473656Z"
    },
    "papermill": {
     "duration": 0.105862,
     "end_time": "2022-12-12T21:34:48.454281",
     "exception": false,
     "start_time": "2022-12-12T21:34:48.348419",
     "status": "completed"
    },
    "tags": []
   },
   "outputs": [],
   "source": [
    "# Completion of Missing value of Pclass3 of test data\n",
    "test.loc[(['Pclass'] == 3) & (is_null) , 'Fare'] = test[test['Pclass'] == 3]['Fare'].mean()"
   ]
  },
  {
   "cell_type": "code",
   "execution_count": 51,
   "id": "7b8f3d13",
   "metadata": {
    "execution": {
     "iopub.execute_input": "2022-12-12T21:34:48.655595Z",
     "iopub.status.busy": "2022-12-12T21:34:48.655138Z",
     "iopub.status.idle": "2022-12-12T21:34:48.658494Z",
     "shell.execute_reply": "2022-12-12T21:34:48.658940Z",
     "shell.execute_reply.started": "2022-12-12T21:30:39.487234Z"
    },
    "papermill": {
     "duration": 0.104967,
     "end_time": "2022-12-12T21:34:48.659065",
     "exception": false,
     "start_time": "2022-12-12T21:34:48.554098",
     "status": "completed"
    },
    "tags": []
   },
   "outputs": [],
   "source": [
    "is_null = test['Age'].isnull()"
   ]
  },
  {
   "cell_type": "code",
   "execution_count": 52,
   "id": "1af3d3a2",
   "metadata": {
    "execution": {
     "iopub.execute_input": "2022-12-12T21:34:48.856488Z",
     "iopub.status.busy": "2022-12-12T21:34:48.856003Z",
     "iopub.status.idle": "2022-12-12T21:34:48.864293Z",
     "shell.execute_reply": "2022-12-12T21:34:48.864668Z",
     "shell.execute_reply.started": "2022-12-12T21:30:39.497222Z"
    },
    "papermill": {
     "duration": 0.110916,
     "end_time": "2022-12-12T21:34:48.864850",
     "exception": false,
     "start_time": "2022-12-12T21:34:48.753934",
     "status": "completed"
    },
    "tags": []
   },
   "outputs": [],
   "source": [
    "# Completion of Missing value of Pclass1 of test data\n",
    "test.loc[(test['Pclass'] == 1) & (is_null) , 'Age'] = test[test['Pclass'] == 1]['Age'].mean()\n",
    "\n",
    "# Completion of Missing value of Pclass2 of test data\n",
    "test.loc[(test['Pclass'] == 2) & (is_null) , 'Age'] = test[test['Pclass'] == 2]['Age'].mean()\n",
    "\n",
    "# Completion of Missing value of Pclass3 of test data\n",
    "test.loc[(test['Pclass'] == 3) & (is_null) , 'Age'] = test[test['Pclass'] == 3]['Age'].mean()"
   ]
  },
  {
   "cell_type": "code",
   "execution_count": 53,
   "id": "c0274547",
   "metadata": {
    "execution": {
     "iopub.execute_input": "2022-12-12T21:34:49.055905Z",
     "iopub.status.busy": "2022-12-12T21:34:49.055414Z",
     "iopub.status.idle": "2022-12-12T21:34:49.060760Z",
     "shell.execute_reply": "2022-12-12T21:34:49.061150Z",
     "shell.execute_reply.started": "2022-12-12T21:30:39.512231Z"
    },
    "papermill": {
     "duration": 0.103173,
     "end_time": "2022-12-12T21:34:49.061445",
     "exception": false,
     "start_time": "2022-12-12T21:34:48.958272",
     "status": "completed"
    },
    "tags": []
   },
   "outputs": [],
   "source": [
    "# Completion of Missing value of trainning data\n",
    "test['Fare'].fillna(test[test['Pclass'] == 3]['Fare'].mean(), inplace=True)"
   ]
  },
  {
   "cell_type": "code",
   "execution_count": 54,
   "id": "f4b81619",
   "metadata": {
    "execution": {
     "iopub.execute_input": "2022-12-12T21:34:49.256421Z",
     "iopub.status.busy": "2022-12-12T21:34:49.255714Z",
     "iopub.status.idle": "2022-12-12T21:34:49.262852Z",
     "shell.execute_reply": "2022-12-12T21:34:49.263269Z",
     "shell.execute_reply.started": "2022-12-12T21:30:39.524622Z"
    },
    "papermill": {
     "duration": 0.105547,
     "end_time": "2022-12-12T21:34:49.263415",
     "exception": false,
     "start_time": "2022-12-12T21:34:49.157868",
     "status": "completed"
    },
    "tags": []
   },
   "outputs": [
    {
     "data": {
      "text/plain": [
       "Pclass      0\n",
       "Sex         0\n",
       "Age         0\n",
       "Fare        0\n",
       "Embarked    0\n",
       "dtype: int64"
      ]
     },
     "execution_count": 54,
     "metadata": {},
     "output_type": "execute_result"
    }
   ],
   "source": [
    "# Check again for missing values in the test features data\n",
    "test.isnull().sum()"
   ]
  },
  {
   "cell_type": "code",
   "execution_count": 55,
   "id": "4dcb2e05",
   "metadata": {
    "execution": {
     "iopub.execute_input": "2022-12-12T21:34:49.458958Z",
     "iopub.status.busy": "2022-12-12T21:34:49.458259Z",
     "iopub.status.idle": "2022-12-12T21:34:49.469783Z",
     "shell.execute_reply": "2022-12-12T21:34:49.470246Z",
     "shell.execute_reply.started": "2022-12-12T21:30:39.541808Z"
    },
    "papermill": {
     "duration": 0.110828,
     "end_time": "2022-12-12T21:34:49.470386",
     "exception": false,
     "start_time": "2022-12-12T21:34:49.359558",
     "status": "completed"
    },
    "tags": []
   },
   "outputs": [],
   "source": [
    "# Make it a dummy variable\n",
    "df = pd.get_dummies(df, drop_first=True)\n",
    "test = pd.get_dummies(test, drop_first=True)"
   ]
  },
  {
   "cell_type": "code",
   "execution_count": 56,
   "id": "d9a0f2f7",
   "metadata": {
    "execution": {
     "iopub.execute_input": "2022-12-12T21:34:49.670441Z",
     "iopub.status.busy": "2022-12-12T21:34:49.669909Z",
     "iopub.status.idle": "2022-12-12T21:34:49.673262Z",
     "shell.execute_reply": "2022-12-12T21:34:49.672711Z",
     "shell.execute_reply.started": "2022-12-12T21:30:39.561424Z"
    },
    "papermill": {
     "duration": 0.107091,
     "end_time": "2022-12-12T21:34:49.673377",
     "exception": false,
     "start_time": "2022-12-12T21:34:49.566286",
     "status": "completed"
    },
    "tags": []
   },
   "outputs": [],
   "source": [
    "# Data preparation\n",
    "y_col = 'Survived'\n",
    "y = df[y_col]\n",
    "X = df.drop(columns=[y_col])"
   ]
  },
  {
   "cell_type": "code",
   "execution_count": 57,
   "id": "eee4f004",
   "metadata": {
    "execution": {
     "iopub.execute_input": "2022-12-12T21:34:49.872878Z",
     "iopub.status.busy": "2022-12-12T21:34:49.872350Z",
     "iopub.status.idle": "2022-12-12T21:34:49.874755Z",
     "shell.execute_reply": "2022-12-12T21:34:49.875136Z",
     "shell.execute_reply.started": "2022-12-12T21:30:39.571836Z"
    },
    "papermill": {
     "duration": 0.105251,
     "end_time": "2022-12-12T21:34:49.875270",
     "exception": false,
     "start_time": "2022-12-12T21:34:49.770019",
     "status": "completed"
    },
    "tags": []
   },
   "outputs": [],
   "source": [
    "# hold-out\n",
    "X_train, X_test, y_train, y_test = train_test_split(X, y, test_size=0.20, random_state=0)"
   ]
  },
  {
   "cell_type": "code",
   "execution_count": 58,
   "id": "ab6619c5",
   "metadata": {
    "execution": {
     "iopub.execute_input": "2022-12-12T21:34:50.079175Z",
     "iopub.status.busy": "2022-12-12T21:34:50.078651Z",
     "iopub.status.idle": "2022-12-12T21:34:50.081909Z",
     "shell.execute_reply": "2022-12-12T21:34:50.081469Z",
     "shell.execute_reply.started": "2022-12-12T21:30:39.583456Z"
    },
    "papermill": {
     "duration": 0.110402,
     "end_time": "2022-12-12T21:34:50.082026",
     "exception": false,
     "start_time": "2022-12-12T21:34:49.971624",
     "status": "completed"
    },
    "tags": []
   },
   "outputs": [],
   "source": [
    "# Make it a dummy variable\n",
    "X_train = pd.get_dummies(X_train, drop_first=True)\n",
    "X_test = pd.get_dummies(X_test, drop_first=True)"
   ]
  },
  {
   "cell_type": "code",
   "execution_count": 59,
   "id": "eb399d09",
   "metadata": {
    "execution": {
     "iopub.execute_input": "2022-12-12T21:34:50.283771Z",
     "iopub.status.busy": "2022-12-12T21:34:50.283225Z",
     "iopub.status.idle": "2022-12-12T21:34:50.287800Z",
     "shell.execute_reply": "2022-12-12T21:34:50.287381Z",
     "shell.execute_reply.started": "2022-12-12T21:30:39.601543Z"
    },
    "papermill": {
     "duration": 0.108596,
     "end_time": "2022-12-12T21:34:50.287968",
     "exception": false,
     "start_time": "2022-12-12T21:34:50.179372",
     "status": "completed"
    },
    "tags": []
   },
   "outputs": [
    {
     "data": {
      "text/plain": [
       "Pclass        0\n",
       "Age           0\n",
       "Fare          0\n",
       "Sex_male      0\n",
       "Embarked_Q    0\n",
       "Embarked_S    0\n",
       "dtype: int64"
      ]
     },
     "execution_count": 59,
     "metadata": {},
     "output_type": "execute_result"
    }
   ],
   "source": [
    "# Check again for missing values in the training features data\n",
    "test.isnull().sum()"
   ]
  },
  {
   "cell_type": "code",
   "execution_count": 60,
   "id": "07ba5519",
   "metadata": {
    "execution": {
     "iopub.execute_input": "2022-12-12T21:34:50.486534Z",
     "iopub.status.busy": "2022-12-12T21:34:50.486066Z",
     "iopub.status.idle": "2022-12-12T21:34:50.489384Z",
     "shell.execute_reply": "2022-12-12T21:34:50.488991Z",
     "shell.execute_reply.started": "2022-12-12T21:30:39.610942Z"
    },
    "papermill": {
     "duration": 0.105265,
     "end_time": "2022-12-12T21:34:50.489484",
     "exception": false,
     "start_time": "2022-12-12T21:34:50.384219",
     "status": "completed"
    },
    "tags": []
   },
   "outputs": [
    {
     "data": {
      "text/plain": [
       "Pclass        0\n",
       "Age           0\n",
       "Fare          0\n",
       "Sex_male      0\n",
       "Embarked_Q    0\n",
       "Embarked_S    0\n",
       "dtype: int64"
      ]
     },
     "execution_count": 60,
     "metadata": {},
     "output_type": "execute_result"
    }
   ],
   "source": [
    "# Check for missing values in the testing features data\n",
    "X_train.isnull().sum()"
   ]
  },
  {
   "cell_type": "code",
   "execution_count": 61,
   "id": "b7f4d674",
   "metadata": {
    "execution": {
     "iopub.execute_input": "2022-12-12T21:34:50.688941Z",
     "iopub.status.busy": "2022-12-12T21:34:50.688156Z",
     "iopub.status.idle": "2022-12-12T21:34:50.691694Z",
     "shell.execute_reply": "2022-12-12T21:34:50.691320Z",
     "shell.execute_reply.started": "2022-12-12T21:30:39.626941Z"
    },
    "papermill": {
     "duration": 0.107385,
     "end_time": "2022-12-12T21:34:50.691843",
     "exception": false,
     "start_time": "2022-12-12T21:34:50.584458",
     "status": "completed"
    },
    "tags": []
   },
   "outputs": [
    {
     "data": {
      "text/plain": [
       "Pclass        0\n",
       "Age           0\n",
       "Fare          0\n",
       "Sex_male      0\n",
       "Embarked_Q    0\n",
       "Embarked_S    0\n",
       "dtype: int64"
      ]
     },
     "execution_count": 61,
     "metadata": {},
     "output_type": "execute_result"
    }
   ],
   "source": [
    "# Check for missing values in the testing features data\n",
    "X_test.isnull().sum()"
   ]
  },
  {
   "cell_type": "code",
   "execution_count": 62,
   "id": "c147cf3f",
   "metadata": {
    "execution": {
     "iopub.execute_input": "2022-12-12T21:34:50.893658Z",
     "iopub.status.busy": "2022-12-12T21:34:50.893210Z",
     "iopub.status.idle": "2022-12-12T21:34:50.904665Z",
     "shell.execute_reply": "2022-12-12T21:34:50.905102Z",
     "shell.execute_reply.started": "2022-12-12T21:30:39.642386Z"
    },
    "papermill": {
     "duration": 0.116763,
     "end_time": "2022-12-12T21:34:50.905255",
     "exception": false,
     "start_time": "2022-12-12T21:34:50.788492",
     "status": "completed"
    },
    "tags": []
   },
   "outputs": [
    {
     "data": {
      "text/plain": [
       "DecisionTreeClassifier(max_depth=4)"
      ]
     },
     "execution_count": 62,
     "metadata": {},
     "output_type": "execute_result"
    }
   ],
   "source": [
    "# Model Learning\n",
    "model = tree.DecisionTreeClassifier(max_depth=4)\n",
    "model.fit(X_train, y_train)"
   ]
  },
  {
   "cell_type": "code",
   "execution_count": 63,
   "id": "cefc9845",
   "metadata": {
    "execution": {
     "iopub.execute_input": "2022-12-12T21:34:51.122531Z",
     "iopub.status.busy": "2022-12-12T21:34:51.121923Z",
     "iopub.status.idle": "2022-12-12T21:34:51.270419Z",
     "shell.execute_reply": "2022-12-12T21:34:51.270864Z",
     "shell.execute_reply.started": "2022-12-12T21:30:39.658696Z"
    },
    "papermill": {
     "duration": 0.255965,
     "end_time": "2022-12-12T21:34:51.271010",
     "exception": false,
     "start_time": "2022-12-12T21:34:51.015045",
     "status": "completed"
    },
    "tags": []
   },
   "outputs": [
    {
     "data": {
      "text/plain": [
       "<BarContainer object of 6 artists>"
      ]
     },
     "execution_count": 63,
     "metadata": {},
     "output_type": "execute_result"
    },
    {
     "data": {
      "image/png": "[encoded data removed]",
      "text/plain": [
       "<Figure size 432x288 with 1 Axes>"
      ]
     },
     "metadata": {
      "needs_background": "light"
     },
     "output_type": "display_data"
    }
   ],
   "source": [
    "# Importance of features\n",
    "plt.barh(model.feature_names_in_, model.feature_importances_)"
   ]
  },
  {
   "cell_type": "code",
   "execution_count": 64,
   "id": "f2cf6f8f",
   "metadata": {
    "execution": {
     "iopub.execute_input": "2022-12-12T21:34:51.481796Z",
     "iopub.status.busy": "2022-12-12T21:34:51.481157Z",
     "iopub.status.idle": "2022-12-12T21:34:53.397627Z",
     "shell.execute_reply": "2022-12-12T21:34:53.397171Z",
     "shell.execute_reply.started": "2022-12-12T21:30:39.831375Z"
    },
    "papermill": {
     "duration": 2.021601,
     "end_time": "2022-12-12T21:34:53.397741",
     "exception": false,
     "start_time": "2022-12-12T21:34:51.376140",
     "status": "completed"
    },
    "tags": []
   },
   "outputs": [
    {
     "data": {
      "image/png": "[encoded data removed]",
      "text/plain": [
       "<Figure size 2880x1440 with 1 Axes>"
      ]
     },
     "metadata": {
      "needs_background": "light"
     },
     "output_type": "display_data"
    }
   ],
   "source": [
    "plt.figure(figsize=(40, 20))\n",
    "_ = tree.plot_tree(model, fontsize=10, feature_names=model.feature_names_in_)"
   ]
  },
  {
   "cell_type": "markdown",
   "id": "3d11d59c",
   "metadata": {
    "papermill": {
     "duration": 0.100609,
     "end_time": "2022-12-12T21:34:53.599913",
     "exception": false,
     "start_time": "2022-12-12T21:34:53.499304",
     "status": "completed"
    },
    "tags": []
   },
   "source": [
    "## Minimal Cost Complexity Pruning"
   ]
  },
  {
   "cell_type": "code",
   "execution_count": 65,
   "id": "254f90c8",
   "metadata": {
    "execution": {
     "iopub.execute_input": "2022-12-12T21:34:53.809204Z",
     "iopub.status.busy": "2022-12-12T21:34:53.808652Z",
     "iopub.status.idle": "2022-12-12T21:34:53.812508Z",
     "shell.execute_reply": "2022-12-12T21:34:53.813037Z",
     "shell.execute_reply.started": "2022-12-12T21:30:41.641243Z"
    },
    "papermill": {
     "duration": 0.112487,
     "end_time": "2022-12-12T21:34:53.813188",
     "exception": false,
     "start_time": "2022-12-12T21:34:53.700701",
     "status": "completed"
    },
    "tags": []
   },
   "outputs": [],
   "source": [
    "model = tree.DecisionTreeClassifier(max_depth=4, random_state=100, class_weight='balanced')\n",
    "path = model.cost_complexity_pruning_path(X_train, y_train)"
   ]
  },
  {
   "cell_type": "markdown",
   "id": "829f8dee",
   "metadata": {
    "papermill": {
     "duration": 0.101198,
     "end_time": "2022-12-12T21:34:54.017416",
     "exception": false,
     "start_time": "2022-12-12T21:34:53.916218",
     "status": "completed"
    },
    "tags": []
   },
   "source": [
    "* Insert arguments to address imbalance data."
   ]
  },
  {
   "cell_type": "code",
   "execution_count": 66,
   "id": "3c800bf8",
   "metadata": {
    "execution": {
     "iopub.execute_input": "2022-12-12T21:34:54.226378Z",
     "iopub.status.busy": "2022-12-12T21:34:54.225868Z",
     "iopub.status.idle": "2022-12-12T21:34:54.227012Z",
     "shell.execute_reply": "2022-12-12T21:34:54.227428Z",
     "shell.execute_reply.started": "2022-12-12T21:30:41.651570Z"
    },
    "papermill": {
     "duration": 0.109206,
     "end_time": "2022-12-12T21:34:54.227565",
     "exception": false,
     "start_time": "2022-12-12T21:34:54.118359",
     "status": "completed"
    },
    "tags": []
   },
   "outputs": [],
   "source": [
    "eff_alphas = path.ccp_alphas"
   ]
  },
  {
   "cell_type": "code",
   "execution_count": 67,
   "id": "1f19619c",
   "metadata": {
    "execution": {
     "iopub.execute_input": "2022-12-12T21:34:54.443098Z",
     "iopub.status.busy": "2022-12-12T21:34:54.442395Z",
     "iopub.status.idle": "2022-12-12T21:34:54.489855Z",
     "shell.execute_reply": "2022-12-12T21:34:54.489270Z",
     "shell.execute_reply.started": "2022-12-12T21:30:41.663255Z"
    },
    "papermill": {
     "duration": 0.159035,
     "end_time": "2022-12-12T21:34:54.489982",
     "exception": false,
     "start_time": "2022-12-12T21:34:54.330947",
     "status": "completed"
    },
    "tags": []
   },
   "outputs": [],
   "source": [
    "models = []\n",
    "for eff_alpha in eff_alphas:\n",
    "    model = tree.DecisionTreeClassifier(random_state=100, ccp_alpha=eff_alpha, class_weight='balanced')\n",
    "    model.fit(X_train, y_train)\n",
    "    models.append(model)"
   ]
  },
  {
   "cell_type": "code",
   "execution_count": 68,
   "id": "119e7a52",
   "metadata": {
    "execution": {
     "iopub.execute_input": "2022-12-12T21:34:54.704331Z",
     "iopub.status.busy": "2022-12-12T21:34:54.703769Z",
     "iopub.status.idle": "2022-12-12T21:34:54.737682Z",
     "shell.execute_reply": "2022-12-12T21:34:54.738084Z",
     "shell.execute_reply.started": "2022-12-12T21:30:41.720650Z"
    },
    "papermill": {
     "duration": 0.144778,
     "end_time": "2022-12-12T21:34:54.738229",
     "exception": false,
     "start_time": "2022-12-12T21:34:54.593451",
     "status": "completed"
    },
    "tags": []
   },
   "outputs": [],
   "source": [
    "# Evaluation\n",
    "train_scores = [mean_squared_error(y_train, model.predict(X_train)) for model in models]\n",
    "test_scores = [mean_squared_error(y_test, model.predict(X_test)) for model in models]"
   ]
  },
  {
   "cell_type": "code",
   "execution_count": 69,
   "id": "e4b874dd",
   "metadata": {
    "execution": {
     "iopub.execute_input": "2022-12-12T21:34:54.945175Z",
     "iopub.status.busy": "2022-12-12T21:34:54.944443Z",
     "iopub.status.idle": "2022-12-12T21:34:55.140435Z",
     "shell.execute_reply": "2022-12-12T21:34:55.139842Z",
     "shell.execute_reply.started": "2022-12-12T21:30:41.771880Z"
    },
    "papermill": {
     "duration": 0.299854,
     "end_time": "2022-12-12T21:34:55.140551",
     "exception": false,
     "start_time": "2022-12-12T21:34:54.840697",
     "status": "completed"
    },
    "tags": []
   },
   "outputs": [
    {
     "data": {
      "text/plain": [
       "Text(0, 0.5, 'MSE')"
      ]
     },
     "execution_count": 69,
     "metadata": {},
     "output_type": "execute_result"
    },
    {
     "data": {
      "image/png": "[encoded data removed]",
      "text/plain": [
       "<Figure size 432x288 with 1 Axes>"
      ]
     },
     "metadata": {
      "needs_background": "light"
     },
     "output_type": "display_data"
    }
   ],
   "source": [
    "plt.plot(eff_alphas, train_scores, marker='o', label='train', drawstyle='steps-post')\n",
    "plt.plot(eff_alphas, test_scores, marker='o', label='test', drawstyle='steps-post')\n",
    "plt.legend()\n",
    "plt.xlabel('alpha')\n",
    "plt.ylabel('MSE')"
   ]
  },
  {
   "cell_type": "code",
   "execution_count": 70,
   "id": "9b9b3c3f",
   "metadata": {
    "execution": {
     "iopub.execute_input": "2022-12-12T21:34:55.357186Z",
     "iopub.status.busy": "2022-12-12T21:34:55.352902Z",
     "iopub.status.idle": "2022-12-12T21:34:55.359714Z",
     "shell.execute_reply": "2022-12-12T21:34:55.359189Z",
     "shell.execute_reply.started": "2022-12-12T21:30:42.008082Z"
    },
    "papermill": {
     "duration": 0.114849,
     "end_time": "2022-12-12T21:34:55.359869",
     "exception": false,
     "start_time": "2022-12-12T21:34:55.245020",
     "status": "completed"
    },
    "tags": []
   },
   "outputs": [],
   "source": [
    "# Define Learn function\n",
    "def learn(X, y, depth = 3):\n",
    "    X_train, X_test, y_train, y_test = train_test_split(X, y, test_size=0.20, random_state=0)\n",
    "    \n",
    "    model = tree.DecisionTreeClassifier(max_depth = depth, random_state=0, class_weight = 'balanced')\n",
    "    model.fit(X_train, y_train)\n",
    "    \n",
    "    score = model.score(X = X_train, y = y_train)\n",
    "    score2 = model.score(X = X_test, y = y_test)\n",
    "    return round(score, 3), round(score, 2), model"
   ]
  },
  {
   "cell_type": "code",
   "execution_count": 71,
   "id": "ac0f17f9",
   "metadata": {
    "execution": {
     "iopub.execute_input": "2022-12-12T21:34:55.577289Z",
     "iopub.status.busy": "2022-12-12T21:34:55.576748Z",
     "iopub.status.idle": "2022-12-12T21:34:55.784996Z",
     "shell.execute_reply": "2022-12-12T21:34:55.784287Z",
     "shell.execute_reply.started": "2022-12-12T21:30:42.017431Z"
    },
    "papermill": {
     "duration": 0.315482,
     "end_time": "2022-12-12T21:34:55.785137",
     "exception": false,
     "start_time": "2022-12-12T21:34:55.469655",
     "status": "completed"
    },
    "tags": []
   },
   "outputs": [
    {
     "name": "stdout",
     "output_type": "stream",
     "text": [
      "depth1:Accuracy of training data0.787::Accuracy of test data0.79\n",
      "depth2:Accuracy of training data0.792::Accuracy of test data0.79\n",
      "depth3:Accuracy of training data0.84::Accuracy of test data0.84\n",
      "depth4:Accuracy of training data0.854::Accuracy of test data0.85\n",
      "depth5:Accuracy of training data0.869::Accuracy of test data0.87\n",
      "depth6:Accuracy of training data0.876::Accuracy of test data0.88\n",
      "depth7:Accuracy of training data0.895::Accuracy of test data0.89\n",
      "depth8:Accuracy of training data0.907::Accuracy of test data0.91\n",
      "depth9:Accuracy of training data0.914::Accuracy of test data0.91\n",
      "depth10:Accuracy of training data0.94::Accuracy of test data0.94\n",
      "depth11:Accuracy of training data0.949::Accuracy of test data0.95\n",
      "depth12:Accuracy of training data0.966::Accuracy of test data0.97\n",
      "depth13:Accuracy of training data0.978::Accuracy of test data0.98\n",
      "depth14:Accuracy of training data0.985::Accuracy of test data0.98\n",
      "depth15:Accuracy of training data0.986::Accuracy of test data0.99\n",
      "depth16:Accuracy of training data0.987::Accuracy of test data0.99\n",
      "depth17:Accuracy of training data0.987::Accuracy of test data0.99\n",
      "depth18:Accuracy of training data0.987::Accuracy of test data0.99\n",
      "depth19:Accuracy of training data0.987::Accuracy of test data0.99\n",
      "depth20:Accuracy of training data0.987::Accuracy of test data0.99\n",
      "depth21:Accuracy of training data0.987::Accuracy of test data0.99\n",
      "depth22:Accuracy of training data0.987::Accuracy of test data0.99\n",
      "depth23:Accuracy of training data0.987::Accuracy of test data0.99\n",
      "depth24:Accuracy of training data0.987::Accuracy of test data0.99\n",
      "depth25:Accuracy of training data0.987::Accuracy of test data0.99\n",
      "depth26:Accuracy of training data0.987::Accuracy of test data0.99\n",
      "depth27:Accuracy of training data0.987::Accuracy of test data0.99\n",
      "depth28:Accuracy of training data0.987::Accuracy of test data0.99\n",
      "depth29:Accuracy of training data0.987::Accuracy of test data0.99\n"
     ]
    }
   ],
   "source": [
    "# Check the change in the percentage of correct answers in the training and test data due to changes in the tree depth\n",
    "for j in range(1,30):\n",
    "# 'j' is the depth of the tree\n",
    "    s1, s2, m = learn(X, y, depth = j)\n",
    "    sentence = 'depth{}:Accuracy of training data{}::Accuracy of test data{}'\n",
    "    print(sentence.format(j, s1, s2))"
   ]
  },
  {
   "cell_type": "code",
   "execution_count": 72,
   "id": "1c499880",
   "metadata": {
    "execution": {
     "iopub.execute_input": "2022-12-12T21:34:55.997686Z",
     "iopub.status.busy": "2022-12-12T21:34:55.997181Z",
     "iopub.status.idle": "2022-12-12T21:34:56.006938Z",
     "shell.execute_reply": "2022-12-12T21:34:56.007310Z",
     "shell.execute_reply.started": "2022-12-12T21:30:42.260772Z"
    },
    "papermill": {
     "duration": 0.117646,
     "end_time": "2022-12-12T21:34:56.007452",
     "exception": false,
     "start_time": "2022-12-12T21:34:55.889806",
     "status": "completed"
    },
    "tags": []
   },
   "outputs": [],
   "source": [
    "# Retrain the model again with a tree depth of 16\n",
    "s1, s2, model = learn(X, y, depth = 16)\n",
    "\n",
    "# Model Saving\n",
    "with open('survived.pkl', 'wb') as f:\n",
    "    pickle.dump(model, f)"
   ]
  },
  {
   "cell_type": "code",
   "execution_count": 73,
   "id": "bf9eee35",
   "metadata": {
    "execution": {
     "iopub.execute_input": "2022-12-12T21:34:56.213595Z",
     "iopub.status.busy": "2022-12-12T21:34:56.210338Z",
     "iopub.status.idle": "2022-12-12T21:34:56.218110Z",
     "shell.execute_reply": "2022-12-12T21:34:56.218524Z",
     "shell.execute_reply.started": "2022-12-12T21:30:42.279462Z"
    },
    "papermill": {
     "duration": 0.11067,
     "end_time": "2022-12-12T21:34:56.218717",
     "exception": false,
     "start_time": "2022-12-12T21:34:56.108047",
     "status": "completed"
    },
    "tags": []
   },
   "outputs": [],
   "source": [
    "# Prediction\n",
    "y_pred = model.predict(test)\n",
    "y_predict = model.predict(X_test)\n",
    "y_pred_proba = model.predict_proba(X_test)"
   ]
  },
  {
   "cell_type": "code",
   "execution_count": 74,
   "id": "73dde015",
   "metadata": {
    "execution": {
     "iopub.execute_input": "2022-12-12T21:34:56.425166Z",
     "iopub.status.busy": "2022-12-12T21:34:56.424642Z",
     "iopub.status.idle": "2022-12-12T21:34:56.430090Z",
     "shell.execute_reply": "2022-12-12T21:34:56.430671Z",
     "shell.execute_reply.started": "2022-12-12T21:30:42.293450Z"
    },
    "papermill": {
     "duration": 0.111708,
     "end_time": "2022-12-12T21:34:56.430868",
     "exception": false,
     "start_time": "2022-12-12T21:34:56.319160",
     "status": "completed"
    },
    "tags": []
   },
   "outputs": [
    {
     "name": "stdout",
     "output_type": "stream",
     "text": [
      "Your submission was successfully saved!\n"
     ]
    }
   ],
   "source": [
    "final = pd.DataFrame({'PassengerId':test_id,'Survived':y_pred})\n",
    "final.to_csv('submission.csv', index=False)\n",
    "print(\"Your submission was successfully saved!\")"
   ]
  },
  {
   "cell_type": "code",
   "execution_count": 75,
   "id": "a0d79441",
   "metadata": {
    "execution": {
     "iopub.execute_input": "2022-12-12T21:34:56.644405Z",
     "iopub.status.busy": "2022-12-12T21:34:56.643946Z",
     "iopub.status.idle": "2022-12-12T21:34:56.650732Z",
     "shell.execute_reply": "2022-12-12T21:34:56.651123Z",
     "shell.execute_reply.started": "2022-12-12T21:30:42.311304Z"
    },
    "papermill": {
     "duration": 0.112839,
     "end_time": "2022-12-12T21:34:56.651271",
     "exception": false,
     "start_time": "2022-12-12T21:34:56.538432",
     "status": "completed"
    },
    "tags": []
   },
   "outputs": [
    {
     "data": {
      "text/html": [
       "<div>\n",
       "<style scoped>\n",
       "    .dataframe tbody tr th:only-of-type {\n",
       "        vertical-align: middle;\n",
       "    }\n",
       "\n",
       "    .dataframe tbody tr th {\n",
       "        vertical-align: top;\n",
       "    }\n",
       "\n",
       "    .dataframe thead th {\n",
       "        text-align: right;\n",
       "    }\n",
       "</style>\n",
       "<table border=\"1\" class=\"dataframe\">\n",
       "  <thead>\n",
       "    <tr style=\"text-align: right;\">\n",
       "      <th></th>\n",
       "      <th>PassengerId</th>\n",
       "      <th>Survived</th>\n",
       "    </tr>\n",
       "  </thead>\n",
       "  <tbody>\n",
       "    <tr>\n",
       "      <th>0</th>\n",
       "      <td>892</td>\n",
       "      <td>0</td>\n",
       "    </tr>\n",
       "    <tr>\n",
       "      <th>1</th>\n",
       "      <td>893</td>\n",
       "      <td>0</td>\n",
       "    </tr>\n",
       "    <tr>\n",
       "      <th>2</th>\n",
       "      <td>894</td>\n",
       "      <td>0</td>\n",
       "    </tr>\n",
       "    <tr>\n",
       "      <th>3</th>\n",
       "      <td>895</td>\n",
       "      <td>1</td>\n",
       "    </tr>\n",
       "    <tr>\n",
       "      <th>4</th>\n",
       "      <td>896</td>\n",
       "      <td>0</td>\n",
       "    </tr>\n",
       "  </tbody>\n",
       "</table>\n",
       "</div>"
      ],
      "text/plain": [
       "   PassengerId  Survived\n",
       "0          892         0\n",
       "1          893         0\n",
       "2          894         0\n",
       "3          895         1\n",
       "4          896         0"
      ]
     },
     "execution_count": 75,
     "metadata": {},
     "output_type": "execute_result"
    }
   ],
   "source": [
    "final.head()"
   ]
  },
  {
   "cell_type": "markdown",
   "id": "d3c8b108",
   "metadata": {
    "papermill": {
     "duration": 0.102889,
     "end_time": "2022-12-12T21:34:56.856080",
     "exception": false,
     "start_time": "2022-12-12T21:34:56.753191",
     "status": "completed"
    },
    "tags": []
   },
   "source": [
    "# Model Evaluation"
   ]
  },
  {
   "cell_type": "code",
   "execution_count": 76,
   "id": "deaba854",
   "metadata": {
    "execution": {
     "iopub.execute_input": "2022-12-12T21:34:57.069356Z",
     "iopub.status.busy": "2022-12-12T21:34:57.068830Z",
     "iopub.status.idle": "2022-12-12T21:34:57.075210Z",
     "shell.execute_reply": "2022-12-12T21:34:57.075624Z",
     "shell.execute_reply.started": "2022-12-12T21:30:42.323845Z"
    },
    "papermill": {
     "duration": 0.113461,
     "end_time": "2022-12-12T21:34:57.075784",
     "exception": false,
     "start_time": "2022-12-12T21:34:56.962323",
     "status": "completed"
    },
    "tags": []
   },
   "outputs": [
    {
     "data": {
      "text/plain": [
       "4.829849223667772"
      ]
     },
     "execution_count": 76,
     "metadata": {},
     "output_type": "execute_result"
    }
   ],
   "source": [
    "# LogLoss\n",
    "log_loss(y_test, y_pred_proba)"
   ]
  },
  {
   "cell_type": "code",
   "execution_count": 77,
   "id": "1259a453",
   "metadata": {
    "execution": {
     "iopub.execute_input": "2022-12-12T21:34:57.284694Z",
     "iopub.status.busy": "2022-12-12T21:34:57.284196Z",
     "iopub.status.idle": "2022-12-12T21:34:57.459489Z",
     "shell.execute_reply": "2022-12-12T21:34:57.460284Z",
     "shell.execute_reply.started": "2022-12-12T21:30:42.334248Z"
    },
    "papermill": {
     "duration": 0.281837,
     "end_time": "2022-12-12T21:34:57.460446",
     "exception": false,
     "start_time": "2022-12-12T21:34:57.178609",
     "status": "completed"
    },
    "tags": []
   },
   "outputs": [
    {
     "data": {
      "text/plain": [
       "<sklearn.metrics._plot.confusion_matrix.ConfusionMatrixDisplay at 0x7fc03fdf9a50>"
      ]
     },
     "execution_count": 77,
     "metadata": {},
     "output_type": "execute_result"
    },
    {
     "data": {
      "image/png": "[encoded data removed]",
      "text/plain": [
       "<Figure size 432x288 with 2 Axes>"
      ]
     },
     "metadata": {
      "needs_background": "light"
     },
     "output_type": "display_data"
    }
   ],
   "source": [
    "# Confusion Matrix\n",
    "cm = confusion_matrix(y_test, y_predict)\n",
    "disp = ConfusionMatrixDisplay(confusion_matrix=cm, display_labels=model.classes_)\n",
    "disp.plot()"
   ]
  },
  {
   "cell_type": "code",
   "execution_count": 78,
   "id": "4bf81d6d",
   "metadata": {
    "execution": {
     "iopub.execute_input": "2022-12-12T21:34:57.672986Z",
     "iopub.status.busy": "2022-12-12T21:34:57.670038Z",
     "iopub.status.idle": "2022-12-12T21:34:57.676214Z",
     "shell.execute_reply": "2022-12-12T21:34:57.675762Z",
     "shell.execute_reply.started": "2022-12-12T21:30:42.542379Z"
    },
    "papermill": {
     "duration": 0.111864,
     "end_time": "2022-12-12T21:34:57.676333",
     "exception": false,
     "start_time": "2022-12-12T21:34:57.564469",
     "status": "completed"
    },
    "tags": []
   },
   "outputs": [
    {
     "data": {
      "text/plain": [
       "0.8603351955307262"
      ]
     },
     "execution_count": 78,
     "metadata": {},
     "output_type": "execute_result"
    }
   ],
   "source": [
    "# Accuracy Score\n",
    "accuracy_score(y_test, y_predict)"
   ]
  },
  {
   "cell_type": "code",
   "execution_count": 79,
   "id": "fd859d16",
   "metadata": {
    "execution": {
     "iopub.execute_input": "2022-12-12T21:34:57.893554Z",
     "iopub.status.busy": "2022-12-12T21:34:57.891675Z",
     "iopub.status.idle": "2022-12-12T21:34:57.897222Z",
     "shell.execute_reply": "2022-12-12T21:34:57.897641Z",
     "shell.execute_reply.started": "2022-12-12T21:30:42.549790Z"
    },
    "papermill": {
     "duration": 0.11536,
     "end_time": "2022-12-12T21:34:57.897849",
     "exception": false,
     "start_time": "2022-12-12T21:34:57.782489",
     "status": "completed"
    },
    "tags": []
   },
   "outputs": [
    {
     "data": {
      "text/plain": [
       "0.7681159420289855"
      ]
     },
     "execution_count": 79,
     "metadata": {},
     "output_type": "execute_result"
    }
   ],
   "source": [
    "# Recall Score\n",
    "recall_score(y_test, y_predict)"
   ]
  },
  {
   "cell_type": "code",
   "execution_count": 80,
   "id": "7e8d417d",
   "metadata": {
    "execution": {
     "iopub.execute_input": "2022-12-12T21:34:58.112482Z",
     "iopub.status.busy": "2022-12-12T21:34:58.111951Z",
     "iopub.status.idle": "2022-12-12T21:34:58.116180Z",
     "shell.execute_reply": "2022-12-12T21:34:58.116664Z",
     "shell.execute_reply.started": "2022-12-12T21:30:42.566764Z"
    },
    "papermill": {
     "duration": 0.113691,
     "end_time": "2022-12-12T21:34:58.116804",
     "exception": false,
     "start_time": "2022-12-12T21:34:58.003113",
     "status": "completed"
    },
    "tags": []
   },
   "outputs": [
    {
     "data": {
      "text/plain": [
       "0.8548387096774194"
      ]
     },
     "execution_count": 80,
     "metadata": {},
     "output_type": "execute_result"
    }
   ],
   "source": [
    "# Precision\n",
    "precision_score(y_test, y_predict)"
   ]
  },
  {
   "cell_type": "code",
   "execution_count": 81,
   "id": "8ae731fd",
   "metadata": {
    "execution": {
     "iopub.execute_input": "2022-12-12T21:34:58.329939Z",
     "iopub.status.busy": "2022-12-12T21:34:58.329393Z",
     "iopub.status.idle": "2022-12-12T21:34:58.336080Z",
     "shell.execute_reply": "2022-12-12T21:34:58.336477Z",
     "shell.execute_reply.started": "2022-12-12T21:30:42.581533Z"
    },
    "papermill": {
     "duration": 0.115063,
     "end_time": "2022-12-12T21:34:58.336634",
     "exception": false,
     "start_time": "2022-12-12T21:34:58.221571",
     "status": "completed"
    },
    "tags": []
   },
   "outputs": [
    {
     "data": {
      "text/plain": [
       "0.9181818181818182"
      ]
     },
     "execution_count": 81,
     "metadata": {},
     "output_type": "execute_result"
    }
   ],
   "source": [
    "# Specificity\n",
    "recall_score(np.array(y_test)!=1, np.array(y_predict)!=1)"
   ]
  },
  {
   "cell_type": "code",
   "execution_count": 82,
   "id": "9ca9d47b",
   "metadata": {
    "execution": {
     "iopub.execute_input": "2022-12-12T21:34:58.555739Z",
     "iopub.status.busy": "2022-12-12T21:34:58.555202Z",
     "iopub.status.idle": "2022-12-12T21:34:58.704515Z",
     "shell.execute_reply": "2022-12-12T21:34:58.704898Z",
     "shell.execute_reply.started": "2022-12-12T21:30:42.593885Z"
    },
    "papermill": {
     "duration": 0.261057,
     "end_time": "2022-12-12T21:34:58.705043",
     "exception": false,
     "start_time": "2022-12-12T21:34:58.443986",
     "status": "completed"
    },
    "tags": []
   },
   "outputs": [
    {
     "data": {
      "image/png": "[encoded data removed]",
      "text/plain": [
       "<Figure size 432x288 with 1 Axes>"
      ]
     },
     "metadata": {
      "needs_background": "light"
     },
     "output_type": "display_data"
    }
   ],
   "source": [
    "# PrecisionRecallCurve\n",
    "precision, recall, thresholds = precision_recall_curve(y_test, y_pred_proba[:, 1])\n",
    "plt.plot(recall, precision)\n",
    "plt.xlabel('recall')\n",
    "plt.ylabel('precision')\n",
    "plt.title('Precision Recall Curve')\n",
    "plt.show()"
   ]
  },
  {
   "cell_type": "code",
   "execution_count": 83,
   "id": "f721bf5e",
   "metadata": {
    "execution": {
     "iopub.execute_input": "2022-12-12T21:34:58.923522Z",
     "iopub.status.busy": "2022-12-12T21:34:58.922989Z",
     "iopub.status.idle": "2022-12-12T21:34:58.930968Z",
     "shell.execute_reply": "2022-12-12T21:34:58.930484Z",
     "shell.execute_reply.started": "2022-12-12T21:30:42.772989Z"
    },
    "papermill": {
     "duration": 0.11814,
     "end_time": "2022-12-12T21:34:58.931091",
     "exception": false,
     "start_time": "2022-12-12T21:34:58.812951",
     "status": "completed"
    },
    "tags": []
   },
   "outputs": [
    {
     "data": {
      "text/plain": [
       "0.8091603053435115"
      ]
     },
     "execution_count": 83,
     "metadata": {},
     "output_type": "execute_result"
    }
   ],
   "source": [
    "# F1 Score\n",
    "f1_score(y_test, y_predict)"
   ]
  },
  {
   "cell_type": "code",
   "execution_count": 84,
   "id": "fbfb1e01",
   "metadata": {
    "execution": {
     "iopub.execute_input": "2022-12-12T21:34:59.145678Z",
     "iopub.status.busy": "2022-12-12T21:34:59.145171Z",
     "iopub.status.idle": "2022-12-12T21:34:59.287446Z",
     "shell.execute_reply": "2022-12-12T21:34:59.287826Z",
     "shell.execute_reply.started": "2022-12-12T21:30:42.785856Z"
    },
    "papermill": {
     "duration": 0.251255,
     "end_time": "2022-12-12T21:34:59.287972",
     "exception": false,
     "start_time": "2022-12-12T21:34:59.036717",
     "status": "completed"
    },
    "tags": []
   },
   "outputs": [
    {
     "data": {
      "image/png": "[encoded data removed]",
      "text/plain": [
       "<Figure size 432x288 with 1 Axes>"
      ]
     },
     "metadata": {
      "needs_background": "light"
     },
     "output_type": "display_data"
    }
   ],
   "source": [
    "# ROC curve\n",
    "fpr, tpr, thresholds = roc_curve(y_test, y_pred_proba[:, 1])\n",
    "plt.plot(fpr, tpr)\n",
    "plt.xlabel('1-specificity(FPR)')\n",
    "plt.ylabel('sensitivity(TPR)')\n",
    "plt.title('ROC Curve')\n",
    "plt.show()"
   ]
  },
  {
   "cell_type": "code",
   "execution_count": 85,
   "id": "d30481d5",
   "metadata": {
    "execution": {
     "iopub.execute_input": "2022-12-12T21:34:59.506038Z",
     "iopub.status.busy": "2022-12-12T21:34:59.505311Z",
     "iopub.status.idle": "2022-12-12T21:34:59.509878Z",
     "shell.execute_reply": "2022-12-12T21:34:59.510289Z",
     "shell.execute_reply.started": "2022-12-12T21:30:42.953202Z"
    },
    "papermill": {
     "duration": 0.118089,
     "end_time": "2022-12-12T21:34:59.510435",
     "exception": false,
     "start_time": "2022-12-12T21:34:59.392346",
     "status": "completed"
    },
    "tags": []
   },
   "outputs": [
    {
     "data": {
      "text/plain": [
       "0.8415019762845849"
      ]
     },
     "execution_count": 85,
     "metadata": {},
     "output_type": "execute_result"
    }
   ],
   "source": [
    "auc(fpr, tpr)"
   ]
  },
  {
   "cell_type": "code",
   "execution_count": 86,
   "id": "69049379",
   "metadata": {
    "execution": {
     "iopub.execute_input": "2022-12-12T21:34:59.727334Z",
     "iopub.status.busy": "2022-12-12T21:34:59.726568Z",
     "iopub.status.idle": "2022-12-12T21:36:39.928162Z",
     "shell.execute_reply": "2022-12-12T21:36:39.927697Z",
     "shell.execute_reply.started": "2022-12-12T21:30:42.962934Z"
    },
    "papermill": {
     "duration": 100.311571,
     "end_time": "2022-12-12T21:36:39.928275",
     "exception": false,
     "start_time": "2022-12-12T21:34:59.616704",
     "status": "completed"
    },
    "tags": []
   },
   "outputs": [
    {
     "name": "stderr",
     "output_type": "stream",
     "text": [
      "Progress rate: : 2500it [01:39, 24.96it/s]"
     ]
    }
   ],
   "source": [
    "# Set the total value \n",
    "bar = tqdm(total = 1000)\n",
    "# Add description\n",
    "bar.set_description('Progress rate')\n",
    "for i in range(100):\n",
    "    # Set the progress\n",
    "    bar.update(25)\n",
    "    time.sleep(1)"
   ]
  },
  {
   "cell_type": "markdown",
   "id": "ac795eaf",
   "metadata": {
    "papermill": {
     "duration": 0.130238,
     "end_time": "2022-12-12T21:36:40.191523",
     "exception": false,
     "start_time": "2022-12-12T21:36:40.061285",
     "status": "completed"
    },
    "tags": []
   },
   "source": [
    "* Your upvote will motivate me."
   ]
  },
  {
   "cell_type": "markdown",
   "id": "77ce5b62",
   "metadata": {
    "papermill": {
     "duration": 0.130883,
     "end_time": "2022-12-12T21:36:40.454653",
     "exception": false,
     "start_time": "2022-12-12T21:36:40.323770",
     "status": "completed"
    },
    "tags": []
   },
   "source": [
    "# Compliment\n",
    "* [Titanic_prediction(SVM)](https://www.kaggle.com/code/shithavengara/titanic-prediction-svm)\n",
    "* [SVM (Titanic)](https://www.kaggle.com/code/rezvanrah/svm-titanic)\n",
    "* [Titanic Prediction with SVM](https://www.kaggle.com/code/l3r4nd/titanic-prediction-with-svm)"
   ]
  }
 ],
 "metadata": {
  "kernelspec": {
   "display_name": "Python 3",
   "language": "python",
   "name": "python3"
  },
  "language_info": {
   "codemirror_mode": {
    "name": "ipython",
    "version": 3
   },
   "file_extension": ".py",
   "mimetype": "text/x-python",
   "name": "python",
   "nbconvert_exporter": "python",
   "pygments_lexer": "ipython3",
   "version": "3.7.10"
  },
  "papermill": {
   "default_parameters": {},
   "duration": 162.066535,
   "end_time": "2022-12-12T21:36:41.904484",
   "environment_variables": {},
   "exception": null,
   "input_path": "__notebook__.ipynb",
   "output_path": "__notebook__.ipynb",
   "parameters": {},
   "start_time": "2022-12-12T21:33:59.837949",
   "version": "2.3.3"
  }
 },
 "nbformat": 4,
 "nbformat_minor": 5
}
