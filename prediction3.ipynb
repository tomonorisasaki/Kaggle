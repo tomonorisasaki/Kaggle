{
 "cells": [
  {
   "cell_type": "code",
   "execution_count": 1,
   "id": "6224ac39",
   "metadata": {
    "_cell_guid": "b1076dfc-b9ad-4769-8c92-a6c4dae69d19",
    "_uuid": "8f2839f25d086af736a60e9eeb907d3b93b6e0e5",
    "execution": {
     "iopub.execute_input": "2023-05-02T02:23:40.692168Z",
     "iopub.status.busy": "2023-05-02T02:23:40.691726Z",
     "iopub.status.idle": "2023-05-02T02:23:40.712972Z",
     "shell.execute_reply": "2023-05-02T02:23:40.711919Z"
    },
    "papermill": {
     "duration": 0.03351,
     "end_time": "2023-05-02T02:23:40.715443",
     "exception": false,
     "start_time": "2023-05-02T02:23:40.681933",
     "status": "completed"
    },
    "tags": []
   },
   "outputs": [
    {
     "name": "stdout",
     "output_type": "stream",
     "text": [
      "/kaggle/input/amp-parkinsons-disease-progression-prediction/train_proteins.csv\n",
      "/kaggle/input/amp-parkinsons-disease-progression-prediction/train_clinical_data.csv\n",
      "/kaggle/input/amp-parkinsons-disease-progression-prediction/public_timeseries_testing_util.py\n",
      "/kaggle/input/amp-parkinsons-disease-progression-prediction/supplemental_clinical_data.csv\n",
      "/kaggle/input/amp-parkinsons-disease-progression-prediction/train_peptides.csv\n",
      "/kaggle/input/amp-parkinsons-disease-progression-prediction/amp_pd_peptide/competition.cpython-37m-x86_64-linux-gnu.so\n",
      "/kaggle/input/amp-parkinsons-disease-progression-prediction/amp_pd_peptide/__init__.py\n",
      "/kaggle/input/amp-parkinsons-disease-progression-prediction/example_test_files/sample_submission.csv\n",
      "/kaggle/input/amp-parkinsons-disease-progression-prediction/example_test_files/test_proteins.csv\n",
      "/kaggle/input/amp-parkinsons-disease-progression-prediction/example_test_files/test_peptides.csv\n",
      "/kaggle/input/amp-parkinsons-disease-progression-prediction/example_test_files/test.csv\n"
     ]
    }
   ],
   "source": [
    "# This Python 3 environment comes with many helpful analytics libraries installed\n",
    "# It is defined by the kaggle/python Docker image: https://github.com/kaggle/docker-python\n",
    "# For example, here's several helpful packages to load\n",
    "\n",
    "import numpy as np # linear algebra\n",
    "import pandas as pd # data processing, CSV file I/O (e.g. pd.read_csv)\n",
    "\n",
    "# Input data files are available in the read-only \"../input/\" directory\n",
    "# For example, running this (by clicking run or pressing Shift+Enter) will list all files under the input directory\n",
    "\n",
    "import os\n",
    "for dirname, _, filenames in os.walk('/kaggle/input'):\n",
    "    for filename in filenames:\n",
    "        print(os.path.join(dirname, filename))\n",
    "\n",
    "# You can write up to 20GB to the current directory (/kaggle/working/) that gets preserved as output when you create a version using \"Save & Run All\" \n",
    "# You can also write temporary files to /kaggle/temp/, but they won't be saved outside of the current session"
   ]
  },
  {
   "cell_type": "code",
   "execution_count": 2,
   "id": "6bc4678a",
   "metadata": {
    "execution": {
     "iopub.execute_input": "2023-05-02T02:23:40.731310Z",
     "iopub.status.busy": "2023-05-02T02:23:40.730388Z",
     "iopub.status.idle": "2023-05-02T02:23:44.049577Z",
     "shell.execute_reply": "2023-05-02T02:23:44.048567Z"
    },
    "papermill": {
     "duration": 3.329793,
     "end_time": "2023-05-02T02:23:44.052439",
     "exception": false,
     "start_time": "2023-05-02T02:23:40.722646",
     "status": "completed"
    },
    "tags": []
   },
   "outputs": [
    {
     "data": {
      "text/html": [
       "<style type='text/css'>\n",
       ".datatable table.frame { margin-bottom: 0; }\n",
       ".datatable table.frame thead { border-bottom: none; }\n",
       ".datatable table.frame tr.coltypes td {  color: #FFFFFF;  line-height: 6px;  padding: 0 0.5em;}\n",
       ".datatable .bool    { background: #DDDD99; }\n",
       ".datatable .object  { background: #565656; }\n",
       ".datatable .int     { background: #5D9E5D; }\n",
       ".datatable .float   { background: #4040CC; }\n",
       ".datatable .str     { background: #CC4040; }\n",
       ".datatable .time    { background: #40CC40; }\n",
       ".datatable .row_index {  background: var(--jp-border-color3);  border-right: 1px solid var(--jp-border-color0);  color: var(--jp-ui-font-color3);  font-size: 9px;}\n",
       ".datatable .frame tbody td { text-align: left; }\n",
       ".datatable .frame tr.coltypes .row_index {  background: var(--jp-border-color0);}\n",
       ".datatable th:nth-child(2) { padding-left: 12px; }\n",
       ".datatable .hellipsis {  color: var(--jp-cell-editor-border-color);}\n",
       ".datatable .vellipsis {  background: var(--jp-layout-color0);  color: var(--jp-cell-editor-border-color);}\n",
       ".datatable .na {  color: var(--jp-cell-editor-border-color);  font-size: 80%;}\n",
       ".datatable .sp {  opacity: 0.25;}\n",
       ".datatable .footer { font-size: 9px; }\n",
       ".datatable .frame_dimensions {  background: var(--jp-border-color3);  border-top: 1px solid var(--jp-border-color0);  color: var(--jp-ui-font-color3);  display: inline-block;  opacity: 0.6;  padding: 1px 10px 1px 5px;}\n",
       "</style>\n"
      ],
      "text/plain": [
       "<IPython.core.display.HTML object>"
      ]
     },
     "metadata": {},
     "output_type": "display_data"
    }
   ],
   "source": [
    "# Loading libraries\n",
    "import numpy as np\n",
    "import pandas as pd\n",
    "import matplotlib.pyplot as plt\n",
    "import seaborn as sns\n",
    "import lightgbm as lgb\n",
    "import tqdm\n",
    "import re\n",
    "import time\n",
    "from itertools import product\n",
    "from functools import reduce\n",
    "\n",
    "import warnings\n",
    "warnings.filterwarnings(\"ignore\", category=UserWarning)\n",
    "warnings.filterwarnings(\"ignore\", category=DeprecationWarning)\n",
    "warnings.filterwarnings(\"ignore\", category=FutureWarning)\n",
    "\n",
    "pd.set_option('display.float_format',lambda x: '%.3f' % x)"
   ]
  },
  {
   "cell_type": "code",
   "execution_count": 3,
   "id": "d9a9a87b",
   "metadata": {
    "execution": {
     "iopub.execute_input": "2023-05-02T02:23:44.068207Z",
     "iopub.status.busy": "2023-05-02T02:23:44.067910Z",
     "iopub.status.idle": "2023-05-02T02:23:44.072610Z",
     "shell.execute_reply": "2023-05-02T02:23:44.071500Z"
    },
    "papermill": {
     "duration": 0.015084,
     "end_time": "2023-05-02T02:23:44.074964",
     "exception": false,
     "start_time": "2023-05-02T02:23:44.059880",
     "status": "completed"
    },
    "tags": []
   },
   "outputs": [],
   "source": [
    "from sklearn.model_selection import KFold\n",
    "\n",
    "from tqdm import tqdm\n",
    "from tqdm.notebook import tqdm"
   ]
  },
  {
   "cell_type": "code",
   "execution_count": 4,
   "id": "06a01877",
   "metadata": {
    "execution": {
     "iopub.execute_input": "2023-05-02T02:23:44.090841Z",
     "iopub.status.busy": "2023-05-02T02:23:44.090574Z",
     "iopub.status.idle": "2023-05-02T02:23:45.525301Z",
     "shell.execute_reply": "2023-05-02T02:23:45.524310Z"
    },
    "papermill": {
     "duration": 1.445512,
     "end_time": "2023-05-02T02:23:45.527731",
     "exception": false,
     "start_time": "2023-05-02T02:23:44.082219",
     "status": "completed"
    },
    "tags": []
   },
   "outputs": [
    {
     "data": {
      "text/plain": [
       "((232741, 5), (981834, 6), (2615, 8))"
      ]
     },
     "execution_count": 4,
     "metadata": {},
     "output_type": "execute_result"
    }
   ],
   "source": [
    "# Reading the datasets\n",
    "protein_data = pd.read_csv('/kaggle/input/amp-parkinsons-disease-progression-prediction/train_proteins.csv')\n",
    "peptides_data = pd.read_csv('/kaggle/input/amp-parkinsons-disease-progression-prediction/train_peptides.csv')\n",
    "target_data = pd.read_csv('/kaggle/input/amp-parkinsons-disease-progression-prediction/train_clinical_data.csv')\n",
    "sup_target_data = pd.read_csv('/kaggle/input/amp-parkinsons-disease-progression-prediction/supplemental_clinical_data.csv')\n",
    "protein_data.shape, peptides_data.shape, target_data.shape"
   ]
  },
  {
   "cell_type": "code",
   "execution_count": 5,
   "id": "a3c2dcb6",
   "metadata": {
    "execution": {
     "iopub.execute_input": "2023-05-02T02:23:45.543955Z",
     "iopub.status.busy": "2023-05-02T02:23:45.543400Z",
     "iopub.status.idle": "2023-05-02T02:23:45.567558Z",
     "shell.execute_reply": "2023-05-02T02:23:45.566447Z"
    },
    "papermill": {
     "duration": 0.034392,
     "end_time": "2023-05-02T02:23:45.569723",
     "exception": false,
     "start_time": "2023-05-02T02:23:45.535331",
     "status": "completed"
    },
    "tags": []
   },
   "outputs": [
    {
     "data": {
      "text/plain": [
       "((4720, 8), 4720, 1019, 17)"
      ]
     },
     "execution_count": 5,
     "metadata": {},
     "output_type": "execute_result"
    }
   ],
   "source": [
    "# Merging target data and sup_target_data since we will be using only clinical data for modelling\n",
    "target_data = pd.concat([target_data,sup_target_data],axis = 0).reset_index(drop = True)\n",
    "target_data = target_data[target_data.visit_month != 5].copy()\n",
    "\n",
    "target_data.shape, target_data.visit_id.nunique(), target_data.patient_id.nunique(), target_data.visit_month.nunique()"
   ]
  },
  {
   "cell_type": "code",
   "execution_count": 6,
   "id": "a5d32e4a",
   "metadata": {
    "execution": {
     "iopub.execute_input": "2023-05-02T02:23:45.585110Z",
     "iopub.status.busy": "2023-05-02T02:23:45.584845Z",
     "iopub.status.idle": "2023-05-02T02:23:45.592747Z",
     "shell.execute_reply": "2023-05-02T02:23:45.591863Z"
    },
    "papermill": {
     "duration": 0.01773,
     "end_time": "2023-05-02T02:23:45.594598",
     "exception": false,
     "start_time": "2023-05-02T02:23:45.576868",
     "status": "completed"
    },
    "tags": []
   },
   "outputs": [],
   "source": [
    "# 20230502追加　\n",
    "# delete visit_month 3, 5, 9 (there are no such visit_months in the Test API)\n",
    "target_data = target_data[~target_data.visit_month.isin([3, 5, 9])]"
   ]
  },
  {
   "cell_type": "markdown",
   "id": "54b5a2d7",
   "metadata": {
    "papermill": {
     "duration": 0.006905,
     "end_time": "2023-05-02T02:23:45.608756",
     "exception": false,
     "start_time": "2023-05-02T02:23:45.601851",
     "status": "completed"
    },
    "tags": []
   },
   "source": [
    "We have data for 1019 patients with max 18 visits "
   ]
  },
  {
   "cell_type": "code",
   "execution_count": 7,
   "id": "c6584d6f",
   "metadata": {
    "execution": {
     "iopub.execute_input": "2023-05-02T02:23:45.625705Z",
     "iopub.status.busy": "2023-05-02T02:23:45.624908Z",
     "iopub.status.idle": "2023-05-02T02:23:45.630836Z",
     "shell.execute_reply": "2023-05-02T02:23:45.629958Z"
    },
    "papermill": {
     "duration": 0.016194,
     "end_time": "2023-05-02T02:23:45.632973",
     "exception": false,
     "start_time": "2023-05-02T02:23:45.616779",
     "status": "completed"
    },
    "tags": []
   },
   "outputs": [],
   "source": [
    "# Filling misssing values in upd23b_clinical_state_on_medication by unknown\n",
    "target_data.upd23b_clinical_state_on_medication.fillna('unknown',inplace = True)"
   ]
  },
  {
   "cell_type": "code",
   "execution_count": 8,
   "id": "963ba15d",
   "metadata": {
    "execution": {
     "iopub.execute_input": "2023-05-02T02:23:45.648716Z",
     "iopub.status.busy": "2023-05-02T02:23:45.647934Z",
     "iopub.status.idle": "2023-05-02T02:23:45.652296Z",
     "shell.execute_reply": "2023-05-02T02:23:45.651385Z"
    },
    "papermill": {
     "duration": 0.014363,
     "end_time": "2023-05-02T02:23:45.654360",
     "exception": false,
     "start_time": "2023-05-02T02:23:45.639997",
     "status": "completed"
    },
    "tags": []
   },
   "outputs": [],
   "source": [
    "# # Dropping missing values in the target dataset after filling na with 0 for updrs_4\n",
    "# target_data.updrs_4 = target_data.updrs_4.fillna(0)\n",
    "\n",
    "# target_data = target_data.dropna()\n",
    "# target_data.shape"
   ]
  },
  {
   "cell_type": "code",
   "execution_count": 9,
   "id": "cef2aacb",
   "metadata": {
    "execution": {
     "iopub.execute_input": "2023-05-02T02:23:45.669578Z",
     "iopub.status.busy": "2023-05-02T02:23:45.669266Z",
     "iopub.status.idle": "2023-05-02T02:23:45.678766Z",
     "shell.execute_reply": "2023-05-02T02:23:45.677696Z"
    },
    "papermill": {
     "duration": 0.019808,
     "end_time": "2023-05-02T02:23:45.681176",
     "exception": false,
     "start_time": "2023-05-02T02:23:45.661368",
     "status": "completed"
    },
    "tags": []
   },
   "outputs": [
    {
     "data": {
      "text/plain": [
       "visit_id                                  0\n",
       "patient_id                                0\n",
       "visit_month                               0\n",
       "updrs_1                                  96\n",
       "updrs_2                                  97\n",
       "updrs_3                                  29\n",
       "updrs_4                                1699\n",
       "upd23b_clinical_state_on_medication       0\n",
       "dtype: int64"
      ]
     },
     "execution_count": 9,
     "metadata": {},
     "output_type": "execute_result"
    }
   ],
   "source": [
    "target_data.isna().sum()"
   ]
  },
  {
   "cell_type": "code",
   "execution_count": 10,
   "id": "c2948191",
   "metadata": {
    "execution": {
     "iopub.execute_input": "2023-05-02T02:23:45.697853Z",
     "iopub.status.busy": "2023-05-02T02:23:45.697583Z",
     "iopub.status.idle": "2023-05-02T02:23:45.702552Z",
     "shell.execute_reply": "2023-05-02T02:23:45.701446Z"
    },
    "papermill": {
     "duration": 0.01629,
     "end_time": "2023-05-02T02:23:45.704998",
     "exception": false,
     "start_time": "2023-05-02T02:23:45.688708",
     "status": "completed"
    },
    "tags": []
   },
   "outputs": [],
   "source": [
    "# Category columns\n",
    "id_cols = ['visit_id','patient_id','visit_month']\n",
    "target_cols = ['updrs_1','updrs_2','updrs_3','updrs_4']\n",
    "month_list  =  [0,6,12,24]"
   ]
  },
  {
   "cell_type": "markdown",
   "id": "875892c7",
   "metadata": {
    "papermill": {
     "duration": 0.007101,
     "end_time": "2023-05-02T02:23:45.719338",
     "exception": false,
     "start_time": "2023-05-02T02:23:45.712237",
     "status": "completed"
    },
    "tags": []
   },
   "source": [
    "**Since medication is not available in test data. Filling medication to unknown in test data to see the impact**"
   ]
  },
  {
   "cell_type": "code",
   "execution_count": 11,
   "id": "209c4a75",
   "metadata": {
    "execution": {
     "iopub.execute_input": "2023-05-02T02:23:45.734937Z",
     "iopub.status.busy": "2023-05-02T02:23:45.734672Z",
     "iopub.status.idle": "2023-05-02T02:23:45.741470Z",
     "shell.execute_reply": "2023-05-02T02:23:45.740566Z"
    },
    "papermill": {
     "duration": 0.017108,
     "end_time": "2023-05-02T02:23:45.743658",
     "exception": false,
     "start_time": "2023-05-02T02:23:45.726550",
     "status": "completed"
    },
    "tags": []
   },
   "outputs": [],
   "source": [
    "def smape_plus_1(y_true, y_pred):\n",
    "    y_true_plus_1 = y_true + 1\n",
    "    y_pred_plus_1 = y_pred + 1\n",
    "    metric = np.zeros(len(y_true_plus_1))\n",
    "    \n",
    "    numerator = np.abs(y_true_plus_1 - y_pred_plus_1)\n",
    "    denominator = ((np.abs(y_true_plus_1) + np.abs(y_pred_plus_1)) / 2)\n",
    "    \n",
    "    mask_not_zeros = (y_true_plus_1 != 0) | (y_pred_plus_1 != 0)\n",
    "    metric[mask_not_zeros] = numerator[mask_not_zeros] / denominator[mask_not_zeros]\n",
    "    \n",
    "    return 100 * np.nanmean(metric)"
   ]
  },
  {
   "cell_type": "code",
   "execution_count": 12,
   "id": "46cd191f",
   "metadata": {
    "execution": {
     "iopub.execute_input": "2023-05-02T02:23:45.759765Z",
     "iopub.status.busy": "2023-05-02T02:23:45.759461Z",
     "iopub.status.idle": "2023-05-02T02:23:45.775227Z",
     "shell.execute_reply": "2023-05-02T02:23:45.774249Z"
    },
    "papermill": {
     "duration": 0.026485,
     "end_time": "2023-05-02T02:23:45.777371",
     "exception": false,
     "start_time": "2023-05-02T02:23:45.750886",
     "status": "completed"
    },
    "tags": []
   },
   "outputs": [],
   "source": [
    "# Creating features for target data \n",
    "def create_target_features(target_data,test=None):\n",
    "    \n",
    "    if test is None:\n",
    "        test1 = target_data[['patient_id','visit_month','upd23b_clinical_state_on_medication']].copy()\n",
    "        test1['upd23b_clinical_state_on_medication']  = test1['upd23b_clinical_state_on_medication'].fillna('unknown')\n",
    "    else:\n",
    "        test1 = test.copy()\n",
    "        if 'upd23b_clinical_state_on_medication' not in test1.columns.tolist():\n",
    "            test1['upd23b_clinical_state_on_medication'] = 'unknown'\n",
    "        else:\n",
    "            test1['upd23b_clinical_state_on_medication']  = test1['upd23b_clinical_state_on_medication'].fillna('unknown')\n",
    "        test1 = test1[['patient_id','visit_month','upd23b_clinical_state_on_medication']].drop_duplicates().copy()\n",
    "            \n",
    "        patients = test1.patient_id.unique()\n",
    "        visit_months=test1.visit_month.unique()\n",
    "        \n",
    "        test1['visit_month_orig'] = test1['visit_month']\n",
    "\n",
    "        test_data = pd.DataFrame()\n",
    "        for patient in patients:\n",
    "            for month in [0,6,12,24]:\n",
    "                p_data = test1[test1['patient_id'] == patient].copy()\n",
    "                p_data['visit_month'] = p_data['visit_month'].values + month\n",
    "                test_data = pd.concat([test_data,p_data],axis=0)\n",
    "        test1 = test_data.copy()\n",
    "        \n",
    "\n",
    "    # Replacing missing values with median by visit_month & medication\n",
    "    target_data1 = target_data.copy()\n",
    "    tmeds = target_data1.groupby(['visit_month','upd23b_clinical_state_on_medication'],group_keys =False)[target_cols].apply(lambda x: x.fillna(x.median())).sort_index()\n",
    "    target_data1 = target_data1[['patient_id','visit_month','upd23b_clinical_state_on_medication']].join(tmeds)\n",
    "\n",
    "    # Building grp features\n",
    "    all_grp_cols = [['visit_month'],['upd23b_clinical_state_on_medication']] + [['visit_month','upd23b_clinical_state_on_medication']]\n",
    "    \n",
    "    target_data2 = target_data1[['visit_month','upd23b_clinical_state_on_medication']].drop_duplicates()\n",
    "    for grp_col in all_grp_cols:    \n",
    "        temp = target_data1.groupby(grp_col)[target_cols].agg(['min','max','mean','median','sum','std'])\n",
    "        temp.columns = [i+'_' + j + '_'+ '_'.join(grp_col) for i,j in temp.columns]\n",
    "        target_data2 = target_data2.join(temp,on = grp_col)\n",
    "        target_data2  = target_data2.join(target_data1.groupby(grp_col)['updrs_1'].count().rename('_'.join(grp_col)+'_count'),\n",
    "                                          on = grp_col)\n",
    "    \n",
    "    # Flags for medication\n",
    "    test1['med_unknown'] = (test1['upd23b_clinical_state_on_medication'] == 'unknown').astype(int)\n",
    "    test1['med_off'] = (test1['upd23b_clinical_state_on_medication'] == 'Off').astype(int)\n",
    "    test1['med_on'] = (test1['upd23b_clinical_state_on_medication'] == 'On').astype(int)\n",
    "    \n",
    "    model_data = test1.merge(target_data2,on = ['visit_month','upd23b_clinical_state_on_medication'],how = 'inner').drop(columns = 'upd23b_clinical_state_on_medication')\n",
    "    feature_cols = model_data.drop(columns = ['patient_id']).columns.tolist()\n",
    "    \n",
    "    # Imputing model_data by median value by visit_month\n",
    "    model_data = model_data.groupby('visit_month',group_keys = False).apply(lambda x: x.fillna(x.median()))\n",
    "\n",
    "    if test is None:\n",
    "        model_data = model_data.merge(target_data1[['patient_id','visit_month'] + target_cols],\n",
    "                                      on = ['patient_id','visit_month'],\n",
    "                                      how = 'inner')\n",
    "\n",
    "    return model_data,feature_cols"
   ]
  },
  {
   "cell_type": "code",
   "execution_count": 13,
   "id": "dba8c414",
   "metadata": {
    "execution": {
     "iopub.execute_input": "2023-05-02T02:23:45.793003Z",
     "iopub.status.busy": "2023-05-02T02:23:45.792740Z",
     "iopub.status.idle": "2023-05-02T02:23:46.175319Z",
     "shell.execute_reply": "2023-05-02T02:23:46.173552Z"
    },
    "papermill": {
     "duration": 0.39313,
     "end_time": "2023-05-02T02:23:46.177750",
     "exception": false,
     "start_time": "2023-05-02T02:23:45.784620",
     "status": "completed"
    },
    "tags": []
   },
   "outputs": [
    {
     "data": {
      "text/plain": [
       "((4506, 84), 79)"
      ]
     },
     "execution_count": 13,
     "metadata": {},
     "output_type": "execute_result"
    }
   ],
   "source": [
    "# Getting the features \n",
    "model_data, feature_cols = create_target_features(target_data)\n",
    "model_data.shape, len(feature_cols)"
   ]
  },
  {
   "cell_type": "code",
   "execution_count": 14,
   "id": "9888a26c",
   "metadata": {
    "execution": {
     "iopub.execute_input": "2023-05-02T02:23:46.195667Z",
     "iopub.status.busy": "2023-05-02T02:23:46.193923Z",
     "iopub.status.idle": "2023-05-02T02:23:46.207292Z",
     "shell.execute_reply": "2023-05-02T02:23:46.206387Z"
    },
    "papermill": {
     "duration": 0.023938,
     "end_time": "2023-05-02T02:23:46.209399",
     "exception": false,
     "start_time": "2023-05-02T02:23:46.185461",
     "status": "completed"
    },
    "tags": []
   },
   "outputs": [
    {
     "data": {
      "text/plain": [
       "((4506, 2), (4506, 84))"
      ]
     },
     "execution_count": 14,
     "metadata": {},
     "output_type": "execute_result"
    }
   ],
   "source": [
    "model_data[['patient_id','visit_month']].drop_duplicates().shape, model_data.shape"
   ]
  },
  {
   "cell_type": "code",
   "execution_count": 15,
   "id": "1799c15d",
   "metadata": {
    "execution": {
     "iopub.execute_input": "2023-05-02T02:23:46.225529Z",
     "iopub.status.busy": "2023-05-02T02:23:46.225245Z",
     "iopub.status.idle": "2023-05-02T02:23:46.230635Z",
     "shell.execute_reply": "2023-05-02T02:23:46.229747Z"
    },
    "papermill": {
     "duration": 0.015792,
     "end_time": "2023-05-02T02:23:46.232738",
     "exception": false,
     "start_time": "2023-05-02T02:23:46.216946",
     "status": "completed"
    },
    "tags": []
   },
   "outputs": [],
   "source": [
    "# feature_cols = ['visit_month','med_unknown','med_off','med_on','visit_month_count',\n",
    "#                 'upd23b_clinical_state_on_medication_count','visit_month_upd23b_clinical_state_on_medication_count']\n",
    "feature_cols = ['visit_month','visit_month_count']\n"
   ]
  },
  {
   "cell_type": "code",
   "execution_count": 16,
   "id": "f43c7c57",
   "metadata": {
    "execution": {
     "iopub.execute_input": "2023-05-02T02:23:46.249180Z",
     "iopub.status.busy": "2023-05-02T02:23:46.248463Z",
     "iopub.status.idle": "2023-05-02T02:23:46.255006Z",
     "shell.execute_reply": "2023-05-02T02:23:46.254123Z"
    },
    "papermill": {
     "duration": 0.01694,
     "end_time": "2023-05-02T02:23:46.257063",
     "exception": false,
     "start_time": "2023-05-02T02:23:46.240123",
     "status": "completed"
    },
    "tags": []
   },
   "outputs": [],
   "source": [
    "#  Metric\n",
    "def smape(y_true, y_pred):\n",
    "    y_true = np.expm1(y_true) + 1\n",
    "    y_pred = np.expm1(y_pred) + 1\n",
    "    \n",
    "    return 100/len(y_true) * np.sum(2 * np.abs(y_pred - y_true) / (np.abs(y_true) + np.abs(y_pred)))"
   ]
  },
  {
   "cell_type": "code",
   "execution_count": 17,
   "id": "c280c84f",
   "metadata": {
    "execution": {
     "iopub.execute_input": "2023-05-02T02:23:46.273393Z",
     "iopub.status.busy": "2023-05-02T02:23:46.272539Z",
     "iopub.status.idle": "2023-05-02T02:23:46.553443Z",
     "shell.execute_reply": "2023-05-02T02:23:46.552388Z"
    },
    "papermill": {
     "duration": 0.29157,
     "end_time": "2023-05-02T02:23:46.555926",
     "exception": false,
     "start_time": "2023-05-02T02:23:46.264356",
     "status": "completed"
    },
    "tags": []
   },
   "outputs": [],
   "source": [
    "from sklearn.preprocessing import MinMaxScaler,  RobustScaler, StandardScaler\n",
    "from sklearn.model_selection import GroupKFold, GroupShuffleSplit\n",
    "from sklearn.svm import SVR, LinearSVR\n",
    "from sklearn.linear_model import Ridge, Lasso, ElasticNet, LinearRegression,PoissonRegressor\n",
    "from sklearn.model_selection import cross_validate,cross_val_predict\n",
    "from sklearn.metrics import make_scorer\n",
    "from sklearn.pipeline import Pipeline\n",
    "from sklearn.ensemble import BaggingRegressor, GradientBoostingRegressor, StackingRegressor\n",
    "import lightgbm as lgb"
   ]
  },
  {
   "cell_type": "code",
   "execution_count": 18,
   "id": "73c28921",
   "metadata": {
    "execution": {
     "iopub.execute_input": "2023-05-02T02:23:46.572620Z",
     "iopub.status.busy": "2023-05-02T02:23:46.572298Z",
     "iopub.status.idle": "2023-05-02T02:23:46.577863Z",
     "shell.execute_reply": "2023-05-02T02:23:46.576963Z"
    },
    "papermill": {
     "duration": 0.016206,
     "end_time": "2023-05-02T02:23:46.579931",
     "exception": false,
     "start_time": "2023-05-02T02:23:46.563725",
     "status": "completed"
    },
    "tags": []
   },
   "outputs": [],
   "source": [
    "# Scorer for cross validation\n",
    "smape_ = make_scorer(smape_plus_1,greater_is_better=False)"
   ]
  },
  {
   "cell_type": "markdown",
   "id": "4708507c",
   "metadata": {
    "papermill": {
     "duration": 0.00723,
     "end_time": "2023-05-02T02:23:46.594560",
     "exception": false,
     "start_time": "2023-05-02T02:23:46.587330",
     "status": "completed"
    },
    "tags": []
   },
   "source": [
    "**Using LinearSVR model with groupshufflesplit with 5 splits**"
   ]
  },
  {
   "cell_type": "code",
   "execution_count": 19,
   "id": "46810fa9",
   "metadata": {
    "execution": {
     "iopub.execute_input": "2023-05-02T02:23:46.610795Z",
     "iopub.status.busy": "2023-05-02T02:23:46.610501Z",
     "iopub.status.idle": "2023-05-02T02:23:46.623183Z",
     "shell.execute_reply": "2023-05-02T02:23:46.622100Z"
    },
    "papermill": {
     "duration": 0.023679,
     "end_time": "2023-05-02T02:23:46.625647",
     "exception": false,
     "start_time": "2023-05-02T02:23:46.601968",
     "status": "completed"
    },
    "tags": []
   },
   "outputs": [],
   "source": [
    "def train_linear_model(model_data,feature_cols):\n",
    "    \n",
    "    lgb_params = {  'objective' : 'regression',\n",
    "                   'learning_rate' : 0.01,\n",
    "                   'max_depth' : 3,\n",
    "                   'num_leaves' : 5,\n",
    "                   'min_child_samples':25,\n",
    "                   'reg_alpha' : 25,\n",
    "                   'reg_lambda' : 25,\n",
    "                   'n_estimators' : 100,\n",
    "                   'colsample_bytree' : 0.5,\n",
    "                   'subsample' : 0.5,\n",
    "                     'random_state' : 2023}\n",
    "        \n",
    "    # Scaling the columns using MinMaxscaler\n",
    "#     scaler = MinMaxScaler(feature_range = (0,1))\n",
    "#     scaler.fit(model_data[feature_cols])\n",
    "#     model_data_x = pd.DataFrame(scaler.transform(model_data[feature_cols]),columns = scaler.feature_names_in_)\n",
    "    model_data_x = model_data.copy()\n",
    "    models = {}  \n",
    "    \n",
    "    gkf = GroupKFold(n_splits = 5)\n",
    "    \n",
    "    score_trn = [] ; score_test = []\n",
    "    \n",
    "    for target in target_cols:\n",
    "        \n",
    "        if target.find('updrs_3')>=0:\n",
    "            y =  model_data[target].replace(0,pd.NA).copy()\n",
    "            y =  model_data[target].dropna().copy()\n",
    "        else:\n",
    "            y =  model_data[target].dropna().copy() \n",
    "            \n",
    "        y = y.apply(np.log1p).copy()\n",
    "        \n",
    "        X  = model_data_x.loc[y.index.tolist(), feature_cols]\n",
    "        groups = model_data_x.loc[y.index.tolist(),'patient_id']\n",
    "\n",
    "        model1 = Pipeline([('scaler',RobustScaler()),         \n",
    "                          ('lsvr',LinearSVR(random_state=2023))])\n",
    "        \n",
    "        model2 = Pipeline([('scaler',MinMaxScaler()),         \n",
    "                          ('poisson',PoissonRegressor())])\n",
    "        \n",
    "        model3 = Pipeline([('scaler',RobustScaler()),         \n",
    "                          ('svr_rbf',SVR())])\n",
    "    \n",
    "        model4 = Pipeline([('scaler',StandardScaler()),         \n",
    "                          ('lr',LinearRegression())])\n",
    "        \n",
    "        model5 = lgb.LGBMRegressor(**lgb_params)\n",
    "        \n",
    "       \n",
    "        \n",
    "#         model = StackingRegressor([('lsvr',model1),\n",
    "#                                    ('poisson',model2),\n",
    "#                                    ('svr_rbf',model3),\n",
    "#                                    ('lr',model4),\n",
    "#                                    ('lgb',model5)],\n",
    "                                                \n",
    "#                                   final_estimator= ElasticNet(random_state=42),\n",
    "#                                  passthrough=True\n",
    "#                                  )\n",
    "        \n",
    "        \n",
    "        model = Pipeline([('scaler',RobustScaler()),         \n",
    "                          ('lsvr',LinearSVR(random_state=2023))])\n",
    "        results = cross_validate(model,\n",
    "                                X,\n",
    "                                y,\n",
    "                                groups=groups,\n",
    "                                cv=gkf,\n",
    "                                scoring=smape_,\n",
    "                                return_estimator=True,\n",
    "                                return_train_score=True)\n",
    "        results = pd.DataFrame(results)\n",
    "        score_trn += [results.train_score.abs().mean()]\n",
    "        score_test += [results.test_score.abs().mean()]\n",
    "        print(f'\\nTrain score for {target} : {results.train_score.abs().mean()}')\n",
    "        print(f'Test score for {target} : {results.test_score.abs().mean()}')  \n",
    "        models[target] = results\n",
    "    print('\\nTotal avg train score : ',np.mean(score_trn))\n",
    "    print('Total avg test score : ',np.mean(score_test))\n",
    "    \n",
    "    return models"
   ]
  },
  {
   "cell_type": "code",
   "execution_count": 20,
   "id": "cf23e599",
   "metadata": {
    "execution": {
     "iopub.execute_input": "2023-05-02T02:23:46.641371Z",
     "iopub.status.busy": "2023-05-02T02:23:46.641115Z",
     "iopub.status.idle": "2023-05-02T02:23:47.193662Z",
     "shell.execute_reply": "2023-05-02T02:23:47.191908Z"
    },
    "papermill": {
     "duration": 0.563434,
     "end_time": "2023-05-02T02:23:47.196413",
     "exception": false,
     "start_time": "2023-05-02T02:23:46.632979",
     "status": "completed"
    },
    "tags": []
   },
   "outputs": [
    {
     "name": "stdout",
     "output_type": "stream",
     "text": [
      "\n",
      "Train score for updrs_1 : 22.856787410714617\n",
      "Test score for updrs_1 : 22.873958133835053\n",
      "\n",
      "Train score for updrs_2 : 29.040268768238377\n",
      "Test score for updrs_2 : 29.07196871314842\n",
      "\n",
      "Train score for updrs_3 : 23.59635773692131\n",
      "Test score for updrs_3 : 23.628888555700172\n",
      "\n",
      "Train score for updrs_4 : 17.969345011729928\n",
      "Test score for updrs_4 : 17.96884527469797\n",
      "\n",
      "Total avg train score :  23.365689731901057\n",
      "Total avg test score :  23.385915169345402\n"
     ]
    }
   ],
   "source": [
    "# Training the models\n",
    "models = train_linear_model(model_data,feature_cols)"
   ]
  },
  {
   "cell_type": "code",
   "execution_count": 21,
   "id": "5c7b1ac2",
   "metadata": {
    "execution": {
     "iopub.execute_input": "2023-05-02T02:23:47.213996Z",
     "iopub.status.busy": "2023-05-02T02:23:47.213695Z",
     "iopub.status.idle": "2023-05-02T02:23:47.219333Z",
     "shell.execute_reply": "2023-05-02T02:23:47.218384Z"
    },
    "papermill": {
     "duration": 0.016783,
     "end_time": "2023-05-02T02:23:47.221506",
     "exception": false,
     "start_time": "2023-05-02T02:23:47.204723",
     "status": "completed"
    },
    "tags": []
   },
   "outputs": [],
   "source": [
    "# model_data[['visit_month','updrs_1_median_visit_month','updrs_2_median_visit_month','updrs_3_median_visit_month','updrs_4_median_visit_month']].drop_duplicates()"
   ]
  },
  {
   "cell_type": "code",
   "execution_count": 22,
   "id": "df685e1f",
   "metadata": {
    "execution": {
     "iopub.execute_input": "2023-05-02T02:23:47.238212Z",
     "iopub.status.busy": "2023-05-02T02:23:47.237939Z",
     "iopub.status.idle": "2023-05-02T02:23:47.245997Z",
     "shell.execute_reply": "2023-05-02T02:23:47.245077Z"
    },
    "papermill": {
     "duration": 0.018925,
     "end_time": "2023-05-02T02:23:47.248171",
     "exception": false,
     "start_time": "2023-05-02T02:23:47.229246",
     "status": "completed"
    },
    "tags": []
   },
   "outputs": [],
   "source": [
    "target_meds = model_data[['visit_month','updrs_1_median_visit_month','updrs_2_median_visit_month','updrs_3_median_visit_month','updrs_4_median_visit_month']].drop_duplicates()\n",
    "# target_meds"
   ]
  },
  {
   "cell_type": "code",
   "execution_count": 23,
   "id": "85c8d58c",
   "metadata": {
    "execution": {
     "iopub.execute_input": "2023-05-02T02:23:47.265122Z",
     "iopub.status.busy": "2023-05-02T02:23:47.264313Z",
     "iopub.status.idle": "2023-05-02T02:25:27.457158Z",
     "shell.execute_reply": "2023-05-02T02:25:27.456037Z"
    },
    "papermill": {
     "duration": 100.204023,
     "end_time": "2023-05-02T02:25:27.459899",
     "exception": false,
     "start_time": "2023-05-02T02:23:47.255876",
     "status": "completed"
    },
    "tags": []
   },
   "outputs": [
    {
     "data": {
      "application/vnd.jupyter.widget-view+json": {
       "model_id": "5f97396fe89b43feb62c02586e9c5b2e",
       "version_major": 2,
       "version_minor": 0
      },
      "text/plain": [
       "  0%|          | 0/100 [00:00<?, ?it/s]"
      ]
     },
     "metadata": {},
     "output_type": "display_data"
    }
   ],
   "source": [
    "# Set the total value \n",
    "bar = tqdm(total = 100)\n",
    "# Add description\n",
    "bar.set_description('Progress rate')\n",
    "for i in range(100):\n",
    "    # Set the progress\n",
    "    bar.update(5)\n",
    "    time.sleep(1)"
   ]
  },
  {
   "cell_type": "code",
   "execution_count": 24,
   "id": "844b6319",
   "metadata": {
    "execution": {
     "iopub.execute_input": "2023-05-02T02:25:27.478457Z",
     "iopub.status.busy": "2023-05-02T02:25:27.478149Z",
     "iopub.status.idle": "2023-05-02T02:25:27.497574Z",
     "shell.execute_reply": "2023-05-02T02:25:27.496577Z"
    },
    "papermill": {
     "duration": 0.031347,
     "end_time": "2023-05-02T02:25:27.499611",
     "exception": false,
     "start_time": "2023-05-02T02:25:27.468264",
     "status": "completed"
    },
    "tags": []
   },
   "outputs": [],
   "source": [
    "# Function to make predictions on test \n",
    "def get_predictions(target_data,test,sample_submission,models,target_meds, scaler = None):\n",
    "    \n",
    "    # Creating features\n",
    "    model_data,feature_cols = create_target_features(target_data,test)\n",
    "    \n",
    "    feature_cols = ['visit_month','visit_month_count']\n",
    "\n",
    "    # Making predictions from all the models\n",
    "    pred_submission = pd.DataFrame(index = range(model_data.shape[0]))\n",
    "    \n",
    "    # Scaling the data\n",
    "#     pred_feats = pd.DataFrame(scaler.transform(model_data.drop(columns = ['patient_id','visit_month_orig'])),columns = scaler.feature_names_in_)\n",
    "    pred_feats = model_data[feature_cols].copy()\n",
    "    \n",
    "    for key,value in models.items():    \n",
    "        model_fits = models[key]['estimator'].tolist()\n",
    "        pred_train_temp = pd.DataFrame(np.mean(np.array([np.expm1(mod.predict(pred_feats)) for mod in value['estimator'].tolist()]),axis = 0))\n",
    "        pred_train_temp.columns = [key]\n",
    "        pred_submission = pred_submission.join(pred_train_temp)\n",
    "#     return pred_submission\n",
    "    pred_submission = pred_submission[models.keys()].copy() \n",
    "    model_data['visit_month_temp'] = model_data['visit_month'] - model_data['visit_month_orig']\n",
    "    pred_submission.index = model_data['patient_id'].astype(str) + '_' +model_data['visit_month_orig'].astype(str) + '_'+model_data['visit_month_temp'].apply(lambda x: 'plus_'+str(x) +'_months')\n",
    "\n",
    "#     pred_submission['updrs_4'] = 0\n",
    "#     pred_submission['updrs_3'] += 2\n",
    "#     pred_submission['updrs_2'] += 1.5 \n",
    "\n",
    "    # Calculating medians\n",
    "    ss_visit_months  = sample_submission.prediction_id.apply(lambda x: int(x.split('_')[1])+int(x.split('_')[5])).unique()\n",
    "    missing_vm = list(set(ss_visit_months).difference(target_meds.visit_month.unique()))\n",
    "    missing_vm = pd.DataFrame({'visit_month':missing_vm})\n",
    "    target_meds = target_meds.append(missing_vm,ignore_index=True)\n",
    "    target_meds = target_meds.fillna(method = 'ffill')    \n",
    "    target_meds = target_meds.drop_duplicates()\n",
    "    target_meds['visit_month'] = target_meds['visit_month'].astype(int)\n",
    "    target_meds = target_meds[target_meds['visit_month']!=5].copy()\n",
    "    target_meds = target_meds.set_index('visit_month')\n",
    "    target_meds = target_meds.sort_index()\n",
    "    target_meds = target_meds.expanding().max()\n",
    "    target_meds = target_meds.stack().reset_index().rename(columns = {'level_1':'target',0:'rating'})\n",
    "\n",
    "    target_meds['target'] = target_meds['target'].apply(lambda x: '_'.join(x.split('_')[:2]))\n",
    "    target_meds['key'] = target_meds[['target','visit_month']].apply(lambda x: str(x[0])+'_'+str(x[1]),axis = 1)\n",
    "    target_meds = target_meds.drop(columns = ['target','visit_month']).drop_duplicates().copy()\n",
    "    target_meds = target_meds.set_index('key')\n",
    "    \n",
    "#     return pred_submission    \n",
    "    pred_submission = pred_submission.stack().reset_index().rename(columns = {'level_0':'prediction_id','level_1':'target',0:'rating'})\n",
    "    pred_submission['prediction_id'] = pred_submission[['prediction_id','target']].apply(lambda x: '_'.join(x[0].split('_')[:2] + [x[1]] + x[0].split('_')[2:]) ,axis= 1)\n",
    "    pred_submission.drop(columns = ['target'],inplace= True)\n",
    "#     pred_submission['group_key'] = pred_submission['prediction_id'].apply(lambda x: x.split('_')[1]).astype('str')\n",
    "    pred_submission.reset_index(drop = True,inplace = True)\n",
    "    sample_submission = sample_submission.drop(columns = ['rating']).copy()\n",
    "    sample_submission = sample_submission.merge(pred_submission,on = ['prediction_id'],how = 'left')\n",
    "    sample_submission['rating1'] = sample_submission.prediction_id.apply(lambda x: '_'.join(x.split('_')[2:4]) + '_'+ str(int(x.split('_')[1])+int(x.split('_')[5]))).map(target_meds.rating)\n",
    "    \n",
    "    sample_submission['rating'] = np.where(sample_submission.prediction_id.str.contains('updrs_4|updrs_3'),\n",
    "                                           sample_submission['rating1'],\n",
    "                                           sample_submission['rating']*0.5  +  sample_submission['rating1']*0.5\n",
    "                                          )\n",
    "    \n",
    "    sample_submission = sample_submission.drop(columns = 'rating1')\n",
    "    \n",
    "#     return sample_submission\n",
    "\n",
    "\n",
    "    \n",
    "    # Calculating medians\n",
    "#     temp  = pred_submission.copy()\n",
    "#     temp['target'] = temp.prediction_id.apply(lambda x: '_'.join(x.split('_')[2:]))\n",
    "#     pred_medians = temp.groupby('target')['rating'].median()\n",
    "\n",
    "    sample_submission['rating'] = sample_submission['rating'].abs().fillna(\n",
    "        \n",
    "        sample_submission.prediction_id.apply(lambda x: '_'.join(x.split('_')[2:])).map(target_meds.rating)\n",
    "    \n",
    "    ).fillna(0)\n",
    "    sample_submission['rating'] = sample_submission['rating'].apply(lambda x: np.clip(np.ceil(x),0,None))\n",
    "\n",
    "    return sample_submission"
   ]
  },
  {
   "cell_type": "markdown",
   "id": "32204365",
   "metadata": {
    "papermill": {
     "duration": 0.007905,
     "end_time": "2023-05-02T02:25:27.515209",
     "exception": false,
     "start_time": "2023-05-02T02:25:27.507304",
     "status": "completed"
    },
    "tags": []
   },
   "source": [
    "**Testing the model for sample test data**"
   ]
  },
  {
   "cell_type": "code",
   "execution_count": 25,
   "id": "e495f930",
   "metadata": {
    "execution": {
     "iopub.execute_input": "2023-05-02T02:25:27.532199Z",
     "iopub.status.busy": "2023-05-02T02:25:27.531874Z",
     "iopub.status.idle": "2023-05-02T02:25:27.562055Z",
     "shell.execute_reply": "2023-05-02T02:25:27.561122Z"
    },
    "papermill": {
     "duration": 0.04126,
     "end_time": "2023-05-02T02:25:27.564154",
     "exception": false,
     "start_time": "2023-05-02T02:25:27.522894",
     "status": "completed"
    },
    "tags": []
   },
   "outputs": [],
   "source": [
    "# Reading the test files\n",
    "test_peptides = pd.read_csv('/kaggle/input/amp-parkinsons-disease-progression-prediction/example_test_files/test_peptides.csv') \n",
    "test_proteins = pd.read_csv('/kaggle/input/amp-parkinsons-disease-progression-prediction/example_test_files/test_proteins.csv') \n",
    "sample_submission = pd.read_csv('/kaggle/input/amp-parkinsons-disease-progression-prediction/example_test_files/sample_submission.csv')\n",
    "test = pd.read_csv('/kaggle/input/amp-parkinsons-disease-progression-prediction/example_test_files/test.csv')"
   ]
  },
  {
   "cell_type": "code",
   "execution_count": 26,
   "id": "dd066f23",
   "metadata": {
    "execution": {
     "iopub.execute_input": "2023-05-02T02:25:27.581182Z",
     "iopub.status.busy": "2023-05-02T02:25:27.580910Z",
     "iopub.status.idle": "2023-05-02T02:25:27.887862Z",
     "shell.execute_reply": "2023-05-02T02:25:27.886593Z"
    },
    "papermill": {
     "duration": 0.3182,
     "end_time": "2023-05-02T02:25:27.890428",
     "exception": false,
     "start_time": "2023-05-02T02:25:27.572228",
     "status": "completed"
    },
    "tags": []
   },
   "outputs": [
    {
     "data": {
      "text/html": [
       "<div>\n",
       "<style scoped>\n",
       "    .dataframe tbody tr th:only-of-type {\n",
       "        vertical-align: middle;\n",
       "    }\n",
       "\n",
       "    .dataframe tbody tr th {\n",
       "        vertical-align: top;\n",
       "    }\n",
       "\n",
       "    .dataframe thead th {\n",
       "        text-align: right;\n",
       "    }\n",
       "</style>\n",
       "<table border=\"1\" class=\"dataframe\">\n",
       "  <thead>\n",
       "    <tr style=\"text-align: right;\">\n",
       "      <th></th>\n",
       "      <th>prediction_id</th>\n",
       "      <th>group_key</th>\n",
       "      <th>rating</th>\n",
       "    </tr>\n",
       "  </thead>\n",
       "  <tbody>\n",
       "    <tr>\n",
       "      <th>0</th>\n",
       "      <td>3342_0_updrs_1_plus_0_months</td>\n",
       "      <td>0</td>\n",
       "      <td>6.000</td>\n",
       "    </tr>\n",
       "    <tr>\n",
       "      <th>1</th>\n",
       "      <td>3342_0_updrs_1_plus_6_months</td>\n",
       "      <td>0</td>\n",
       "      <td>5.000</td>\n",
       "    </tr>\n",
       "    <tr>\n",
       "      <th>2</th>\n",
       "      <td>3342_0_updrs_1_plus_12_months</td>\n",
       "      <td>0</td>\n",
       "      <td>6.000</td>\n",
       "    </tr>\n",
       "    <tr>\n",
       "      <th>3</th>\n",
       "      <td>3342_0_updrs_1_plus_24_months</td>\n",
       "      <td>0</td>\n",
       "      <td>6.000</td>\n",
       "    </tr>\n",
       "    <tr>\n",
       "      <th>4</th>\n",
       "      <td>3342_0_updrs_2_plus_0_months</td>\n",
       "      <td>0</td>\n",
       "      <td>5.000</td>\n",
       "    </tr>\n",
       "    <tr>\n",
       "      <th>5</th>\n",
       "      <td>3342_0_updrs_2_plus_6_months</td>\n",
       "      <td>0</td>\n",
       "      <td>6.000</td>\n",
       "    </tr>\n",
       "    <tr>\n",
       "      <th>6</th>\n",
       "      <td>3342_0_updrs_2_plus_12_months</td>\n",
       "      <td>0</td>\n",
       "      <td>6.000</td>\n",
       "    </tr>\n",
       "    <tr>\n",
       "      <th>7</th>\n",
       "      <td>3342_0_updrs_2_plus_24_months</td>\n",
       "      <td>0</td>\n",
       "      <td>6.000</td>\n",
       "    </tr>\n",
       "    <tr>\n",
       "      <th>8</th>\n",
       "      <td>3342_0_updrs_3_plus_0_months</td>\n",
       "      <td>0</td>\n",
       "      <td>18.000</td>\n",
       "    </tr>\n",
       "    <tr>\n",
       "      <th>9</th>\n",
       "      <td>3342_0_updrs_3_plus_6_months</td>\n",
       "      <td>0</td>\n",
       "      <td>21.000</td>\n",
       "    </tr>\n",
       "    <tr>\n",
       "      <th>10</th>\n",
       "      <td>3342_0_updrs_3_plus_12_months</td>\n",
       "      <td>0</td>\n",
       "      <td>21.000</td>\n",
       "    </tr>\n",
       "    <tr>\n",
       "      <th>11</th>\n",
       "      <td>3342_0_updrs_3_plus_24_months</td>\n",
       "      <td>0</td>\n",
       "      <td>21.000</td>\n",
       "    </tr>\n",
       "    <tr>\n",
       "      <th>12</th>\n",
       "      <td>3342_0_updrs_4_plus_0_months</td>\n",
       "      <td>0</td>\n",
       "      <td>0.000</td>\n",
       "    </tr>\n",
       "    <tr>\n",
       "      <th>13</th>\n",
       "      <td>3342_0_updrs_4_plus_6_months</td>\n",
       "      <td>0</td>\n",
       "      <td>0.000</td>\n",
       "    </tr>\n",
       "    <tr>\n",
       "      <th>14</th>\n",
       "      <td>3342_0_updrs_4_plus_12_months</td>\n",
       "      <td>0</td>\n",
       "      <td>0.000</td>\n",
       "    </tr>\n",
       "    <tr>\n",
       "      <th>15</th>\n",
       "      <td>3342_0_updrs_4_plus_24_months</td>\n",
       "      <td>0</td>\n",
       "      <td>0.000</td>\n",
       "    </tr>\n",
       "    <tr>\n",
       "      <th>16</th>\n",
       "      <td>50423_0_updrs_1_plus_0_months</td>\n",
       "      <td>0</td>\n",
       "      <td>6.000</td>\n",
       "    </tr>\n",
       "    <tr>\n",
       "      <th>17</th>\n",
       "      <td>50423_0_updrs_1_plus_6_months</td>\n",
       "      <td>0</td>\n",
       "      <td>5.000</td>\n",
       "    </tr>\n",
       "    <tr>\n",
       "      <th>18</th>\n",
       "      <td>50423_0_updrs_1_plus_12_months</td>\n",
       "      <td>0</td>\n",
       "      <td>6.000</td>\n",
       "    </tr>\n",
       "    <tr>\n",
       "      <th>19</th>\n",
       "      <td>50423_0_updrs_1_plus_24_months</td>\n",
       "      <td>0</td>\n",
       "      <td>6.000</td>\n",
       "    </tr>\n",
       "    <tr>\n",
       "      <th>20</th>\n",
       "      <td>50423_0_updrs_2_plus_0_months</td>\n",
       "      <td>0</td>\n",
       "      <td>5.000</td>\n",
       "    </tr>\n",
       "    <tr>\n",
       "      <th>21</th>\n",
       "      <td>50423_0_updrs_2_plus_6_months</td>\n",
       "      <td>0</td>\n",
       "      <td>6.000</td>\n",
       "    </tr>\n",
       "    <tr>\n",
       "      <th>22</th>\n",
       "      <td>50423_0_updrs_2_plus_12_months</td>\n",
       "      <td>0</td>\n",
       "      <td>6.000</td>\n",
       "    </tr>\n",
       "    <tr>\n",
       "      <th>23</th>\n",
       "      <td>50423_0_updrs_2_plus_24_months</td>\n",
       "      <td>0</td>\n",
       "      <td>6.000</td>\n",
       "    </tr>\n",
       "    <tr>\n",
       "      <th>24</th>\n",
       "      <td>50423_0_updrs_3_plus_0_months</td>\n",
       "      <td>0</td>\n",
       "      <td>18.000</td>\n",
       "    </tr>\n",
       "    <tr>\n",
       "      <th>25</th>\n",
       "      <td>50423_0_updrs_3_plus_6_months</td>\n",
       "      <td>0</td>\n",
       "      <td>21.000</td>\n",
       "    </tr>\n",
       "    <tr>\n",
       "      <th>26</th>\n",
       "      <td>50423_0_updrs_3_plus_12_months</td>\n",
       "      <td>0</td>\n",
       "      <td>21.000</td>\n",
       "    </tr>\n",
       "    <tr>\n",
       "      <th>27</th>\n",
       "      <td>50423_0_updrs_3_plus_24_months</td>\n",
       "      <td>0</td>\n",
       "      <td>21.000</td>\n",
       "    </tr>\n",
       "    <tr>\n",
       "      <th>28</th>\n",
       "      <td>50423_0_updrs_4_plus_0_months</td>\n",
       "      <td>0</td>\n",
       "      <td>0.000</td>\n",
       "    </tr>\n",
       "    <tr>\n",
       "      <th>29</th>\n",
       "      <td>50423_0_updrs_4_plus_6_months</td>\n",
       "      <td>0</td>\n",
       "      <td>0.000</td>\n",
       "    </tr>\n",
       "    <tr>\n",
       "      <th>30</th>\n",
       "      <td>50423_0_updrs_4_plus_12_months</td>\n",
       "      <td>0</td>\n",
       "      <td>0.000</td>\n",
       "    </tr>\n",
       "    <tr>\n",
       "      <th>31</th>\n",
       "      <td>50423_0_updrs_4_plus_24_months</td>\n",
       "      <td>0</td>\n",
       "      <td>0.000</td>\n",
       "    </tr>\n",
       "    <tr>\n",
       "      <th>32</th>\n",
       "      <td>3342_6_updrs_1_plus_0_months</td>\n",
       "      <td>6</td>\n",
       "      <td>5.000</td>\n",
       "    </tr>\n",
       "    <tr>\n",
       "      <th>33</th>\n",
       "      <td>3342_6_updrs_1_plus_6_months</td>\n",
       "      <td>6</td>\n",
       "      <td>6.000</td>\n",
       "    </tr>\n",
       "    <tr>\n",
       "      <th>34</th>\n",
       "      <td>3342_6_updrs_1_plus_12_months</td>\n",
       "      <td>6</td>\n",
       "      <td>6.000</td>\n",
       "    </tr>\n",
       "    <tr>\n",
       "      <th>35</th>\n",
       "      <td>3342_6_updrs_1_plus_24_months</td>\n",
       "      <td>6</td>\n",
       "      <td>6.000</td>\n",
       "    </tr>\n",
       "    <tr>\n",
       "      <th>36</th>\n",
       "      <td>3342_6_updrs_2_plus_0_months</td>\n",
       "      <td>6</td>\n",
       "      <td>6.000</td>\n",
       "    </tr>\n",
       "    <tr>\n",
       "      <th>37</th>\n",
       "      <td>3342_6_updrs_2_plus_6_months</td>\n",
       "      <td>6</td>\n",
       "      <td>6.000</td>\n",
       "    </tr>\n",
       "    <tr>\n",
       "      <th>38</th>\n",
       "      <td>3342_6_updrs_2_plus_12_months</td>\n",
       "      <td>6</td>\n",
       "      <td>6.000</td>\n",
       "    </tr>\n",
       "    <tr>\n",
       "      <th>39</th>\n",
       "      <td>3342_6_updrs_2_plus_24_months</td>\n",
       "      <td>6</td>\n",
       "      <td>6.000</td>\n",
       "    </tr>\n",
       "    <tr>\n",
       "      <th>40</th>\n",
       "      <td>3342_6_updrs_3_plus_0_months</td>\n",
       "      <td>6</td>\n",
       "      <td>21.000</td>\n",
       "    </tr>\n",
       "    <tr>\n",
       "      <th>41</th>\n",
       "      <td>3342_6_updrs_3_plus_6_months</td>\n",
       "      <td>6</td>\n",
       "      <td>21.000</td>\n",
       "    </tr>\n",
       "    <tr>\n",
       "      <th>42</th>\n",
       "      <td>3342_6_updrs_3_plus_12_months</td>\n",
       "      <td>6</td>\n",
       "      <td>21.000</td>\n",
       "    </tr>\n",
       "    <tr>\n",
       "      <th>43</th>\n",
       "      <td>3342_6_updrs_3_plus_24_months</td>\n",
       "      <td>6</td>\n",
       "      <td>22.000</td>\n",
       "    </tr>\n",
       "    <tr>\n",
       "      <th>44</th>\n",
       "      <td>3342_6_updrs_4_plus_0_months</td>\n",
       "      <td>6</td>\n",
       "      <td>0.000</td>\n",
       "    </tr>\n",
       "    <tr>\n",
       "      <th>45</th>\n",
       "      <td>3342_6_updrs_4_plus_6_months</td>\n",
       "      <td>6</td>\n",
       "      <td>0.000</td>\n",
       "    </tr>\n",
       "    <tr>\n",
       "      <th>46</th>\n",
       "      <td>3342_6_updrs_4_plus_12_months</td>\n",
       "      <td>6</td>\n",
       "      <td>0.000</td>\n",
       "    </tr>\n",
       "    <tr>\n",
       "      <th>47</th>\n",
       "      <td>3342_6_updrs_4_plus_24_months</td>\n",
       "      <td>6</td>\n",
       "      <td>0.000</td>\n",
       "    </tr>\n",
       "    <tr>\n",
       "      <th>48</th>\n",
       "      <td>50423_6_updrs_1_plus_0_months</td>\n",
       "      <td>6</td>\n",
       "      <td>5.000</td>\n",
       "    </tr>\n",
       "    <tr>\n",
       "      <th>49</th>\n",
       "      <td>50423_6_updrs_1_plus_6_months</td>\n",
       "      <td>6</td>\n",
       "      <td>6.000</td>\n",
       "    </tr>\n",
       "  </tbody>\n",
       "</table>\n",
       "</div>"
      ],
      "text/plain": [
       "                     prediction_id  group_key  rating\n",
       "0     3342_0_updrs_1_plus_0_months          0   6.000\n",
       "1     3342_0_updrs_1_plus_6_months          0   5.000\n",
       "2    3342_0_updrs_1_plus_12_months          0   6.000\n",
       "3    3342_0_updrs_1_plus_24_months          0   6.000\n",
       "4     3342_0_updrs_2_plus_0_months          0   5.000\n",
       "5     3342_0_updrs_2_plus_6_months          0   6.000\n",
       "6    3342_0_updrs_2_plus_12_months          0   6.000\n",
       "7    3342_0_updrs_2_plus_24_months          0   6.000\n",
       "8     3342_0_updrs_3_plus_0_months          0  18.000\n",
       "9     3342_0_updrs_3_plus_6_months          0  21.000\n",
       "10   3342_0_updrs_3_plus_12_months          0  21.000\n",
       "11   3342_0_updrs_3_plus_24_months          0  21.000\n",
       "12    3342_0_updrs_4_plus_0_months          0   0.000\n",
       "13    3342_0_updrs_4_plus_6_months          0   0.000\n",
       "14   3342_0_updrs_4_plus_12_months          0   0.000\n",
       "15   3342_0_updrs_4_plus_24_months          0   0.000\n",
       "16   50423_0_updrs_1_plus_0_months          0   6.000\n",
       "17   50423_0_updrs_1_plus_6_months          0   5.000\n",
       "18  50423_0_updrs_1_plus_12_months          0   6.000\n",
       "19  50423_0_updrs_1_plus_24_months          0   6.000\n",
       "20   50423_0_updrs_2_plus_0_months          0   5.000\n",
       "21   50423_0_updrs_2_plus_6_months          0   6.000\n",
       "22  50423_0_updrs_2_plus_12_months          0   6.000\n",
       "23  50423_0_updrs_2_plus_24_months          0   6.000\n",
       "24   50423_0_updrs_3_plus_0_months          0  18.000\n",
       "25   50423_0_updrs_3_plus_6_months          0  21.000\n",
       "26  50423_0_updrs_3_plus_12_months          0  21.000\n",
       "27  50423_0_updrs_3_plus_24_months          0  21.000\n",
       "28   50423_0_updrs_4_plus_0_months          0   0.000\n",
       "29   50423_0_updrs_4_plus_6_months          0   0.000\n",
       "30  50423_0_updrs_4_plus_12_months          0   0.000\n",
       "31  50423_0_updrs_4_plus_24_months          0   0.000\n",
       "32    3342_6_updrs_1_plus_0_months          6   5.000\n",
       "33    3342_6_updrs_1_plus_6_months          6   6.000\n",
       "34   3342_6_updrs_1_plus_12_months          6   6.000\n",
       "35   3342_6_updrs_1_plus_24_months          6   6.000\n",
       "36    3342_6_updrs_2_plus_0_months          6   6.000\n",
       "37    3342_6_updrs_2_plus_6_months          6   6.000\n",
       "38   3342_6_updrs_2_plus_12_months          6   6.000\n",
       "39   3342_6_updrs_2_plus_24_months          6   6.000\n",
       "40    3342_6_updrs_3_plus_0_months          6  21.000\n",
       "41    3342_6_updrs_3_plus_6_months          6  21.000\n",
       "42   3342_6_updrs_3_plus_12_months          6  21.000\n",
       "43   3342_6_updrs_3_plus_24_months          6  22.000\n",
       "44    3342_6_updrs_4_plus_0_months          6   0.000\n",
       "45    3342_6_updrs_4_plus_6_months          6   0.000\n",
       "46   3342_6_updrs_4_plus_12_months          6   0.000\n",
       "47   3342_6_updrs_4_plus_24_months          6   0.000\n",
       "48   50423_6_updrs_1_plus_0_months          6   5.000\n",
       "49   50423_6_updrs_1_plus_6_months          6   6.000"
      ]
     },
     "execution_count": 26,
     "metadata": {},
     "output_type": "execute_result"
    }
   ],
   "source": [
    "get_predictions(target_data,test,sample_submission,models,target_meds).head(50)"
   ]
  },
  {
   "cell_type": "code",
   "execution_count": 27,
   "id": "5e76611f",
   "metadata": {
    "execution": {
     "iopub.execute_input": "2023-05-02T02:25:27.910362Z",
     "iopub.status.busy": "2023-05-02T02:25:27.910045Z",
     "iopub.status.idle": "2023-05-02T02:25:27.915851Z",
     "shell.execute_reply": "2023-05-02T02:25:27.914897Z"
    },
    "papermill": {
     "duration": 0.017893,
     "end_time": "2023-05-02T02:25:27.918084",
     "exception": false,
     "start_time": "2023-05-02T02:25:27.900191",
     "status": "completed"
    },
    "tags": []
   },
   "outputs": [],
   "source": [
    "# ss.head(50)"
   ]
  },
  {
   "cell_type": "code",
   "execution_count": 28,
   "id": "60f85d76",
   "metadata": {
    "execution": {
     "iopub.execute_input": "2023-05-02T02:25:27.937212Z",
     "iopub.status.busy": "2023-05-02T02:25:27.936910Z",
     "iopub.status.idle": "2023-05-02T02:25:27.958860Z",
     "shell.execute_reply": "2023-05-02T02:25:27.957929Z"
    },
    "papermill": {
     "duration": 0.034079,
     "end_time": "2023-05-02T02:25:27.961035",
     "exception": false,
     "start_time": "2023-05-02T02:25:27.926956",
     "status": "completed"
    },
    "tags": []
   },
   "outputs": [],
   "source": [
    "import sys\n",
    "sys.path.append('/kaggle/input/amp-parkinsons-disease-progression-prediction/')\n",
    "\n",
    "import amp_pd_peptide\n",
    "amp_pd_peptide.make_env.func_dict['__called__'] = False\n",
    "env = amp_pd_peptide.make_env()\n",
    "\n",
    "iter_test = env.iter_test() \n"
   ]
  },
  {
   "cell_type": "code",
   "execution_count": 29,
   "id": "eb698b37",
   "metadata": {
    "execution": {
     "iopub.execute_input": "2023-05-02T02:25:27.979602Z",
     "iopub.status.busy": "2023-05-02T02:25:27.979291Z",
     "iopub.status.idle": "2023-05-02T02:25:27.984919Z",
     "shell.execute_reply": "2023-05-02T02:25:27.983868Z"
    },
    "papermill": {
     "duration": 0.017548,
     "end_time": "2023-05-02T02:25:27.987145",
     "exception": false,
     "start_time": "2023-05-02T02:25:27.969597",
     "status": "completed"
    },
    "tags": []
   },
   "outputs": [],
   "source": [
    "# Saving test_peptides and test_proteins\n",
    "test_peps= pd.DataFrame()\n",
    "test_pros = pd.DataFrame()\n",
    "test_1 = pd.DataFrame()"
   ]
  },
  {
   "cell_type": "code",
   "execution_count": 30,
   "id": "99ff4901",
   "metadata": {
    "execution": {
     "iopub.execute_input": "2023-05-02T02:25:28.006419Z",
     "iopub.status.busy": "2023-05-02T02:25:28.005619Z",
     "iopub.status.idle": "2023-05-02T02:25:28.604152Z",
     "shell.execute_reply": "2023-05-02T02:25:28.603075Z"
    },
    "papermill": {
     "duration": 0.611153,
     "end_time": "2023-05-02T02:25:28.607174",
     "exception": false,
     "start_time": "2023-05-02T02:25:27.996021",
     "status": "completed"
    },
    "tags": []
   },
   "outputs": [
    {
     "name": "stdout",
     "output_type": "stream",
     "text": [
      "This version of the API is not optimized and should not be used to estimate the runtime of your code on the hidden test set.\n"
     ]
    }
   ],
   "source": [
    "for (test, test_peptides, test_proteins, sample_submission) in iter_test:\n",
    "    \n",
    "#     test_peps = pd.concat([test_peps,test_peptides],axis = 0)\n",
    "#     test_pros = pd.concat([test_pros,test_proteins],axis = 0)\n",
    "    test_1 = pd.concat([test_1,test],axis = 0)\n",
    "    \n",
    "    submission = get_predictions(target_data,test_1,sample_submission,models, target_meds)\n",
    "    submission = submission.drop_duplicates(subset=['prediction_id', 'rating'])\n",
    "    env.predict(submission)"
   ]
  },
  {
   "cell_type": "code",
   "execution_count": 31,
   "id": "d23e6ef1",
   "metadata": {
    "execution": {
     "iopub.execute_input": "2023-05-02T02:25:28.626372Z",
     "iopub.status.busy": "2023-05-02T02:25:28.626070Z",
     "iopub.status.idle": "2023-05-02T02:27:08.819915Z",
     "shell.execute_reply": "2023-05-02T02:27:08.818788Z"
    },
    "papermill": {
     "duration": 100.206503,
     "end_time": "2023-05-02T02:27:08.822715",
     "exception": false,
     "start_time": "2023-05-02T02:25:28.616212",
     "status": "completed"
    },
    "tags": []
   },
   "outputs": [
    {
     "data": {
      "application/vnd.jupyter.widget-view+json": {
       "model_id": "c43ba490a5c54ee188ae0fee09339d47",
       "version_major": 2,
       "version_minor": 0
      },
      "text/plain": [
       "  0%|          | 0/100 [00:00<?, ?it/s]"
      ]
     },
     "metadata": {},
     "output_type": "display_data"
    }
   ],
   "source": [
    "# Set the total value \n",
    "bar = tqdm(total = 100)\n",
    "# Add description\n",
    "bar.set_description('Progress rate')\n",
    "for i in range(100):\n",
    "    # Set the progress\n",
    "    bar.update(5)\n",
    "    time.sleep(1)"
   ]
  }
 ],
 "metadata": {
  "kernelspec": {
   "display_name": "Python 3",
   "language": "python",
   "name": "python3"
  },
  "language_info": {
   "codemirror_mode": {
    "name": "ipython",
    "version": 3
   },
   "file_extension": ".py",
   "mimetype": "text/x-python",
   "name": "python",
   "nbconvert_exporter": "python",
   "pygments_lexer": "ipython3",
   "version": "3.7.12"
  },
  "papermill": {
   "default_parameters": {},
   "duration": 220.815959,
   "end_time": "2023-05-02T02:27:12.182463",
   "environment_variables": {},
   "exception": null,
   "input_path": "__notebook__.ipynb",
   "output_path": "__notebook__.ipynb",
   "parameters": {},
   "start_time": "2023-05-02T02:23:31.366504",
   "version": "2.4.0"
  },
  "widgets": {
   "application/vnd.jupyter.widget-state+json": {
    "state": {
     "0b5a4c50e58b4865a37bfa6932877052": {
      "model_module": "@jupyter-widgets/controls",
      "model_module_version": "1.5.0",
      "model_name": "DescriptionStyleModel",
      "state": {
       "_model_module": "@jupyter-widgets/controls",
       "_model_module_version": "1.5.0",
       "_model_name": "DescriptionStyleModel",
       "_view_count": null,
       "_view_module": "@jupyter-widgets/base",
       "_view_module_version": "1.2.0",
       "_view_name": "StyleView",
       "description_width": ""
      }
     },
     "1a7ccbe3c07547a8b52a12ab77b153f0": {
      "model_module": "@jupyter-widgets/controls",
      "model_module_version": "1.5.0",
      "model_name": "ProgressStyleModel",
      "state": {
       "_model_module": "@jupyter-widgets/controls",
       "_model_module_version": "1.5.0",
       "_model_name": "ProgressStyleModel",
       "_view_count": null,
       "_view_module": "@jupyter-widgets/base",
       "_view_module_version": "1.2.0",
       "_view_name": "StyleView",
       "bar_color": null,
       "description_width": ""
      }
     },
     "25f21bafb2b54d74a4d83d771cba395b": {
      "model_module": "@jupyter-widgets/base",
      "model_module_version": "1.2.0",
      "model_name": "LayoutModel",
      "state": {
       "_model_module": "@jupyter-widgets/base",
       "_model_module_version": "1.2.0",
       "_model_name": "LayoutModel",
       "_view_count": null,
       "_view_module": "@jupyter-widgets/base",
       "_view_module_version": "1.2.0",
       "_view_name": "LayoutView",
       "align_content": null,
       "align_items": null,
       "align_self": null,
       "border": null,
       "bottom": null,
       "display": null,
       "flex": null,
       "flex_flow": null,
       "grid_area": null,
       "grid_auto_columns": null,
       "grid_auto_flow": null,
       "grid_auto_rows": null,
       "grid_column": null,
       "grid_gap": null,
       "grid_row": null,
       "grid_template_areas": null,
       "grid_template_columns": null,
       "grid_template_rows": null,
       "height": null,
       "justify_content": null,
       "justify_items": null,
       "left": null,
       "margin": null,
       "max_height": null,
       "max_width": null,
       "min_height": null,
       "min_width": null,
       "object_fit": null,
       "object_position": null,
       "order": null,
       "overflow": null,
       "overflow_x": null,
       "overflow_y": null,
       "padding": null,
       "right": null,
       "top": null,
       "visibility": null,
       "width": null
      }
     },
     "38ffcb5ae8b24cba89167ff2d86a0bb0": {
      "model_module": "@jupyter-widgets/base",
      "model_module_version": "1.2.0",
      "model_name": "LayoutModel",
      "state": {
       "_model_module": "@jupyter-widgets/base",
       "_model_module_version": "1.2.0",
       "_model_name": "LayoutModel",
       "_view_count": null,
       "_view_module": "@jupyter-widgets/base",
       "_view_module_version": "1.2.0",
       "_view_name": "LayoutView",
       "align_content": null,
       "align_items": null,
       "align_self": null,
       "border": null,
       "bottom": null,
       "display": null,
       "flex": null,
       "flex_flow": null,
       "grid_area": null,
       "grid_auto_columns": null,
       "grid_auto_flow": null,
       "grid_auto_rows": null,
       "grid_column": null,
       "grid_gap": null,
       "grid_row": null,
       "grid_template_areas": null,
       "grid_template_columns": null,
       "grid_template_rows": null,
       "height": null,
       "justify_content": null,
       "justify_items": null,
       "left": null,
       "margin": null,
       "max_height": null,
       "max_width": null,
       "min_height": null,
       "min_width": null,
       "object_fit": null,
       "object_position": null,
       "order": null,
       "overflow": null,
       "overflow_x": null,
       "overflow_y": null,
       "padding": null,
       "right": null,
       "top": null,
       "visibility": null,
       "width": null
      }
     },
     "3fd91da456fb492b9e9ff488836da0ab": {
      "model_module": "@jupyter-widgets/controls",
      "model_module_version": "1.5.0",
      "model_name": "DescriptionStyleModel",
      "state": {
       "_model_module": "@jupyter-widgets/controls",
       "_model_module_version": "1.5.0",
       "_model_name": "DescriptionStyleModel",
       "_view_count": null,
       "_view_module": "@jupyter-widgets/base",
       "_view_module_version": "1.2.0",
       "_view_name": "StyleView",
       "description_width": ""
      }
     },
     "4237b66342bc417d88aa975fcdf37ce7": {
      "model_module": "@jupyter-widgets/controls",
      "model_module_version": "1.5.0",
      "model_name": "FloatProgressModel",
      "state": {
       "_dom_classes": [],
       "_model_module": "@jupyter-widgets/controls",
       "_model_module_version": "1.5.0",
       "_model_name": "FloatProgressModel",
       "_view_count": null,
       "_view_module": "@jupyter-widgets/controls",
       "_view_module_version": "1.5.0",
       "_view_name": "ProgressView",
       "bar_style": "",
       "description": "",
       "description_tooltip": null,
       "layout": "IPY_MODEL_b26fd738cf94419eb0e0c8dc7f7a0c7b",
       "max": 100.0,
       "min": 0.0,
       "orientation": "horizontal",
       "style": "IPY_MODEL_1a7ccbe3c07547a8b52a12ab77b153f0",
       "value": 100.0
      }
     },
     "4689e7f5ab8c4264bfe736892aafa51b": {
      "model_module": "@jupyter-widgets/controls",
      "model_module_version": "1.5.0",
      "model_name": "DescriptionStyleModel",
      "state": {
       "_model_module": "@jupyter-widgets/controls",
       "_model_module_version": "1.5.0",
       "_model_name": "DescriptionStyleModel",
       "_view_count": null,
       "_view_module": "@jupyter-widgets/base",
       "_view_module_version": "1.2.0",
       "_view_name": "StyleView",
       "description_width": ""
      }
     },
     "5f97396fe89b43feb62c02586e9c5b2e": {
      "model_module": "@jupyter-widgets/controls",
      "model_module_version": "1.5.0",
      "model_name": "HBoxModel",
      "state": {
       "_dom_classes": [],
       "_model_module": "@jupyter-widgets/controls",
       "_model_module_version": "1.5.0",
       "_model_name": "HBoxModel",
       "_view_count": null,
       "_view_module": "@jupyter-widgets/controls",
       "_view_module_version": "1.5.0",
       "_view_name": "HBoxView",
       "box_style": "",
       "children": [
        "IPY_MODEL_e022920fd3bd40b7b9ef1f4a6b4af87f",
        "IPY_MODEL_4237b66342bc417d88aa975fcdf37ce7",
        "IPY_MODEL_6a3415d305e84f9a946deeb9d237f41e"
       ],
       "layout": "IPY_MODEL_cdfd4f1231b149699be324b73be3cb01"
      }
     },
     "6846595128ee49ed88beafcc1553e558": {
      "model_module": "@jupyter-widgets/base",
      "model_module_version": "1.2.0",
      "model_name": "LayoutModel",
      "state": {
       "_model_module": "@jupyter-widgets/base",
       "_model_module_version": "1.2.0",
       "_model_name": "LayoutModel",
       "_view_count": null,
       "_view_module": "@jupyter-widgets/base",
       "_view_module_version": "1.2.0",
       "_view_name": "LayoutView",
       "align_content": null,
       "align_items": null,
       "align_self": null,
       "border": null,
       "bottom": null,
       "display": null,
       "flex": null,
       "flex_flow": null,
       "grid_area": null,
       "grid_auto_columns": null,
       "grid_auto_flow": null,
       "grid_auto_rows": null,
       "grid_column": null,
       "grid_gap": null,
       "grid_row": null,
       "grid_template_areas": null,
       "grid_template_columns": null,
       "grid_template_rows": null,
       "height": null,
       "justify_content": null,
       "justify_items": null,
       "left": null,
       "margin": null,
       "max_height": null,
       "max_width": null,
       "min_height": null,
       "min_width": null,
       "object_fit": null,
       "object_position": null,
       "order": null,
       "overflow": null,
       "overflow_x": null,
       "overflow_y": null,
       "padding": null,
       "right": null,
       "top": null,
       "visibility": null,
       "width": null
      }
     },
     "6a3415d305e84f9a946deeb9d237f41e": {
      "model_module": "@jupyter-widgets/controls",
      "model_module_version": "1.5.0",
      "model_name": "HTMLModel",
      "state": {
       "_dom_classes": [],
       "_model_module": "@jupyter-widgets/controls",
       "_model_module_version": "1.5.0",
       "_model_name": "HTMLModel",
       "_view_count": null,
       "_view_module": "@jupyter-widgets/controls",
       "_view_module_version": "1.5.0",
       "_view_name": "HTMLView",
       "description": "",
       "description_tooltip": null,
       "layout": "IPY_MODEL_7ae0337e7a5e4695ae2789e61e85321d",
       "placeholder": "​",
       "style": "IPY_MODEL_0b5a4c50e58b4865a37bfa6932877052",
       "value": " 500/? [01:39&lt;00:00,  4.99it/s]"
      }
     },
     "6c4fe845df9f4342aa1b4f1c1e9bb34e": {
      "model_module": "@jupyter-widgets/controls",
      "model_module_version": "1.5.0",
      "model_name": "FloatProgressModel",
      "state": {
       "_dom_classes": [],
       "_model_module": "@jupyter-widgets/controls",
       "_model_module_version": "1.5.0",
       "_model_name": "FloatProgressModel",
       "_view_count": null,
       "_view_module": "@jupyter-widgets/controls",
       "_view_module_version": "1.5.0",
       "_view_name": "ProgressView",
       "bar_style": "",
       "description": "",
       "description_tooltip": null,
       "layout": "IPY_MODEL_fa97488706ae4840ab799068fbaa9b32",
       "max": 100.0,
       "min": 0.0,
       "orientation": "horizontal",
       "style": "IPY_MODEL_7f0920b75f0c4cc1993cb2153a7108ea",
       "value": 100.0
      }
     },
     "7ae0337e7a5e4695ae2789e61e85321d": {
      "model_module": "@jupyter-widgets/base",
      "model_module_version": "1.2.0",
      "model_name": "LayoutModel",
      "state": {
       "_model_module": "@jupyter-widgets/base",
       "_model_module_version": "1.2.0",
       "_model_name": "LayoutModel",
       "_view_count": null,
       "_view_module": "@jupyter-widgets/base",
       "_view_module_version": "1.2.0",
       "_view_name": "LayoutView",
       "align_content": null,
       "align_items": null,
       "align_self": null,
       "border": null,
       "bottom": null,
       "display": null,
       "flex": null,
       "flex_flow": null,
       "grid_area": null,
       "grid_auto_columns": null,
       "grid_auto_flow": null,
       "grid_auto_rows": null,
       "grid_column": null,
       "grid_gap": null,
       "grid_row": null,
       "grid_template_areas": null,
       "grid_template_columns": null,
       "grid_template_rows": null,
       "height": null,
       "justify_content": null,
       "justify_items": null,
       "left": null,
       "margin": null,
       "max_height": null,
       "max_width": null,
       "min_height": null,
       "min_width": null,
       "object_fit": null,
       "object_position": null,
       "order": null,
       "overflow": null,
       "overflow_x": null,
       "overflow_y": null,
       "padding": null,
       "right": null,
       "top": null,
       "visibility": null,
       "width": null
      }
     },
     "7f0920b75f0c4cc1993cb2153a7108ea": {
      "model_module": "@jupyter-widgets/controls",
      "model_module_version": "1.5.0",
      "model_name": "ProgressStyleModel",
      "state": {
       "_model_module": "@jupyter-widgets/controls",
       "_model_module_version": "1.5.0",
       "_model_name": "ProgressStyleModel",
       "_view_count": null,
       "_view_module": "@jupyter-widgets/base",
       "_view_module_version": "1.2.0",
       "_view_name": "StyleView",
       "bar_color": null,
       "description_width": ""
      }
     },
     "8c65adfd903341cfac698260c270830a": {
      "model_module": "@jupyter-widgets/controls",
      "model_module_version": "1.5.0",
      "model_name": "DescriptionStyleModel",
      "state": {
       "_model_module": "@jupyter-widgets/controls",
       "_model_module_version": "1.5.0",
       "_model_name": "DescriptionStyleModel",
       "_view_count": null,
       "_view_module": "@jupyter-widgets/base",
       "_view_module_version": "1.2.0",
       "_view_name": "StyleView",
       "description_width": ""
      }
     },
     "ab71143c7af84108856af2bb45889ab2": {
      "model_module": "@jupyter-widgets/controls",
      "model_module_version": "1.5.0",
      "model_name": "HTMLModel",
      "state": {
       "_dom_classes": [],
       "_model_module": "@jupyter-widgets/controls",
       "_model_module_version": "1.5.0",
       "_model_name": "HTMLModel",
       "_view_count": null,
       "_view_module": "@jupyter-widgets/controls",
       "_view_module_version": "1.5.0",
       "_view_name": "HTMLView",
       "description": "",
       "description_tooltip": null,
       "layout": "IPY_MODEL_ef1504cbc1da4bd78ee55199384d40c3",
       "placeholder": "​",
       "style": "IPY_MODEL_4689e7f5ab8c4264bfe736892aafa51b",
       "value": " 500/? [01:39&lt;00:00,  4.99it/s]"
      }
     },
     "b26fd738cf94419eb0e0c8dc7f7a0c7b": {
      "model_module": "@jupyter-widgets/base",
      "model_module_version": "1.2.0",
      "model_name": "LayoutModel",
      "state": {
       "_model_module": "@jupyter-widgets/base",
       "_model_module_version": "1.2.0",
       "_model_name": "LayoutModel",
       "_view_count": null,
       "_view_module": "@jupyter-widgets/base",
       "_view_module_version": "1.2.0",
       "_view_name": "LayoutView",
       "align_content": null,
       "align_items": null,
       "align_self": null,
       "border": null,
       "bottom": null,
       "display": null,
       "flex": null,
       "flex_flow": null,
       "grid_area": null,
       "grid_auto_columns": null,
       "grid_auto_flow": null,
       "grid_auto_rows": null,
       "grid_column": null,
       "grid_gap": null,
       "grid_row": null,
       "grid_template_areas": null,
       "grid_template_columns": null,
       "grid_template_rows": null,
       "height": null,
       "justify_content": null,
       "justify_items": null,
       "left": null,
       "margin": null,
       "max_height": null,
       "max_width": null,
       "min_height": null,
       "min_width": null,
       "object_fit": null,
       "object_position": null,
       "order": null,
       "overflow": null,
       "overflow_x": null,
       "overflow_y": null,
       "padding": null,
       "right": null,
       "top": null,
       "visibility": null,
       "width": null
      }
     },
     "c43ba490a5c54ee188ae0fee09339d47": {
      "model_module": "@jupyter-widgets/controls",
      "model_module_version": "1.5.0",
      "model_name": "HBoxModel",
      "state": {
       "_dom_classes": [],
       "_model_module": "@jupyter-widgets/controls",
       "_model_module_version": "1.5.0",
       "_model_name": "HBoxModel",
       "_view_count": null,
       "_view_module": "@jupyter-widgets/controls",
       "_view_module_version": "1.5.0",
       "_view_name": "HBoxView",
       "box_style": "",
       "children": [
        "IPY_MODEL_fb20ef495e354c688bab7be26dd0f10a",
        "IPY_MODEL_6c4fe845df9f4342aa1b4f1c1e9bb34e",
        "IPY_MODEL_ab71143c7af84108856af2bb45889ab2"
       ],
       "layout": "IPY_MODEL_6846595128ee49ed88beafcc1553e558"
      }
     },
     "cdfd4f1231b149699be324b73be3cb01": {
      "model_module": "@jupyter-widgets/base",
      "model_module_version": "1.2.0",
      "model_name": "LayoutModel",
      "state": {
       "_model_module": "@jupyter-widgets/base",
       "_model_module_version": "1.2.0",
       "_model_name": "LayoutModel",
       "_view_count": null,
       "_view_module": "@jupyter-widgets/base",
       "_view_module_version": "1.2.0",
       "_view_name": "LayoutView",
       "align_content": null,
       "align_items": null,
       "align_self": null,
       "border": null,
       "bottom": null,
       "display": null,
       "flex": null,
       "flex_flow": null,
       "grid_area": null,
       "grid_auto_columns": null,
       "grid_auto_flow": null,
       "grid_auto_rows": null,
       "grid_column": null,
       "grid_gap": null,
       "grid_row": null,
       "grid_template_areas": null,
       "grid_template_columns": null,
       "grid_template_rows": null,
       "height": null,
       "justify_content": null,
       "justify_items": null,
       "left": null,
       "margin": null,
       "max_height": null,
       "max_width": null,
       "min_height": null,
       "min_width": null,
       "object_fit": null,
       "object_position": null,
       "order": null,
       "overflow": null,
       "overflow_x": null,
       "overflow_y": null,
       "padding": null,
       "right": null,
       "top": null,
       "visibility": null,
       "width": null
      }
     },
     "e022920fd3bd40b7b9ef1f4a6b4af87f": {
      "model_module": "@jupyter-widgets/controls",
      "model_module_version": "1.5.0",
      "model_name": "HTMLModel",
      "state": {
       "_dom_classes": [],
       "_model_module": "@jupyter-widgets/controls",
       "_model_module_version": "1.5.0",
       "_model_name": "HTMLModel",
       "_view_count": null,
       "_view_module": "@jupyter-widgets/controls",
       "_view_module_version": "1.5.0",
       "_view_name": "HTMLView",
       "description": "",
       "description_tooltip": null,
       "layout": "IPY_MODEL_25f21bafb2b54d74a4d83d771cba395b",
       "placeholder": "​",
       "style": "IPY_MODEL_8c65adfd903341cfac698260c270830a",
       "value": "Progress rate: "
      }
     },
     "ef1504cbc1da4bd78ee55199384d40c3": {
      "model_module": "@jupyter-widgets/base",
      "model_module_version": "1.2.0",
      "model_name": "LayoutModel",
      "state": {
       "_model_module": "@jupyter-widgets/base",
       "_model_module_version": "1.2.0",
       "_model_name": "LayoutModel",
       "_view_count": null,
       "_view_module": "@jupyter-widgets/base",
       "_view_module_version": "1.2.0",
       "_view_name": "LayoutView",
       "align_content": null,
       "align_items": null,
       "align_self": null,
       "border": null,
       "bottom": null,
       "display": null,
       "flex": null,
       "flex_flow": null,
       "grid_area": null,
       "grid_auto_columns": null,
       "grid_auto_flow": null,
       "grid_auto_rows": null,
       "grid_column": null,
       "grid_gap": null,
       "grid_row": null,
       "grid_template_areas": null,
       "grid_template_columns": null,
       "grid_template_rows": null,
       "height": null,
       "justify_content": null,
       "justify_items": null,
       "left": null,
       "margin": null,
       "max_height": null,
       "max_width": null,
       "min_height": null,
       "min_width": null,
       "object_fit": null,
       "object_position": null,
       "order": null,
       "overflow": null,
       "overflow_x": null,
       "overflow_y": null,
       "padding": null,
       "right": null,
       "top": null,
       "visibility": null,
       "width": null
      }
     },
     "fa97488706ae4840ab799068fbaa9b32": {
      "model_module": "@jupyter-widgets/base",
      "model_module_version": "1.2.0",
      "model_name": "LayoutModel",
      "state": {
       "_model_module": "@jupyter-widgets/base",
       "_model_module_version": "1.2.0",
       "_model_name": "LayoutModel",
       "_view_count": null,
       "_view_module": "@jupyter-widgets/base",
       "_view_module_version": "1.2.0",
       "_view_name": "LayoutView",
       "align_content": null,
       "align_items": null,
       "align_self": null,
       "border": null,
       "bottom": null,
       "display": null,
       "flex": null,
       "flex_flow": null,
       "grid_area": null,
       "grid_auto_columns": null,
       "grid_auto_flow": null,
       "grid_auto_rows": null,
       "grid_column": null,
       "grid_gap": null,
       "grid_row": null,
       "grid_template_areas": null,
       "grid_template_columns": null,
       "grid_template_rows": null,
       "height": null,
       "justify_content": null,
       "justify_items": null,
       "left": null,
       "margin": null,
       "max_height": null,
       "max_width": null,
       "min_height": null,
       "min_width": null,
       "object_fit": null,
       "object_position": null,
       "order": null,
       "overflow": null,
       "overflow_x": null,
       "overflow_y": null,
       "padding": null,
       "right": null,
       "top": null,
       "visibility": null,
       "width": null
      }
     },
     "fb20ef495e354c688bab7be26dd0f10a": {
      "model_module": "@jupyter-widgets/controls",
      "model_module_version": "1.5.0",
      "model_name": "HTMLModel",
      "state": {
       "_dom_classes": [],
       "_model_module": "@jupyter-widgets/controls",
       "_model_module_version": "1.5.0",
       "_model_name": "HTMLModel",
       "_view_count": null,
       "_view_module": "@jupyter-widgets/controls",
       "_view_module_version": "1.5.0",
       "_view_name": "HTMLView",
       "description": "",
       "description_tooltip": null,
       "layout": "IPY_MODEL_38ffcb5ae8b24cba89167ff2d86a0bb0",
       "placeholder": "​",
       "style": "IPY_MODEL_3fd91da456fb492b9e9ff488836da0ab",
       "value": "Progress rate: "
      }
     }
    },
    "version_major": 2,
    "version_minor": 0
   }
  }
 },
 "nbformat": 4,
 "nbformat_minor": 5
}
