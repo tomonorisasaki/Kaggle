{
 "cells": [
  {
   "cell_type": "code",
   "execution_count": 1,
   "id": "f572ff18",
   "metadata": {
    "_cell_guid": "b1076dfc-b9ad-4769-8c92-a6c4dae69d19",
    "_uuid": "8f2839f25d086af736a60e9eeb907d3b93b6e0e5",
    "execution": {
     "iopub.execute_input": "2023-05-02T01:45:20.878757Z",
     "iopub.status.busy": "2023-05-02T01:45:20.877616Z",
     "iopub.status.idle": "2023-05-02T01:45:20.896503Z",
     "shell.execute_reply": "2023-05-02T01:45:20.895073Z"
    },
    "papermill": {
     "duration": 0.032355,
     "end_time": "2023-05-02T01:45:20.898892",
     "exception": false,
     "start_time": "2023-05-02T01:45:20.866537",
     "status": "completed"
    },
    "tags": []
   },
   "outputs": [
    {
     "name": "stdout",
     "output_type": "stream",
     "text": [
      "/kaggle/input/amp-parkinsons-disease-progression-prediction/train_proteins.csv\n",
      "/kaggle/input/amp-parkinsons-disease-progression-prediction/train_clinical_data.csv\n",
      "/kaggle/input/amp-parkinsons-disease-progression-prediction/public_timeseries_testing_util.py\n",
      "/kaggle/input/amp-parkinsons-disease-progression-prediction/supplemental_clinical_data.csv\n",
      "/kaggle/input/amp-parkinsons-disease-progression-prediction/train_peptides.csv\n",
      "/kaggle/input/amp-parkinsons-disease-progression-prediction/amp_pd_peptide/competition.cpython-37m-x86_64-linux-gnu.so\n",
      "/kaggle/input/amp-parkinsons-disease-progression-prediction/amp_pd_peptide/__init__.py\n",
      "/kaggle/input/amp-parkinsons-disease-progression-prediction/example_test_files/sample_submission.csv\n",
      "/kaggle/input/amp-parkinsons-disease-progression-prediction/example_test_files/test_proteins.csv\n",
      "/kaggle/input/amp-parkinsons-disease-progression-prediction/example_test_files/test_peptides.csv\n",
      "/kaggle/input/amp-parkinsons-disease-progression-prediction/example_test_files/test.csv\n"
     ]
    }
   ],
   "source": [
    "# This Python 3 environment comes with many helpful analytics libraries installed\n",
    "# It is defined by the kaggle/python Docker image: https://github.com/kaggle/docker-python\n",
    "# For example, here's several helpful packages to load\n",
    "\n",
    "import numpy as np # linear algebra\n",
    "import pandas as pd # data processing, CSV file I/O (e.g. pd.read_csv)\n",
    "\n",
    "# Input data files are available in the read-only \"../input/\" directory\n",
    "# For example, running this (by clicking run or pressing Shift+Enter) will list all files under the input directory\n",
    "\n",
    "import os\n",
    "for dirname, _, filenames in os.walk('/kaggle/input'):\n",
    "    for filename in filenames:\n",
    "        print(os.path.join(dirname, filename))\n",
    "\n",
    "# You can write up to 20GB to the current directory (/kaggle/working/) that gets preserved as output when you create a version using \"Save & Run All\" \n",
    "# You can also write temporary files to /kaggle/temp/, but they won't be saved outside of the current session"
   ]
  },
  {
   "cell_type": "code",
   "execution_count": 2,
   "id": "7e81a2d6",
   "metadata": {
    "execution": {
     "iopub.execute_input": "2023-05-02T01:45:20.918041Z",
     "iopub.status.busy": "2023-05-02T01:45:20.917065Z",
     "iopub.status.idle": "2023-05-02T01:45:24.918114Z",
     "shell.execute_reply": "2023-05-02T01:45:24.917014Z"
    },
    "papermill": {
     "duration": 4.013449,
     "end_time": "2023-05-02T01:45:24.920995",
     "exception": false,
     "start_time": "2023-05-02T01:45:20.907546",
     "status": "completed"
    },
    "tags": []
   },
   "outputs": [
    {
     "data": {
      "text/html": [
       "<style type='text/css'>\n",
       ".datatable table.frame { margin-bottom: 0; }\n",
       ".datatable table.frame thead { border-bottom: none; }\n",
       ".datatable table.frame tr.coltypes td {  color: #FFFFFF;  line-height: 6px;  padding: 0 0.5em;}\n",
       ".datatable .bool    { background: #DDDD99; }\n",
       ".datatable .object  { background: #565656; }\n",
       ".datatable .int     { background: #5D9E5D; }\n",
       ".datatable .float   { background: #4040CC; }\n",
       ".datatable .str     { background: #CC4040; }\n",
       ".datatable .time    { background: #40CC40; }\n",
       ".datatable .row_index {  background: var(--jp-border-color3);  border-right: 1px solid var(--jp-border-color0);  color: var(--jp-ui-font-color3);  font-size: 9px;}\n",
       ".datatable .frame tbody td { text-align: left; }\n",
       ".datatable .frame tr.coltypes .row_index {  background: var(--jp-border-color0);}\n",
       ".datatable th:nth-child(2) { padding-left: 12px; }\n",
       ".datatable .hellipsis {  color: var(--jp-cell-editor-border-color);}\n",
       ".datatable .vellipsis {  background: var(--jp-layout-color0);  color: var(--jp-cell-editor-border-color);}\n",
       ".datatable .na {  color: var(--jp-cell-editor-border-color);  font-size: 80%;}\n",
       ".datatable .sp {  opacity: 0.25;}\n",
       ".datatable .footer { font-size: 9px; }\n",
       ".datatable .frame_dimensions {  background: var(--jp-border-color3);  border-top: 1px solid var(--jp-border-color0);  color: var(--jp-ui-font-color3);  display: inline-block;  opacity: 0.6;  padding: 1px 10px 1px 5px;}\n",
       "</style>\n"
      ],
      "text/plain": [
       "<IPython.core.display.HTML object>"
      ]
     },
     "metadata": {},
     "output_type": "display_data"
    }
   ],
   "source": [
    "# Loading libraries\n",
    "import numpy as np\n",
    "import pandas as pd\n",
    "import matplotlib.pyplot as plt\n",
    "import seaborn as sns\n",
    "import lightgbm as lgb\n",
    "import tqdm\n",
    "import time\n",
    "import re\n",
    "from itertools import product\n",
    "from functools import reduce\n",
    "\n",
    "from sklearn.model_selection import KFold\n",
    "\n",
    "from tqdm import tqdm\n",
    "from tqdm.notebook import tqdm\n",
    "\n",
    "import warnings\n",
    "warnings.filterwarnings(\"ignore\", category=UserWarning)\n",
    "warnings.filterwarnings(\"ignore\", category=DeprecationWarning)\n",
    "warnings.filterwarnings(\"ignore\", category=FutureWarning)\n",
    "\n",
    "pd.set_option('display.float_format',lambda x: '%.3f' % x)"
   ]
  },
  {
   "cell_type": "code",
   "execution_count": 3,
   "id": "8b2a4be8",
   "metadata": {
    "execution": {
     "iopub.execute_input": "2023-05-02T01:45:24.940519Z",
     "iopub.status.busy": "2023-05-02T01:45:24.940135Z",
     "iopub.status.idle": "2023-05-02T01:45:26.390726Z",
     "shell.execute_reply": "2023-05-02T01:45:26.389422Z"
    },
    "papermill": {
     "duration": 1.464507,
     "end_time": "2023-05-02T01:45:26.394516",
     "exception": false,
     "start_time": "2023-05-02T01:45:24.930009",
     "status": "completed"
    },
    "tags": []
   },
   "outputs": [
    {
     "data": {
      "text/plain": [
       "((232741, 5), (981834, 6), (2615, 8))"
      ]
     },
     "execution_count": 3,
     "metadata": {},
     "output_type": "execute_result"
    }
   ],
   "source": [
    "# Reading the datasets\n",
    "protein_data = pd.read_csv('/kaggle/input/amp-parkinsons-disease-progression-prediction/train_proteins.csv')\n",
    "peptides_data = pd.read_csv('/kaggle/input/amp-parkinsons-disease-progression-prediction/train_peptides.csv')\n",
    "target_data = pd.read_csv('/kaggle/input/amp-parkinsons-disease-progression-prediction/train_clinical_data.csv')\n",
    "sup_target_data = pd.read_csv('/kaggle/input/amp-parkinsons-disease-progression-prediction/supplemental_clinical_data.csv')\n",
    "protein_data.shape, peptides_data.shape, target_data.shape"
   ]
  },
  {
   "cell_type": "code",
   "execution_count": 4,
   "id": "748a1896",
   "metadata": {
    "execution": {
     "iopub.execute_input": "2023-05-02T01:45:26.416538Z",
     "iopub.status.busy": "2023-05-02T01:45:26.416142Z",
     "iopub.status.idle": "2023-05-02T01:45:26.442679Z",
     "shell.execute_reply": "2023-05-02T01:45:26.441408Z"
    },
    "papermill": {
     "duration": 0.040993,
     "end_time": "2023-05-02T01:45:26.445698",
     "exception": false,
     "start_time": "2023-05-02T01:45:26.404705",
     "status": "completed"
    },
    "tags": []
   },
   "outputs": [
    {
     "data": {
      "text/plain": [
       "((4720, 8), 4720, 1019, 17)"
      ]
     },
     "execution_count": 4,
     "metadata": {},
     "output_type": "execute_result"
    }
   ],
   "source": [
    "# Merging target data and sup_target_data since we will be using only clinical data for modelling\n",
    "target_data = pd.concat([target_data,sup_target_data],axis = 0).reset_index(drop = True)\n",
    "target_data = target_data[target_data.visit_month != 5].copy()\n",
    "\n",
    "target_data.shape, target_data.visit_id.nunique(), target_data.patient_id.nunique(), target_data.visit_month.nunique()"
   ]
  },
  {
   "cell_type": "markdown",
   "id": "4f8cc929",
   "metadata": {
    "papermill": {
     "duration": 0.008998,
     "end_time": "2023-05-02T01:45:26.464140",
     "exception": false,
     "start_time": "2023-05-02T01:45:26.455142",
     "status": "completed"
    },
    "tags": []
   },
   "source": [
    "We have data for 1019 patients with max 18 visits "
   ]
  },
  {
   "cell_type": "code",
   "execution_count": 5,
   "id": "4b34be29",
   "metadata": {
    "execution": {
     "iopub.execute_input": "2023-05-02T01:45:26.484470Z",
     "iopub.status.busy": "2023-05-02T01:45:26.484054Z",
     "iopub.status.idle": "2023-05-02T01:45:26.491226Z",
     "shell.execute_reply": "2023-05-02T01:45:26.490046Z"
    },
    "papermill": {
     "duration": 0.020272,
     "end_time": "2023-05-02T01:45:26.493724",
     "exception": false,
     "start_time": "2023-05-02T01:45:26.473452",
     "status": "completed"
    },
    "tags": []
   },
   "outputs": [],
   "source": [
    "# Filling misssing values in upd23b_clinical_state_on_medication by unknown\n",
    "target_data.upd23b_clinical_state_on_medication.fillna('unknown',inplace = True)"
   ]
  },
  {
   "cell_type": "code",
   "execution_count": 6,
   "id": "8c0fec59",
   "metadata": {
    "execution": {
     "iopub.execute_input": "2023-05-02T01:45:26.514466Z",
     "iopub.status.busy": "2023-05-02T01:45:26.513448Z",
     "iopub.status.idle": "2023-05-02T01:45:26.518839Z",
     "shell.execute_reply": "2023-05-02T01:45:26.517638Z"
    },
    "papermill": {
     "duration": 0.018422,
     "end_time": "2023-05-02T01:45:26.521406",
     "exception": false,
     "start_time": "2023-05-02T01:45:26.502984",
     "status": "completed"
    },
    "tags": []
   },
   "outputs": [],
   "source": [
    "# # Dropping missing values in the target dataset after filling na with 0 for updrs_4\n",
    "# target_data.updrs_4 = target_data.updrs_4.fillna(0)\n",
    "\n",
    "# target_data = target_data.dropna()\n",
    "# target_data.shape"
   ]
  },
  {
   "cell_type": "code",
   "execution_count": 7,
   "id": "db40353f",
   "metadata": {
    "execution": {
     "iopub.execute_input": "2023-05-02T01:45:26.542507Z",
     "iopub.status.busy": "2023-05-02T01:45:26.542112Z",
     "iopub.status.idle": "2023-05-02T01:45:26.556202Z",
     "shell.execute_reply": "2023-05-02T01:45:26.555035Z"
    },
    "papermill": {
     "duration": 0.02756,
     "end_time": "2023-05-02T01:45:26.559200",
     "exception": false,
     "start_time": "2023-05-02T01:45:26.531640",
     "status": "completed"
    },
    "tags": []
   },
   "outputs": [
    {
     "data": {
      "text/plain": [
       "visit_id                                  0\n",
       "patient_id                                0\n",
       "visit_month                               0\n",
       "updrs_1                                  96\n",
       "updrs_2                                  98\n",
       "updrs_3                                  30\n",
       "updrs_4                                1863\n",
       "upd23b_clinical_state_on_medication       0\n",
       "dtype: int64"
      ]
     },
     "execution_count": 7,
     "metadata": {},
     "output_type": "execute_result"
    }
   ],
   "source": [
    "target_data.isna().sum()"
   ]
  },
  {
   "cell_type": "code",
   "execution_count": 8,
   "id": "dff9a8aa",
   "metadata": {
    "execution": {
     "iopub.execute_input": "2023-05-02T01:45:26.580371Z",
     "iopub.status.busy": "2023-05-02T01:45:26.579752Z",
     "iopub.status.idle": "2023-05-02T01:45:26.585553Z",
     "shell.execute_reply": "2023-05-02T01:45:26.584364Z"
    },
    "papermill": {
     "duration": 0.019359,
     "end_time": "2023-05-02T01:45:26.588386",
     "exception": false,
     "start_time": "2023-05-02T01:45:26.569027",
     "status": "completed"
    },
    "tags": []
   },
   "outputs": [],
   "source": [
    "# Category columns\n",
    "id_cols = ['visit_id','patient_id','visit_month']\n",
    "target_cols = ['updrs_1','updrs_2','updrs_3','updrs_4']\n",
    "month_list  =  [0,6,12,24,36,48]"
   ]
  },
  {
   "cell_type": "markdown",
   "id": "22f59a84",
   "metadata": {
    "papermill": {
     "duration": 0.009141,
     "end_time": "2023-05-02T01:45:26.607026",
     "exception": false,
     "start_time": "2023-05-02T01:45:26.597885",
     "status": "completed"
    },
    "tags": []
   },
   "source": [
    "**Since medication is not available in test data. Filling medication to unknown in test data to see the impact**"
   ]
  },
  {
   "cell_type": "code",
   "execution_count": 9,
   "id": "4775d327",
   "metadata": {
    "execution": {
     "iopub.execute_input": "2023-05-02T01:45:26.627557Z",
     "iopub.status.busy": "2023-05-02T01:45:26.627143Z",
     "iopub.status.idle": "2023-05-02T01:45:27.056547Z",
     "shell.execute_reply": "2023-05-02T01:45:27.055397Z"
    },
    "papermill": {
     "duration": 0.443094,
     "end_time": "2023-05-02T01:45:27.059558",
     "exception": false,
     "start_time": "2023-05-02T01:45:26.616464",
     "status": "completed"
    },
    "tags": []
   },
   "outputs": [],
   "source": [
    "from bayes_opt import BayesianOptimization\n",
    "import lightgbm as lgb\n",
    "import numpy as np\n",
    "import pandas as pd\n",
    "from sklearn.compose import ColumnTransformer\n",
    "from sklearn.linear_model import ElasticNet\n",
    "from sklearn.model_selection import GroupKFold, cross_validate\n",
    "from sklearn.pipeline import Pipeline\n",
    "from sklearn.preprocessing import MinMaxScaler, RobustScaler, StandardScaler\n",
    "from sklearn.svm import LinearSVR, SVR\n",
    "from skopt import BayesSearchCV\n",
    "from skopt.space import Real, Categorical, Integer"
   ]
  },
  {
   "cell_type": "code",
   "execution_count": 10,
   "id": "6e521238",
   "metadata": {
    "execution": {
     "iopub.execute_input": "2023-05-02T01:45:27.078584Z",
     "iopub.status.busy": "2023-05-02T01:45:27.078258Z",
     "iopub.status.idle": "2023-05-02T01:45:27.096037Z",
     "shell.execute_reply": "2023-05-02T01:45:27.094856Z"
    },
    "papermill": {
     "duration": 0.029432,
     "end_time": "2023-05-02T01:45:27.098257",
     "exception": false,
     "start_time": "2023-05-02T01:45:27.068825",
     "status": "completed"
    },
    "tags": []
   },
   "outputs": [],
   "source": [
    "# Creating features for target data \n",
    "def create_target_features(target_data,test=None):\n",
    "    \n",
    "    if test is None:\n",
    "        test1 = target_data[['patient_id','visit_month','upd23b_clinical_state_on_medication']].copy()\n",
    "        test1['upd23b_clinical_state_on_medication']  = test1['upd23b_clinical_state_on_medication'].fillna('unknown')\n",
    "    else:\n",
    "        test1 = test.copy()\n",
    "        if 'upd23b_clinical_state_on_medication' not in test1.columns.tolist():\n",
    "            test1['upd23b_clinical_state_on_medication'] = 'unknown'\n",
    "        else:\n",
    "            test1['upd23b_clinical_state_on_medication']  = test1['upd23b_clinical_state_on_medication'].fillna('unknown')\n",
    "        test1 = test1[['patient_id','visit_month','upd23b_clinical_state_on_medication']].drop_duplicates().copy()\n",
    "            \n",
    "        patients = test1.patient_id.unique()\n",
    "        visit_months=test1.visit_month.unique()\n",
    "        \n",
    "        test1['visit_month_orig'] = test1['visit_month']\n",
    "\n",
    "        test_data = pd.DataFrame()\n",
    "        for patient in patients:\n",
    "            for month in month_list:\n",
    "                p_data = test1[test1['patient_id'] == patient].copy()\n",
    "                p_data['visit_month'] = p_data['visit_month'].values + month\n",
    "                test_data = pd.concat([test_data,p_data],axis=0)\n",
    "        test1 = test_data.copy()\n",
    "        \n",
    "\n",
    "    # Replacing missing values with median by visit_month & medication\n",
    "    target_data1 = target_data.copy()\n",
    "    tmeds = target_data1.groupby(['visit_month','upd23b_clinical_state_on_medication'],group_keys =False)[target_cols].apply(lambda x: x.fillna(x.median())).sort_index()\n",
    "    target_data1 = target_data1[['patient_id','visit_month','upd23b_clinical_state_on_medication']].join(tmeds)\n",
    "\n",
    "    # Building grp features\n",
    "    all_grp_cols = [['visit_month'],['upd23b_clinical_state_on_medication']] + [['visit_month','upd23b_clinical_state_on_medication']]\n",
    "    \n",
    "    target_data2 = target_data1[['visit_month','upd23b_clinical_state_on_medication']].drop_duplicates()\n",
    "    for grp_col in all_grp_cols:    \n",
    "        temp = target_data1.groupby(grp_col)[target_cols].agg(['min','max','mean','median','sum','std'])\n",
    "        temp.columns = [i+'_' + j + '_'+ '_'.join(grp_col) for i,j in temp.columns]\n",
    "        target_data2 = target_data2.join(temp,on = grp_col)\n",
    "        target_data2  = target_data2.join(target_data1.groupby(grp_col)['updrs_1'].count().rename('_'.join(grp_col)+'_count'),\n",
    "                                          on = grp_col)\n",
    "    \n",
    "    # Flags for medication\n",
    "    test1['med_unknown'] = (test1['upd23b_clinical_state_on_medication'] == 'unknown').astype(int)\n",
    "    test1['med_off'] = (test1['upd23b_clinical_state_on_medication'] == 'Off').astype(int)\n",
    "    test1['med_on'] = (test1['upd23b_clinical_state_on_medication'] == 'On').astype(int)\n",
    "    \n",
    "    model_data = test1.merge(target_data2,on = ['visit_month','upd23b_clinical_state_on_medication'],how = 'inner').drop(columns = 'upd23b_clinical_state_on_medication')\n",
    "    feature_cols = model_data.drop(columns = ['patient_id']).columns.tolist()\n",
    "    \n",
    "    # Imputing model_data by median value by visit_month\n",
    "    model_data = model_data.groupby('visit_month',group_keys = False).apply(lambda x: x.fillna(x.median()))\n",
    "\n",
    "    if test is None:\n",
    "        model_data = model_data.merge(target_data1[['patient_id','visit_month'] + target_cols],\n",
    "                                      on = ['patient_id','visit_month'],\n",
    "                                      how = 'inner')\n",
    "\n",
    "    return model_data,feature_cols"
   ]
  },
  {
   "cell_type": "code",
   "execution_count": 11,
   "id": "66b3c91b",
   "metadata": {
    "execution": {
     "iopub.execute_input": "2023-05-02T01:45:27.118483Z",
     "iopub.status.busy": "2023-05-02T01:45:27.118115Z",
     "iopub.status.idle": "2023-05-02T01:45:27.124765Z",
     "shell.execute_reply": "2023-05-02T01:45:27.123590Z"
    },
    "papermill": {
     "duration": 0.019528,
     "end_time": "2023-05-02T01:45:27.127279",
     "exception": false,
     "start_time": "2023-05-02T01:45:27.107751",
     "status": "completed"
    },
    "tags": []
   },
   "outputs": [],
   "source": [
    "def smape_plus_1(y_true, y_pred):\n",
    "    y_true_plus_1 = y_true + 1\n",
    "    y_pred_plus_1 = y_pred + 1\n",
    "    metric = np.zeros(len(y_true_plus_1))\n",
    "    \n",
    "    numerator = np.abs(y_true_plus_1 - y_pred_plus_1)\n",
    "    denominator = ((np.abs(y_true_plus_1) + np.abs(y_pred_plus_1)) / 2)\n",
    "    \n",
    "    mask_not_zeros = (y_true_plus_1 != 0) | (y_pred_plus_1 != 0)\n",
    "    metric[mask_not_zeros] = numerator[mask_not_zeros] / denominator[mask_not_zeros]\n",
    "    \n",
    "    return 100 * np.nanmean(metric)"
   ]
  },
  {
   "cell_type": "code",
   "execution_count": 12,
   "id": "3a151827",
   "metadata": {
    "execution": {
     "iopub.execute_input": "2023-05-02T01:45:27.146158Z",
     "iopub.status.busy": "2023-05-02T01:45:27.145842Z",
     "iopub.status.idle": "2023-05-02T01:45:27.151063Z",
     "shell.execute_reply": "2023-05-02T01:45:27.149411Z"
    },
    "papermill": {
     "duration": 0.017412,
     "end_time": "2023-05-02T01:45:27.153534",
     "exception": false,
     "start_time": "2023-05-02T01:45:27.136122",
     "status": "completed"
    },
    "tags": []
   },
   "outputs": [],
   "source": [
    "# target_data"
   ]
  },
  {
   "cell_type": "code",
   "execution_count": 13,
   "id": "5221d7c6",
   "metadata": {
    "execution": {
     "iopub.execute_input": "2023-05-02T01:45:27.173087Z",
     "iopub.status.busy": "2023-05-02T01:45:27.172466Z",
     "iopub.status.idle": "2023-05-02T01:45:27.679793Z",
     "shell.execute_reply": "2023-05-02T01:45:27.678573Z"
    },
    "papermill": {
     "duration": 0.520084,
     "end_time": "2023-05-02T01:45:27.682584",
     "exception": false,
     "start_time": "2023-05-02T01:45:27.162500",
     "status": "completed"
    },
    "tags": []
   },
   "outputs": [
    {
     "data": {
      "text/plain": [
       "((4720, 84), 79)"
      ]
     },
     "execution_count": 13,
     "metadata": {},
     "output_type": "execute_result"
    }
   ],
   "source": [
    "# Getting the features \n",
    "model_data, feature_cols = create_target_features(target_data)\n",
    "model_data.shape, len(feature_cols)"
   ]
  },
  {
   "cell_type": "code",
   "execution_count": 14,
   "id": "0d5e9502",
   "metadata": {
    "execution": {
     "iopub.execute_input": "2023-05-02T01:45:27.703512Z",
     "iopub.status.busy": "2023-05-02T01:45:27.703127Z",
     "iopub.status.idle": "2023-05-02T01:45:27.718396Z",
     "shell.execute_reply": "2023-05-02T01:45:27.717403Z"
    },
    "papermill": {
     "duration": 0.028514,
     "end_time": "2023-05-02T01:45:27.721006",
     "exception": false,
     "start_time": "2023-05-02T01:45:27.692492",
     "status": "completed"
    },
    "tags": []
   },
   "outputs": [
    {
     "data": {
      "text/plain": [
       "((4720, 2), (4720, 84))"
      ]
     },
     "execution_count": 14,
     "metadata": {},
     "output_type": "execute_result"
    }
   ],
   "source": [
    "model_data[['patient_id','visit_month']].drop_duplicates().shape, model_data.shape"
   ]
  },
  {
   "cell_type": "code",
   "execution_count": 15,
   "id": "5ab1e0df",
   "metadata": {
    "execution": {
     "iopub.execute_input": "2023-05-02T01:45:27.742018Z",
     "iopub.status.busy": "2023-05-02T01:45:27.741026Z",
     "iopub.status.idle": "2023-05-02T01:45:27.746514Z",
     "shell.execute_reply": "2023-05-02T01:45:27.745379Z"
    },
    "papermill": {
     "duration": 0.018584,
     "end_time": "2023-05-02T01:45:27.749053",
     "exception": false,
     "start_time": "2023-05-02T01:45:27.730469",
     "status": "completed"
    },
    "tags": []
   },
   "outputs": [],
   "source": [
    "# feature_cols = ['visit_month','med_unknown','med_off','med_on','visit_month_count', 'upd23b_clinical_state_on_medication_count','visit_month_upd23b_clinical_state_on_medication_count']\n",
    "feature_cols = ['visit_month','visit_month_count']\n"
   ]
  },
  {
   "cell_type": "code",
   "execution_count": 16,
   "id": "913b4978",
   "metadata": {
    "execution": {
     "iopub.execute_input": "2023-05-02T01:45:27.770026Z",
     "iopub.status.busy": "2023-05-02T01:45:27.769692Z",
     "iopub.status.idle": "2023-05-02T01:45:27.787589Z",
     "shell.execute_reply": "2023-05-02T01:45:27.786405Z"
    },
    "papermill": {
     "duration": 0.031189,
     "end_time": "2023-05-02T01:45:27.789972",
     "exception": false,
     "start_time": "2023-05-02T01:45:27.758783",
     "status": "completed"
    },
    "tags": []
   },
   "outputs": [],
   "source": [
    "# ベイズ最適化によるパラメータチューニング\n",
    "def train_linear_model2(model_data, feature_cols):\n",
    "    def lgb_cross_val(learning_rate, num_leaves, max_depth, min_child_samples, reg_alpha, reg_lambda, n_estimators, colsample_bytree, subsample):\n",
    "        params = {\n",
    "            'objective': 'mape',\n",
    "            'learning_rate': learning_rate,\n",
    "            'max_depth': int(max_depth),\n",
    "            'num_leaves': int(num_leaves),\n",
    "            'min_child_samples': int(min_child_samples),\n",
    "            'reg_alpha': reg_alpha,\n",
    "            'reg_lambda': reg_lambda,\n",
    "            'n_estimators': int(n_estimators),\n",
    "            'colsample_bytree': colsample_bytree,\n",
    "            'subsample': subsample,\n",
    "            'random_state': 0\n",
    "        }\n",
    "\n",
    "        model = lgb.LGBMRegressor(**params)\n",
    "        results = cross_validate(model, X, y, groups=groups, cv=gkf, scoring=smape_, return_train_score=True)\n",
    "        return -results[\"test_score\"].mean()\n",
    "    \n",
    "    lgb_params = {\n",
    "        'objective': 'mape',\n",
    "        'learning_rate': 0.01,\n",
    "        'max_depth': 6,\n",
    "        'num_leaves': 31,\n",
    "        'min_child_samples': 20,\n",
    "        'reg_alpha': 1,\n",
    "        'reg_lambda': 1,\n",
    "        'n_estimators': 1000,\n",
    "        'colsample_bytree': 0.7,\n",
    "        'subsample': 0.8,\n",
    "        'random_state': 0\n",
    "    }\n",
    "\n",
    "\n",
    "    model_data_x = model_data.copy()\n",
    "    models = {}\n",
    "\n",
    "    n_folds = 10\n",
    "    gkf = GroupKFold(n_splits=n_folds)\n",
    "\n",
    "    score_trn = []\n",
    "    score_test = []\n",
    "\n",
    "    for target in target_cols:\n",
    "        if target.find('updrs_3') >= 0:\n",
    "            y = model_data[target].replace(0, pd.NA).copy()\n",
    "            y = model_data[target].dropna().copy()\n",
    "        else:\n",
    "            y = model_data[target].dropna().copy()\n",
    "\n",
    "        y = y.apply(np.log1p).copy()\n",
    "\n",
    "        X = model_data_x.loc[y.index.tolist(), feature_cols]\n",
    "        groups = model_data_x.loc[y.index.tolist(), 'patient_id']\n",
    "\n",
    "        # Bayesian optimization\n",
    "        optimizer = BayesianOptimization(lgb_cross_val, {\n",
    "            'learning_rate': (1e-4, 1e-2),\n",
    "            'num_leaves': (10, 100),\n",
    "            'max_depth': (2, 15),\n",
    "            'min_child_samples': (5, 100),\n",
    "            'reg_alpha': (0, 10),\n",
    "            'reg_lambda': (0, 100),\n",
    "            'n_estimators': (500, 3000),\n",
    "            'colsample_bytree': (0.1, 1),\n",
    "            'subsample': (0.1, 1)\n",
    "        },random_state=0)\n",
    "\n",
    "        \n",
    "        optimizer.maximize(init_points=20, n_iter=30)\n",
    "\n",
    "\n",
    "        # Get the best parameters found by Bayesian optimization\n",
    "        lgb_params.update(optimizer.max[\"params\"])\n",
    "        lgb_params[\"max_depth\"] = int(lgb_params[\"max_depth\"])\n",
    "        lgb_params[\"num_leaves\"] = int(lgb_params[\"num_leaves\"])\n",
    "        lgb_params[\"min_child_samples\"] = int(lgb_params[\"min_child_samples\"])\n",
    "        lgb_params[\"n_estimators\"] = int(lgb_params[\"n_estimators\"])\n",
    "\n",
    "        model5 = lgb.LGBMRegressor(**lgb_params)\n",
    "\n",
    "        results = cross_validate(model5, X, y, groups=groups, cv=gkf, scoring=smape_, return_estimator=True, return_train_score=True)\n",
    "        results = pd.DataFrame(results)\n",
    "        score_trn += [results.train_score.abs().mean()]\n",
    "        score_test += [results.test_score.abs().mean()]\n",
    "        print(f'\\nTrain score for {target} : {results.train_score.abs().mean()}')\n",
    "        print(f'Test score for {target} : {results.test_score.abs().mean()}')\n",
    "        models[target] = results\n",
    "    print('\\nTotal avg train score : ', np.mean(score_trn))\n",
    "    print('Total avg test score : ', np.mean(score_test))\n",
    "\n",
    "    return models"
   ]
  },
  {
   "cell_type": "code",
   "execution_count": 17,
   "id": "f862ded0",
   "metadata": {
    "execution": {
     "iopub.execute_input": "2023-05-02T01:45:27.809109Z",
     "iopub.status.busy": "2023-05-02T01:45:27.808806Z",
     "iopub.status.idle": "2023-05-02T01:45:27.814208Z",
     "shell.execute_reply": "2023-05-02T01:45:27.813177Z"
    },
    "papermill": {
     "duration": 0.017559,
     "end_time": "2023-05-02T01:45:27.816491",
     "exception": false,
     "start_time": "2023-05-02T01:45:27.798932",
     "status": "completed"
    },
    "tags": []
   },
   "outputs": [],
   "source": [
    "#  Metric\n",
    "def smape(y_true, y_pred):\n",
    "    y_true = np.expm1(y_true) + 1\n",
    "    y_pred = np.expm1(y_pred) + 1\n",
    "    \n",
    "    return 100/len(y_true) * np.sum(2 * np.abs(y_pred - y_true) / (np.abs(y_true) + np.abs(y_pred)))"
   ]
  },
  {
   "cell_type": "code",
   "execution_count": 18,
   "id": "e6aed9a6",
   "metadata": {
    "execution": {
     "iopub.execute_input": "2023-05-02T01:45:27.836012Z",
     "iopub.status.busy": "2023-05-02T01:45:27.835190Z",
     "iopub.status.idle": "2023-05-02T01:45:27.841954Z",
     "shell.execute_reply": "2023-05-02T01:45:27.840817Z"
    },
    "papermill": {
     "duration": 0.01909,
     "end_time": "2023-05-02T01:45:27.844314",
     "exception": false,
     "start_time": "2023-05-02T01:45:27.825224",
     "status": "completed"
    },
    "tags": []
   },
   "outputs": [],
   "source": [
    "from sklearn.preprocessing import MinMaxScaler,  RobustScaler, StandardScaler\n",
    "from sklearn.model_selection import GroupKFold, GroupShuffleSplit\n",
    "from sklearn.svm import SVR, LinearSVR\n",
    "from sklearn.linear_model import Ridge, Lasso, ElasticNet, LinearRegression,PoissonRegressor\n",
    "from sklearn.model_selection import cross_validate,cross_val_predict\n",
    "from sklearn.metrics import make_scorer\n",
    "from sklearn.pipeline import Pipeline\n",
    "from sklearn.ensemble import BaggingRegressor, GradientBoostingRegressor, StackingRegressor\n",
    "import lightgbm as lgb"
   ]
  },
  {
   "cell_type": "code",
   "execution_count": 19,
   "id": "54924646",
   "metadata": {
    "execution": {
     "iopub.execute_input": "2023-05-02T01:45:27.863400Z",
     "iopub.status.busy": "2023-05-02T01:45:27.863063Z",
     "iopub.status.idle": "2023-05-02T01:45:27.867492Z",
     "shell.execute_reply": "2023-05-02T01:45:27.866391Z"
    },
    "papermill": {
     "duration": 0.016468,
     "end_time": "2023-05-02T01:45:27.869900",
     "exception": false,
     "start_time": "2023-05-02T01:45:27.853432",
     "status": "completed"
    },
    "tags": []
   },
   "outputs": [],
   "source": [
    "# Scorer for cross validation\n",
    "smape_ = make_scorer(smape_plus_1,greater_is_better=False)"
   ]
  },
  {
   "cell_type": "markdown",
   "id": "248521de",
   "metadata": {
    "papermill": {
     "duration": 0.008317,
     "end_time": "2023-05-02T01:45:27.886888",
     "exception": false,
     "start_time": "2023-05-02T01:45:27.878571",
     "status": "completed"
    },
    "tags": []
   },
   "source": [
    "**Using LinearSVR model with groupshufflesplit with 5 splits**"
   ]
  },
  {
   "cell_type": "code",
   "execution_count": 20,
   "id": "0221149d",
   "metadata": {
    "execution": {
     "iopub.execute_input": "2023-05-02T01:45:27.906606Z",
     "iopub.status.busy": "2023-05-02T01:45:27.905805Z",
     "iopub.status.idle": "2023-05-02T01:45:27.921309Z",
     "shell.execute_reply": "2023-05-02T01:45:27.920309Z"
    },
    "papermill": {
     "duration": 0.027877,
     "end_time": "2023-05-02T01:45:27.923755",
     "exception": false,
     "start_time": "2023-05-02T01:45:27.895878",
     "status": "completed"
    },
    "tags": []
   },
   "outputs": [],
   "source": [
    "def train_linear_model(model_data,feature_cols):\n",
    "    lgb_params = {\n",
    "        'objective': 'mape',\n",
    "        'learning_rate': 0.01,\n",
    "        'max_depth': 6,\n",
    "        'num_leaves': 31,\n",
    "        'min_child_samples': 20,\n",
    "        'reg_alpha': 1,\n",
    "        'reg_lambda': 1,\n",
    "        'n_estimators': 1000,\n",
    "        'colsample_bytree': 0.7,\n",
    "        'subsample': 0.8,\n",
    "        'random_state': 0\n",
    "    }\n",
    "        \n",
    "    # Scaling the columns using MinMaxscaler\n",
    "#     scaler = MinMaxScaler(feature_range = (0,1))\n",
    "#     scaler.fit(model_data[feature_cols])\n",
    "#     model_data_x = pd.DataFrame(scaler.transform(model_data[feature_cols]),columns = scaler.feature_names_in_)\n",
    "    model_data_x = model_data.copy()\n",
    "    models = {}  \n",
    "    \n",
    "    n_folds = 10\n",
    "    gkf = GroupKFold(n_splits=n_folds)\n",
    "    \n",
    "    score_trn = [] ; score_test = []\n",
    "    \n",
    "    for target in target_cols:\n",
    "        \n",
    "        if target.find('updrs_3')>=0:\n",
    "            y =  model_data[target].replace(0,pd.NA).copy()\n",
    "            y =  model_data[target].dropna().copy()\n",
    "        else:\n",
    "            y =  model_data[target].dropna().copy() \n",
    "            \n",
    "        y = y.apply(np.log1p).copy()\n",
    "        \n",
    "        X  = model_data_x.loc[y.index.tolist(), feature_cols]\n",
    "        groups = model_data_x.loc[y.index.tolist(),'patient_id']\n",
    "\n",
    "        model1 = Pipeline([('scaler',RobustScaler()),         \n",
    "                          ('lsvr',LinearSVR(random_state=0))])\n",
    "        \n",
    "        model2 = Pipeline([('scaler',MinMaxScaler()),         \n",
    "                          ('poisson',PoissonRegressor())])\n",
    "        \n",
    "        model3 = Pipeline([('scaler',RobustScaler()),         \n",
    "                          ('svr_rbf',SVR())])\n",
    "    \n",
    "        model4 = Pipeline([('scaler',StandardScaler()),         \n",
    "                          ('lr',LinearRegression())])\n",
    "        \n",
    "        model5 = lgb.LGBMRegressor(**lgb_params)\n",
    "        \n",
    "       \n",
    "        \n",
    "#         model = StackingRegressor([('lsvr',model1),\n",
    "#                                    ('poisson',model2),\n",
    "#                                    ('svr_rbf',model3),\n",
    "#                                    ('lr',model4),\n",
    "#                                    ('lgb',model5)],\n",
    "                                                \n",
    "#                                   final_estimator= ElasticNet(random_state=42),\n",
    "#                                  passthrough=True\n",
    "#                                  )\n",
    "        \n",
    "        \n",
    "        model = Pipeline([('scaler',RobustScaler()),         \n",
    "                          ('lsvr',LinearSVR(random_state=0))])\n",
    "        results = cross_validate(model,\n",
    "                                X,\n",
    "                                y,\n",
    "                                groups=groups,\n",
    "                                cv=gkf,\n",
    "                                scoring=smape_,\n",
    "                                return_estimator=True,\n",
    "                                return_train_score=True)\n",
    "        results = pd.DataFrame(results)\n",
    "        score_trn += [results.train_score.abs().mean()]\n",
    "        score_test += [results.test_score.abs().mean()]\n",
    "        print(f'\\nTrain score for {target} : {results.train_score.abs().mean()}')\n",
    "        print(f'Test score for {target} : {results.test_score.abs().mean()}')  \n",
    "        models[target] = results\n",
    "    print('\\nTotal avg train score : ',np.mean(score_trn))\n",
    "    print('Total avg test score : ',np.mean(score_test))\n",
    "    \n",
    "    return models"
   ]
  },
  {
   "cell_type": "code",
   "execution_count": 21,
   "id": "b786d2a9",
   "metadata": {
    "execution": {
     "iopub.execute_input": "2023-05-02T01:45:27.944367Z",
     "iopub.status.busy": "2023-05-02T01:45:27.943614Z",
     "iopub.status.idle": "2023-05-02T01:45:29.405699Z",
     "shell.execute_reply": "2023-05-02T01:45:29.403798Z"
    },
    "papermill": {
     "duration": 1.475474,
     "end_time": "2023-05-02T01:45:29.408466",
     "exception": false,
     "start_time": "2023-05-02T01:45:27.932992",
     "status": "completed"
    },
    "tags": []
   },
   "outputs": [
    {
     "name": "stdout",
     "output_type": "stream",
     "text": [
      "\n",
      "Train score for updrs_1 : 22.963221519361756\n",
      "Test score for updrs_1 : 22.98432487865924\n",
      "\n",
      "Train score for updrs_2 : 28.654506955756023\n",
      "Test score for updrs_2 : 28.68029542513389\n",
      "\n",
      "Train score for updrs_3 : 23.069811500979064\n",
      "Test score for updrs_3 : 23.081887399412963\n",
      "\n",
      "Train score for updrs_4 : 17.26865934131343\n",
      "Test score for updrs_4 : 17.268659341312553\n",
      "\n",
      "Total avg train score :  22.989049829352567\n",
      "Total avg test score :  23.003791761129662\n"
     ]
    }
   ],
   "source": [
    "# Training the models\n",
    "models = train_linear_model(model_data,feature_cols)"
   ]
  },
  {
   "cell_type": "markdown",
   "id": "11799ca0",
   "metadata": {
    "papermill": {
     "duration": 0.010182,
     "end_time": "2023-05-02T01:45:29.429112",
     "exception": false,
     "start_time": "2023-05-02T01:45:29.418930",
     "status": "completed"
    },
    "tags": []
   },
   "source": [
    "* Total avg train score :  50.49370520571464\n",
    "* Total avg test score :  50.51135681640096\n",
    "-----------------------------------------------------\n",
    "* Total avg train score :  50.4888725371017\n",
    "* Total avg test score :  50.52275313553273\n",
    "\n",
    "-----------------------------------------------------\n",
    "* Total avg train score :  50.48869941211159\n",
    "* Total avg test score :  50.52903803554226"
   ]
  },
  {
   "cell_type": "code",
   "execution_count": 22,
   "id": "fcf8bf22",
   "metadata": {
    "execution": {
     "iopub.execute_input": "2023-05-02T01:45:29.451160Z",
     "iopub.status.busy": "2023-05-02T01:45:29.450041Z",
     "iopub.status.idle": "2023-05-02T01:45:29.454902Z",
     "shell.execute_reply": "2023-05-02T01:45:29.454138Z"
    },
    "papermill": {
     "duration": 0.017998,
     "end_time": "2023-05-02T01:45:29.457131",
     "exception": false,
     "start_time": "2023-05-02T01:45:29.439133",
     "status": "completed"
    },
    "tags": []
   },
   "outputs": [],
   "source": [
    "# Training the models\n",
    "# models = train_linear_model2(model_data,feature_cols)"
   ]
  },
  {
   "cell_type": "code",
   "execution_count": 23,
   "id": "5ebc71ce",
   "metadata": {
    "execution": {
     "iopub.execute_input": "2023-05-02T01:45:29.478886Z",
     "iopub.status.busy": "2023-05-02T01:45:29.477753Z",
     "iopub.status.idle": "2023-05-02T01:45:29.483963Z",
     "shell.execute_reply": "2023-05-02T01:45:29.482904Z"
    },
    "papermill": {
     "duration": 0.019734,
     "end_time": "2023-05-02T01:45:29.486516",
     "exception": false,
     "start_time": "2023-05-02T01:45:29.466782",
     "status": "completed"
    },
    "tags": []
   },
   "outputs": [],
   "source": [
    "# model_data[['visit_month','updrs_1_median_visit_month','updrs_2_median_visit_month','updrs_3_median_visit_month','updrs_4_median_visit_month']].drop_duplicates()"
   ]
  },
  {
   "cell_type": "code",
   "execution_count": 24,
   "id": "cc1895a8",
   "metadata": {
    "execution": {
     "iopub.execute_input": "2023-05-02T01:45:29.507420Z",
     "iopub.status.busy": "2023-05-02T01:45:29.507045Z",
     "iopub.status.idle": "2023-05-02T01:45:29.516749Z",
     "shell.execute_reply": "2023-05-02T01:45:29.515664Z"
    },
    "papermill": {
     "duration": 0.023191,
     "end_time": "2023-05-02T01:45:29.519432",
     "exception": false,
     "start_time": "2023-05-02T01:45:29.496241",
     "status": "completed"
    },
    "tags": []
   },
   "outputs": [],
   "source": [
    "target_meds = model_data[['visit_month','updrs_1_median_visit_month','updrs_2_median_visit_month','updrs_3_median_visit_month','updrs_4_median_visit_month']].drop_duplicates()\n",
    "# target_meds"
   ]
  },
  {
   "cell_type": "code",
   "execution_count": 25,
   "id": "a7d37561",
   "metadata": {
    "execution": {
     "iopub.execute_input": "2023-05-02T01:45:29.539852Z",
     "iopub.status.busy": "2023-05-02T01:45:29.539557Z",
     "iopub.status.idle": "2023-05-02T01:45:29.561275Z",
     "shell.execute_reply": "2023-05-02T01:45:29.560036Z"
    },
    "papermill": {
     "duration": 0.03525,
     "end_time": "2023-05-02T01:45:29.564166",
     "exception": false,
     "start_time": "2023-05-02T01:45:29.528916",
     "status": "completed"
    },
    "tags": []
   },
   "outputs": [],
   "source": [
    "# Function to make predictions on test \n",
    "def get_predictions(target_data,test,sample_submission,models,target_meds, scaler = None):\n",
    "    \n",
    "    # Creating features\n",
    "    model_data,feature_cols = create_target_features(target_data,test)\n",
    "    \n",
    "    feature_cols = ['visit_month','visit_month_count']\n",
    "\n",
    "    # Making predictions from all the models\n",
    "    pred_submission = pd.DataFrame(index = range(model_data.shape[0]))\n",
    "    \n",
    "    # Scaling the data\n",
    "#     pred_feats = pd.DataFrame(scaler.transform(model_data.drop(columns = ['patient_id','visit_month_orig'])),columns = scaler.feature_names_in_)\n",
    "    pred_feats = model_data[feature_cols].copy()\n",
    "    \n",
    "    for key,value in models.items():    \n",
    "        model_fits = models[key]['estimator'].tolist()\n",
    "        pred_train_temp = pd.DataFrame(np.mean(np.array([np.expm1(mod.predict(pred_feats)) for mod in value['estimator'].tolist()]),axis = 0))\n",
    "        pred_train_temp.columns = [key]\n",
    "        pred_submission = pred_submission.join(pred_train_temp)\n",
    "#     return pred_submission\n",
    "    pred_submission = pred_submission[models.keys()].copy() \n",
    "    model_data['visit_month_temp'] = model_data['visit_month'] - model_data['visit_month_orig']\n",
    "    pred_submission.index = model_data['patient_id'].astype(str) + '_' +model_data['visit_month_orig'].astype(str) + '_'+model_data['visit_month_temp'].apply(lambda x: 'plus_'+str(x) +'_months')\n",
    "\n",
    "#     pred_submission['updrs_4'] = 0\n",
    "#     pred_submission['updrs_3'] += 2\n",
    "#     pred_submission['updrs_2'] += 1.5 \n",
    "\n",
    "    # Calculating medians\n",
    "    ss_visit_months  = sample_submission.prediction_id.apply(lambda x: int(x.split('_')[1])+int(x.split('_')[5])).unique()\n",
    "    missing_vm = list(set(ss_visit_months).difference(target_meds.visit_month.unique()))\n",
    "    missing_vm = pd.DataFrame({'visit_month':missing_vm})\n",
    "    target_meds = target_meds.append(missing_vm,ignore_index=True)\n",
    "    target_meds = target_meds.fillna(method = 'ffill')    \n",
    "    target_meds = target_meds.drop_duplicates()\n",
    "    target_meds['visit_month'] = target_meds['visit_month'].astype(int)\n",
    "    target_meds = target_meds[target_meds['visit_month']!=5].copy()\n",
    "    target_meds = target_meds.set_index('visit_month')\n",
    "    target_meds = target_meds.sort_index()\n",
    "    target_meds = target_meds.expanding().max()\n",
    "    target_meds = target_meds.stack().reset_index().rename(columns = {'level_1':'target',0:'rating'})\n",
    "\n",
    "    target_meds['target'] = target_meds['target'].apply(lambda x: '_'.join(x.split('_')[:2]))\n",
    "    target_meds['key'] = target_meds[['target','visit_month']].apply(lambda x: str(x[0])+'_'+str(x[1]),axis = 1)\n",
    "    target_meds = target_meds.drop(columns = ['target','visit_month']).drop_duplicates().copy()\n",
    "    target_meds = target_meds.set_index('key')\n",
    "    \n",
    "#     return pred_submission    \n",
    "    pred_submission = pred_submission.stack().reset_index().rename(columns = {'level_0':'prediction_id','level_1':'target',0:'rating'})\n",
    "    pred_submission['prediction_id'] = pred_submission[['prediction_id','target']].apply(lambda x: '_'.join(x[0].split('_')[:2] + [x[1]] + x[0].split('_')[2:]) ,axis= 1)\n",
    "    pred_submission.drop(columns = ['target'],inplace= True)\n",
    "#     pred_submission['group_key'] = pred_submission['prediction_id'].apply(lambda x: x.split('_')[1]).astype('str')\n",
    "    pred_submission.reset_index(drop = True,inplace = True)\n",
    "    sample_submission = sample_submission.drop(columns = ['rating']).copy()\n",
    "    sample_submission = sample_submission.merge(pred_submission,on = ['prediction_id'],how = 'left')\n",
    "    sample_submission['rating1'] = sample_submission.prediction_id.apply(lambda x: '_'.join(x.split('_')[2:4]) + '_'+ str(int(x.split('_')[1])+int(x.split('_')[5]))).map(target_meds.rating)\n",
    "    \n",
    "    sample_submission['rating'] = np.where(sample_submission.prediction_id.str.contains('updrs_4|updrs_3'),\n",
    "                                           sample_submission['rating1'],\n",
    "                                           sample_submission['rating']*0.55  +  sample_submission['rating1']*0.45\n",
    "                                          )\n",
    "    \n",
    "    sample_submission = sample_submission.drop(columns = 'rating1')\n",
    "    \n",
    "#     return sample_submission\n",
    "\n",
    "\n",
    "    \n",
    "    # Calculating medians\n",
    "#     temp  = pred_submission.copy()\n",
    "#     temp['target'] = temp.prediction_id.apply(lambda x: '_'.join(x.split('_')[2:]))\n",
    "#     pred_medians = temp.groupby('target')['rating'].median()\n",
    "\n",
    "    sample_submission['rating'] = sample_submission['rating'].abs().fillna(\n",
    "        \n",
    "        sample_submission.prediction_id.apply(lambda x: '_'.join(x.split('_')[2:])).map(target_meds.rating)\n",
    "    \n",
    "    ).fillna(0)\n",
    "    sample_submission['rating'] = sample_submission['rating'].apply(lambda x: np.clip(np.ceil(x),0,None))\n",
    "\n",
    "    return sample_submission"
   ]
  },
  {
   "cell_type": "markdown",
   "id": "b890b86e",
   "metadata": {
    "papermill": {
     "duration": 0.009119,
     "end_time": "2023-05-02T01:45:29.582691",
     "exception": false,
     "start_time": "2023-05-02T01:45:29.573572",
     "status": "completed"
    },
    "tags": []
   },
   "source": [
    "**Testing the model for sample test data**"
   ]
  },
  {
   "cell_type": "code",
   "execution_count": 26,
   "id": "3f0944a3",
   "metadata": {
    "execution": {
     "iopub.execute_input": "2023-05-02T01:45:29.602871Z",
     "iopub.status.busy": "2023-05-02T01:45:29.602554Z",
     "iopub.status.idle": "2023-05-02T01:45:29.640389Z",
     "shell.execute_reply": "2023-05-02T01:45:29.639387Z"
    },
    "papermill": {
     "duration": 0.050956,
     "end_time": "2023-05-02T01:45:29.642964",
     "exception": false,
     "start_time": "2023-05-02T01:45:29.592008",
     "status": "completed"
    },
    "tags": []
   },
   "outputs": [],
   "source": [
    "# Reading the test files\n",
    "test_peptides = pd.read_csv('/kaggle/input/amp-parkinsons-disease-progression-prediction/example_test_files/test_peptides.csv') \n",
    "test_proteins = pd.read_csv('/kaggle/input/amp-parkinsons-disease-progression-prediction/example_test_files/test_proteins.csv') \n",
    "sample_submission = pd.read_csv('/kaggle/input/amp-parkinsons-disease-progression-prediction/example_test_files/sample_submission.csv')\n",
    "test = pd.read_csv('/kaggle/input/amp-parkinsons-disease-progression-prediction/example_test_files/test.csv')"
   ]
  },
  {
   "cell_type": "code",
   "execution_count": 27,
   "id": "bff2539a",
   "metadata": {
    "execution": {
     "iopub.execute_input": "2023-05-02T01:45:29.664172Z",
     "iopub.status.busy": "2023-05-02T01:45:29.663824Z",
     "iopub.status.idle": "2023-05-02T01:45:30.131138Z",
     "shell.execute_reply": "2023-05-02T01:45:30.129773Z"
    },
    "papermill": {
     "duration": 0.481846,
     "end_time": "2023-05-02T01:45:30.134722",
     "exception": false,
     "start_time": "2023-05-02T01:45:29.652876",
     "status": "completed"
    },
    "tags": []
   },
   "outputs": [
    {
     "data": {
      "text/html": [
       "<div>\n",
       "<style scoped>\n",
       "    .dataframe tbody tr th:only-of-type {\n",
       "        vertical-align: middle;\n",
       "    }\n",
       "\n",
       "    .dataframe tbody tr th {\n",
       "        vertical-align: top;\n",
       "    }\n",
       "\n",
       "    .dataframe thead th {\n",
       "        text-align: right;\n",
       "    }\n",
       "</style>\n",
       "<table border=\"1\" class=\"dataframe\">\n",
       "  <thead>\n",
       "    <tr style=\"text-align: right;\">\n",
       "      <th></th>\n",
       "      <th>prediction_id</th>\n",
       "      <th>group_key</th>\n",
       "      <th>rating</th>\n",
       "    </tr>\n",
       "  </thead>\n",
       "  <tbody>\n",
       "    <tr>\n",
       "      <th>0</th>\n",
       "      <td>3342_0_updrs_1_plus_0_months</td>\n",
       "      <td>0</td>\n",
       "      <td>6.000</td>\n",
       "    </tr>\n",
       "    <tr>\n",
       "      <th>1</th>\n",
       "      <td>3342_0_updrs_1_plus_6_months</td>\n",
       "      <td>0</td>\n",
       "      <td>5.000</td>\n",
       "    </tr>\n",
       "    <tr>\n",
       "      <th>2</th>\n",
       "      <td>3342_0_updrs_1_plus_12_months</td>\n",
       "      <td>0</td>\n",
       "      <td>6.000</td>\n",
       "    </tr>\n",
       "    <tr>\n",
       "      <th>3</th>\n",
       "      <td>3342_0_updrs_1_plus_24_months</td>\n",
       "      <td>0</td>\n",
       "      <td>6.000</td>\n",
       "    </tr>\n",
       "    <tr>\n",
       "      <th>4</th>\n",
       "      <td>3342_0_updrs_2_plus_0_months</td>\n",
       "      <td>0</td>\n",
       "      <td>4.000</td>\n",
       "    </tr>\n",
       "  </tbody>\n",
       "</table>\n",
       "</div>"
      ],
      "text/plain": [
       "                   prediction_id  group_key  rating\n",
       "0   3342_0_updrs_1_plus_0_months          0   6.000\n",
       "1   3342_0_updrs_1_plus_6_months          0   5.000\n",
       "2  3342_0_updrs_1_plus_12_months          0   6.000\n",
       "3  3342_0_updrs_1_plus_24_months          0   6.000\n",
       "4   3342_0_updrs_2_plus_0_months          0   4.000"
      ]
     },
     "execution_count": 27,
     "metadata": {},
     "output_type": "execute_result"
    }
   ],
   "source": [
    "get_predictions(target_data,test,sample_submission,models,target_meds).head(5)"
   ]
  },
  {
   "cell_type": "code",
   "execution_count": 28,
   "id": "3a6456c7",
   "metadata": {
    "execution": {
     "iopub.execute_input": "2023-05-02T01:45:30.156122Z",
     "iopub.status.busy": "2023-05-02T01:45:30.155797Z",
     "iopub.status.idle": "2023-05-02T01:45:30.160386Z",
     "shell.execute_reply": "2023-05-02T01:45:30.159228Z"
    },
    "papermill": {
     "duration": 0.017782,
     "end_time": "2023-05-02T01:45:30.163061",
     "exception": false,
     "start_time": "2023-05-02T01:45:30.145279",
     "status": "completed"
    },
    "tags": []
   },
   "outputs": [],
   "source": [
    "# ss.head(50)"
   ]
  },
  {
   "cell_type": "code",
   "execution_count": 29,
   "id": "e80f5a22",
   "metadata": {
    "execution": {
     "iopub.execute_input": "2023-05-02T01:45:30.182983Z",
     "iopub.status.busy": "2023-05-02T01:45:30.182671Z",
     "iopub.status.idle": "2023-05-02T01:45:30.205296Z",
     "shell.execute_reply": "2023-05-02T01:45:30.204276Z"
    },
    "papermill": {
     "duration": 0.035134,
     "end_time": "2023-05-02T01:45:30.207651",
     "exception": false,
     "start_time": "2023-05-02T01:45:30.172517",
     "status": "completed"
    },
    "tags": []
   },
   "outputs": [],
   "source": [
    "import sys\n",
    "sys.path.append('/kaggle/input/amp-parkinsons-disease-progression-prediction/')\n",
    "\n",
    "import amp_pd_peptide\n",
    "amp_pd_peptide.make_env.func_dict['__called__'] = False\n",
    "env = amp_pd_peptide.make_env()\n",
    "\n",
    "iter_test = env.iter_test() "
   ]
  },
  {
   "cell_type": "code",
   "execution_count": 30,
   "id": "629db86e",
   "metadata": {
    "execution": {
     "iopub.execute_input": "2023-05-02T01:45:30.229597Z",
     "iopub.status.busy": "2023-05-02T01:45:30.228003Z",
     "iopub.status.idle": "2023-05-02T01:45:30.234412Z",
     "shell.execute_reply": "2023-05-02T01:45:30.233385Z"
    },
    "papermill": {
     "duration": 0.019329,
     "end_time": "2023-05-02T01:45:30.236888",
     "exception": false,
     "start_time": "2023-05-02T01:45:30.217559",
     "status": "completed"
    },
    "tags": []
   },
   "outputs": [],
   "source": [
    "# Saving test_peptides and test_proteins\n",
    "test_peps= pd.DataFrame()\n",
    "test_pros = pd.DataFrame()\n",
    "test_1 = pd.DataFrame()"
   ]
  },
  {
   "cell_type": "code",
   "execution_count": 31,
   "id": "df5af1f4",
   "metadata": {
    "execution": {
     "iopub.execute_input": "2023-05-02T01:45:30.258161Z",
     "iopub.status.busy": "2023-05-02T01:45:30.257223Z",
     "iopub.status.idle": "2023-05-02T01:45:31.096640Z",
     "shell.execute_reply": "2023-05-02T01:45:31.095400Z"
    },
    "papermill": {
     "duration": 0.853255,
     "end_time": "2023-05-02T01:45:31.099874",
     "exception": false,
     "start_time": "2023-05-02T01:45:30.246619",
     "status": "completed"
    },
    "tags": []
   },
   "outputs": [
    {
     "name": "stdout",
     "output_type": "stream",
     "text": [
      "This version of the API is not optimized and should not be used to estimate the runtime of your code on the hidden test set.\n"
     ]
    }
   ],
   "source": [
    "for (test, test_peptides, test_proteins, sample_submission) in iter_test:\n",
    "    \n",
    "#     test_peps = pd.concat([test_peps,test_peptides],axis = 0)\n",
    "#     test_pros = pd.concat([test_pros,test_proteins],axis = 0)\n",
    "    test_1 = pd.concat([test_1,test],axis = 0)\n",
    "    \n",
    "    submission = get_predictions(target_data,test_1,sample_submission,models, target_meds)\n",
    "    submission = submission.drop_duplicates(subset=['prediction_id', 'rating'])\n",
    "    env.predict(submission)"
   ]
  },
  {
   "cell_type": "code",
   "execution_count": 32,
   "id": "6d9ffd2d",
   "metadata": {
    "execution": {
     "iopub.execute_input": "2023-05-02T01:45:31.122612Z",
     "iopub.status.busy": "2023-05-02T01:45:31.121600Z",
     "iopub.status.idle": "2023-05-02T01:45:31.126859Z",
     "shell.execute_reply": "2023-05-02T01:45:31.125818Z"
    },
    "papermill": {
     "duration": 0.018778,
     "end_time": "2023-05-02T01:45:31.129307",
     "exception": false,
     "start_time": "2023-05-02T01:45:31.110529",
     "status": "completed"
    },
    "tags": []
   },
   "outputs": [],
   "source": [
    "# submission"
   ]
  },
  {
   "cell_type": "code",
   "execution_count": 33,
   "id": "9b7f6929",
   "metadata": {
    "execution": {
     "iopub.execute_input": "2023-05-02T01:45:31.150500Z",
     "iopub.status.busy": "2023-05-02T01:45:31.150136Z",
     "iopub.status.idle": "2023-05-02T01:47:11.357493Z",
     "shell.execute_reply": "2023-05-02T01:47:11.356287Z"
    },
    "papermill": {
     "duration": 100.221302,
     "end_time": "2023-05-02T01:47:11.360508",
     "exception": false,
     "start_time": "2023-05-02T01:45:31.139206",
     "status": "completed"
    },
    "tags": []
   },
   "outputs": [
    {
     "data": {
      "application/vnd.jupyter.widget-view+json": {
       "model_id": "b58c97011fb34aed8be9fbeb865aa5ae",
       "version_major": 2,
       "version_minor": 0
      },
      "text/plain": [
       "  0%|          | 0/100 [00:00<?, ?it/s]"
      ]
     },
     "metadata": {},
     "output_type": "display_data"
    }
   ],
   "source": [
    "# Set the total value \n",
    "bar = tqdm(total = 100)\n",
    "# Add description\n",
    "bar.set_description('Progress rate')\n",
    "for i in range(100):\n",
    "    # Set the progress\n",
    "    bar.update(5)\n",
    "    time.sleep(1)"
   ]
  }
 ],
 "metadata": {
  "kernelspec": {
   "display_name": "Python 3",
   "language": "python",
   "name": "python3"
  },
  "language_info": {
   "codemirror_mode": {
    "name": "ipython",
    "version": 3
   },
   "file_extension": ".py",
   "mimetype": "text/x-python",
   "name": "python",
   "nbconvert_exporter": "python",
   "pygments_lexer": "ipython3",
   "version": "3.7.12"
  },
  "papermill": {
   "default_parameters": {},
   "duration": 122.24542,
   "end_time": "2023-05-02T01:47:12.495056",
   "environment_variables": {},
   "exception": null,
   "input_path": "__notebook__.ipynb",
   "output_path": "__notebook__.ipynb",
   "parameters": {},
   "start_time": "2023-05-02T01:45:10.249636",
   "version": "2.4.0"
  },
  "widgets": {
   "application/vnd.jupyter.widget-state+json": {
    "state": {
     "198affdacb654a8eba642b05f50ca588": {
      "model_module": "@jupyter-widgets/controls",
      "model_module_version": "1.5.0",
      "model_name": "HTMLModel",
      "state": {
       "_dom_classes": [],
       "_model_module": "@jupyter-widgets/controls",
       "_model_module_version": "1.5.0",
       "_model_name": "HTMLModel",
       "_view_count": null,
       "_view_module": "@jupyter-widgets/controls",
       "_view_module_version": "1.5.0",
       "_view_name": "HTMLView",
       "description": "",
       "description_tooltip": null,
       "layout": "IPY_MODEL_90051a9e9cea498198ac34556d743f02",
       "placeholder": "​",
       "style": "IPY_MODEL_4bf018098d8d41a198b46bba640798e1",
       "value": " 500/? [01:39&lt;00:00,  4.99it/s]"
      }
     },
     "4bf018098d8d41a198b46bba640798e1": {
      "model_module": "@jupyter-widgets/controls",
      "model_module_version": "1.5.0",
      "model_name": "DescriptionStyleModel",
      "state": {
       "_model_module": "@jupyter-widgets/controls",
       "_model_module_version": "1.5.0",
       "_model_name": "DescriptionStyleModel",
       "_view_count": null,
       "_view_module": "@jupyter-widgets/base",
       "_view_module_version": "1.2.0",
       "_view_name": "StyleView",
       "description_width": ""
      }
     },
     "621f59ac4dc8481ba8543a3e2e91922d": {
      "model_module": "@jupyter-widgets/controls",
      "model_module_version": "1.5.0",
      "model_name": "ProgressStyleModel",
      "state": {
       "_model_module": "@jupyter-widgets/controls",
       "_model_module_version": "1.5.0",
       "_model_name": "ProgressStyleModel",
       "_view_count": null,
       "_view_module": "@jupyter-widgets/base",
       "_view_module_version": "1.2.0",
       "_view_name": "StyleView",
       "bar_color": null,
       "description_width": ""
      }
     },
     "788589f84fce41c29aab0d51a3874a1b": {
      "model_module": "@jupyter-widgets/controls",
      "model_module_version": "1.5.0",
      "model_name": "DescriptionStyleModel",
      "state": {
       "_model_module": "@jupyter-widgets/controls",
       "_model_module_version": "1.5.0",
       "_model_name": "DescriptionStyleModel",
       "_view_count": null,
       "_view_module": "@jupyter-widgets/base",
       "_view_module_version": "1.2.0",
       "_view_name": "StyleView",
       "description_width": ""
      }
     },
     "7a42b6a828b844c6abfe470ce50258a8": {
      "model_module": "@jupyter-widgets/base",
      "model_module_version": "1.2.0",
      "model_name": "LayoutModel",
      "state": {
       "_model_module": "@jupyter-widgets/base",
       "_model_module_version": "1.2.0",
       "_model_name": "LayoutModel",
       "_view_count": null,
       "_view_module": "@jupyter-widgets/base",
       "_view_module_version": "1.2.0",
       "_view_name": "LayoutView",
       "align_content": null,
       "align_items": null,
       "align_self": null,
       "border": null,
       "bottom": null,
       "display": null,
       "flex": null,
       "flex_flow": null,
       "grid_area": null,
       "grid_auto_columns": null,
       "grid_auto_flow": null,
       "grid_auto_rows": null,
       "grid_column": null,
       "grid_gap": null,
       "grid_row": null,
       "grid_template_areas": null,
       "grid_template_columns": null,
       "grid_template_rows": null,
       "height": null,
       "justify_content": null,
       "justify_items": null,
       "left": null,
       "margin": null,
       "max_height": null,
       "max_width": null,
       "min_height": null,
       "min_width": null,
       "object_fit": null,
       "object_position": null,
       "order": null,
       "overflow": null,
       "overflow_x": null,
       "overflow_y": null,
       "padding": null,
       "right": null,
       "top": null,
       "visibility": null,
       "width": null
      }
     },
     "8837f2d419234e16a04b1e63bec3f6c0": {
      "model_module": "@jupyter-widgets/controls",
      "model_module_version": "1.5.0",
      "model_name": "FloatProgressModel",
      "state": {
       "_dom_classes": [],
       "_model_module": "@jupyter-widgets/controls",
       "_model_module_version": "1.5.0",
       "_model_name": "FloatProgressModel",
       "_view_count": null,
       "_view_module": "@jupyter-widgets/controls",
       "_view_module_version": "1.5.0",
       "_view_name": "ProgressView",
       "bar_style": "",
       "description": "",
       "description_tooltip": null,
       "layout": "IPY_MODEL_e5a91791b4704269bfe098929d2f4169",
       "max": 100.0,
       "min": 0.0,
       "orientation": "horizontal",
       "style": "IPY_MODEL_621f59ac4dc8481ba8543a3e2e91922d",
       "value": 100.0
      }
     },
     "90051a9e9cea498198ac34556d743f02": {
      "model_module": "@jupyter-widgets/base",
      "model_module_version": "1.2.0",
      "model_name": "LayoutModel",
      "state": {
       "_model_module": "@jupyter-widgets/base",
       "_model_module_version": "1.2.0",
       "_model_name": "LayoutModel",
       "_view_count": null,
       "_view_module": "@jupyter-widgets/base",
       "_view_module_version": "1.2.0",
       "_view_name": "LayoutView",
       "align_content": null,
       "align_items": null,
       "align_self": null,
       "border": null,
       "bottom": null,
       "display": null,
       "flex": null,
       "flex_flow": null,
       "grid_area": null,
       "grid_auto_columns": null,
       "grid_auto_flow": null,
       "grid_auto_rows": null,
       "grid_column": null,
       "grid_gap": null,
       "grid_row": null,
       "grid_template_areas": null,
       "grid_template_columns": null,
       "grid_template_rows": null,
       "height": null,
       "justify_content": null,
       "justify_items": null,
       "left": null,
       "margin": null,
       "max_height": null,
       "max_width": null,
       "min_height": null,
       "min_width": null,
       "object_fit": null,
       "object_position": null,
       "order": null,
       "overflow": null,
       "overflow_x": null,
       "overflow_y": null,
       "padding": null,
       "right": null,
       "top": null,
       "visibility": null,
       "width": null
      }
     },
     "b58c97011fb34aed8be9fbeb865aa5ae": {
      "model_module": "@jupyter-widgets/controls",
      "model_module_version": "1.5.0",
      "model_name": "HBoxModel",
      "state": {
       "_dom_classes": [],
       "_model_module": "@jupyter-widgets/controls",
       "_model_module_version": "1.5.0",
       "_model_name": "HBoxModel",
       "_view_count": null,
       "_view_module": "@jupyter-widgets/controls",
       "_view_module_version": "1.5.0",
       "_view_name": "HBoxView",
       "box_style": "",
       "children": [
        "IPY_MODEL_c5595389263b4cbe8ca7defe84b1e172",
        "IPY_MODEL_8837f2d419234e16a04b1e63bec3f6c0",
        "IPY_MODEL_198affdacb654a8eba642b05f50ca588"
       ],
       "layout": "IPY_MODEL_f2ca9595d1e148f88056c956e752f3c6"
      }
     },
     "c5595389263b4cbe8ca7defe84b1e172": {
      "model_module": "@jupyter-widgets/controls",
      "model_module_version": "1.5.0",
      "model_name": "HTMLModel",
      "state": {
       "_dom_classes": [],
       "_model_module": "@jupyter-widgets/controls",
       "_model_module_version": "1.5.0",
       "_model_name": "HTMLModel",
       "_view_count": null,
       "_view_module": "@jupyter-widgets/controls",
       "_view_module_version": "1.5.0",
       "_view_name": "HTMLView",
       "description": "",
       "description_tooltip": null,
       "layout": "IPY_MODEL_7a42b6a828b844c6abfe470ce50258a8",
       "placeholder": "​",
       "style": "IPY_MODEL_788589f84fce41c29aab0d51a3874a1b",
       "value": "Progress rate: "
      }
     },
     "e5a91791b4704269bfe098929d2f4169": {
      "model_module": "@jupyter-widgets/base",
      "model_module_version": "1.2.0",
      "model_name": "LayoutModel",
      "state": {
       "_model_module": "@jupyter-widgets/base",
       "_model_module_version": "1.2.0",
       "_model_name": "LayoutModel",
       "_view_count": null,
       "_view_module": "@jupyter-widgets/base",
       "_view_module_version": "1.2.0",
       "_view_name": "LayoutView",
       "align_content": null,
       "align_items": null,
       "align_self": null,
       "border": null,
       "bottom": null,
       "display": null,
       "flex": null,
       "flex_flow": null,
       "grid_area": null,
       "grid_auto_columns": null,
       "grid_auto_flow": null,
       "grid_auto_rows": null,
       "grid_column": null,
       "grid_gap": null,
       "grid_row": null,
       "grid_template_areas": null,
       "grid_template_columns": null,
       "grid_template_rows": null,
       "height": null,
       "justify_content": null,
       "justify_items": null,
       "left": null,
       "margin": null,
       "max_height": null,
       "max_width": null,
       "min_height": null,
       "min_width": null,
       "object_fit": null,
       "object_position": null,
       "order": null,
       "overflow": null,
       "overflow_x": null,
       "overflow_y": null,
       "padding": null,
       "right": null,
       "top": null,
       "visibility": null,
       "width": null
      }
     },
     "f2ca9595d1e148f88056c956e752f3c6": {
      "model_module": "@jupyter-widgets/base",
      "model_module_version": "1.2.0",
      "model_name": "LayoutModel",
      "state": {
       "_model_module": "@jupyter-widgets/base",
       "_model_module_version": "1.2.0",
       "_model_name": "LayoutModel",
       "_view_count": null,
       "_view_module": "@jupyter-widgets/base",
       "_view_module_version": "1.2.0",
       "_view_name": "LayoutView",
       "align_content": null,
       "align_items": null,
       "align_self": null,
       "border": null,
       "bottom": null,
       "display": null,
       "flex": null,
       "flex_flow": null,
       "grid_area": null,
       "grid_auto_columns": null,
       "grid_auto_flow": null,
       "grid_auto_rows": null,
       "grid_column": null,
       "grid_gap": null,
       "grid_row": null,
       "grid_template_areas": null,
       "grid_template_columns": null,
       "grid_template_rows": null,
       "height": null,
       "justify_content": null,
       "justify_items": null,
       "left": null,
       "margin": null,
       "max_height": null,
       "max_width": null,
       "min_height": null,
       "min_width": null,
       "object_fit": null,
       "object_position": null,
       "order": null,
       "overflow": null,
       "overflow_x": null,
       "overflow_y": null,
       "padding": null,
       "right": null,
       "top": null,
       "visibility": null,
       "width": null
      }
     }
    },
    "version_major": 2,
    "version_minor": 0
   }
  }
 },
 "nbformat": 4,
 "nbformat_minor": 5
}
